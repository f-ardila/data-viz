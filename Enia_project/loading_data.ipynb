{
 "cells": [
  {
   "cell_type": "code",
   "execution_count": 1,
   "metadata": {},
   "outputs": [],
   "source": [
    "%run /Users/eniaxhakaj/data/profiles/code/individual_profs.py"
   ]
  },
  {
   "cell_type": "code",
   "execution_count": 2,
   "metadata": {},
   "outputs": [],
   "source": [
    "import numpy as np \n",
    "import matplotlib.pyplot as plt "
   ]
  },
  {
   "cell_type": "markdown",
   "metadata": {},
   "source": [
    "## Load the profiles\n",
    "\n",
    "- dic[\"profiles\"].dtype.names -- get the different profiles. To get the density prodiles call the density function. \n",
    "\n",
    "- snap_z.txt: the snapshots with the redshifts and scale factors \n",
    "\n",
    "- Issue: connecting the profiles with thei\n",
    "\n",
    "- Stacking: \n",
    "\n",
    "    - Stack everything in units of some radius, use R200crit for inner profile \n",
    "    - Interpolate before stacking so that you get the same radius range. \n",
    "    - Median -- slightly sharper features \n",
    "    - Save middle steps!!! \n",
    "    "
   ]
  },
  {
   "cell_type": "code",
   "execution_count": 3,
   "metadata": {},
   "outputs": [
    {
     "name": "stdout",
     "output_type": "stream",
     "text": [
      "Loaded Profiles_Box_L0125_N1024_CBol_Np200_100.bhp from binary, took 6.89 seconds, saving 1.42 seconds.\n"
     ]
    }
   ],
   "source": [
    "dic = load(\"L0125\", 100)"
   ]
  },
  {
   "cell_type": "code",
   "execution_count": 5,
   "metadata": {},
   "outputs": [
    {
     "data": {
      "text/plain": [
       "dict_keys(['profiles', 'box_size', 'z', 'sim_name', 'cosmo_name', 'particle_mass'])"
      ]
     },
     "execution_count": 5,
     "metadata": {},
     "output_type": "execute_result"
    }
   ],
   "source": [
    "dic.keys()"
   ]
  },
  {
   "cell_type": "code",
   "execution_count": 7,
   "metadata": {},
   "outputs": [
    {
     "data": {
      "text/plain": [
       "('id',\n",
       " 'host_id',\n",
       " 'Rvir_cat',\n",
       " 'rs',\n",
       " 'Mvir_cat',\n",
       " 'vmax_cat',\n",
       " 'a_last_mm',\n",
       " 'x',\n",
       " 'v',\n",
       " 'Rbin',\n",
       " 'Rbin_av',\n",
       " 'mass',\n",
       " 'vr',\n",
       " 'sigmav',\n",
       " 'vc',\n",
       " 'vmax_prof',\n",
       " 'potential',\n",
       " 'R200c',\n",
       " 'M200c',\n",
       " 'R500c',\n",
       " 'M500c')"
      ]
     },
     "execution_count": 7,
     "metadata": {},
     "output_type": "execute_result"
    }
   ],
   "source": [
    "dic[\"profiles\"].dtype.names"
   ]
  },
  {
   "cell_type": "code",
   "execution_count": 8,
   "metadata": {},
   "outputs": [
    {
     "data": {
      "text/plain": [
       "array([174015014, 174552465, 174154314, ..., 175589563, 175043208,\n",
       "       175594875])"
      ]
     },
     "execution_count": 8,
     "metadata": {},
     "output_type": "execute_result"
    }
   ],
   "source": [
    "dic[\"profiles\"][\"id\"]"
   ]
  },
  {
   "cell_type": "code",
   "execution_count": null,
   "metadata": {},
   "outputs": [],
   "source": []
  }
 ],
 "metadata": {
  "kernelspec": {
   "display_name": "Python 3",
   "language": "python",
   "name": "python3"
  },
  "language_info": {
   "codemirror_mode": {
    "name": "ipython",
    "version": 3
   },
   "file_extension": ".py",
   "mimetype": "text/x-python",
   "name": "python",
   "nbconvert_exporter": "python",
   "pygments_lexer": "ipython3",
   "version": "3.6.4"
  }
 },
 "nbformat": 4,
 "nbformat_minor": 2
}
