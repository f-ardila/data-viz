{
 "cells": [
  {
   "cell_type": "code",
   "execution_count": 336,
   "metadata": {},
   "outputs": [],
   "source": [
    "import numpy as np\n",
    "import matplotlib.pyplot as plt\n",
    "import pandas as pd\n",
    "\n",
    "from astropy.io import ascii\n",
    "import ytree \n",
    "import h5py\n",
    "import itertools\n",
    "from colossus.halo.mass_so import dynamicalTime\n",
    "from colossus.cosmology import cosmology\n",
    "\n",
    "import os \n",
    "import sys \n",
    "import glob"
   ]
  },
  {
   "cell_type": "code",
   "execution_count": 44,
   "metadata": {},
   "outputs": [],
   "source": [
    "# Enia's functions\n",
    "# Working with merger trees: https://ytree.readthedocs.io/en/latest/Arbor.html\n",
    "\n",
    "def get_id_given_a(my_tree, scale_factor): \n",
    "    \n",
    "    a_idx = np.where(my_tree[\"tree\", \"scale_factor\"] == scale_factor)[0]\n",
    "    \n",
    "    if len(a_idx)==0:\n",
    "        return -1\n",
    "    \n",
    "    id_at_sfnow = my_tree[\"tree\", \"uid\"][a_idx]\n",
    "\n",
    "    return np.ndarray.flatten(id_at_sfnow)[0]\n",
    "\n",
    "def get_treeidx_given_a(my_tree, scale_factor): \n",
    "    \n",
    "    a_idx = np.where(my_tree[\"tree\", \"scale_factor\"] == scale_factor)[0]\n",
    "    \n",
    "    if len(a_idx)==0:\n",
    "        return (-1, -1)\n",
    "    \n",
    "    id_at_sfnow = my_tree[\"tree\", \"uid\"][a_idx]\n",
    "    \n",
    "    if len(id_at_sfnow) > 0 and halo in id_at_sfnow:\n",
    "        # if yes then find the tree node now, and then the tree node then \n",
    "        treeidx = np.where(halo==id_at_sfnow)[0]\n",
    "        treenow = (my_tree[\"tree\"][a_idx])[treeidx]\n",
    "        return (treeidx, treenow[0])\n",
    "    else:\n",
    "        return (-1, -1 )\n",
    "    \n",
    "def get_tree_given_a(my_tree, scale_factor): \n",
    "    a_idx = np.where(my_tree[\"prog\", \"scale_factor\"] == scale_factor)\n",
    "    \n",
    "    if len(a_idx)==0:\n",
    "        return -1 \n",
    "    \n",
    "    if len(my_tree[\"prog\"][a_idx]) > 0:\n",
    "        return my_tree[\"prog\"][a_idx][0]\n",
    "    else:\n",
    "        return -1 \n",
    "    \n",
    "def get_alltrees_given_a(my_tree, scale_factor): \n",
    "    a_idx = np.where(my_tree[\"tree\", \"scale_factor\"] == scale_factor)\n",
    "    \n",
    "    if len(a_idx)==0:\n",
    "        return -1 \n",
    "    \n",
    "    if len(my_tree[\"tree\"][a_idx]) > 0:\n",
    "        return my_tree[\"tree\"][a_idx]\n",
    "    else:\n",
    "        return -1 \n",
    "    "
   ]
  },
  {
   "cell_type": "code",
   "execution_count": 345,
   "metadata": {},
   "outputs": [],
   "source": [
    "#Felipe functions\n",
    "def get_median_and_std_profile(profiles, r_bins, rmin=-1, rmax=1, nbin=150):\n",
    "    \"\"\"Get the median profiles.\"\"\"\n",
    "    common_r_bins = np.linspace(rmin, rmax, nbin)\n",
    "    r_bins = np.log10(r_bins)\n",
    "    profiles= np.log10(profiles)\n",
    "    \n",
    "    \n",
    "    median = np.nanmedian(np.stack([np.interp(common_r_bins, r_bin[np.isfinite(profile)], profile[np.isfinite(profile)]) for r_bin, profile in zip(r_bins, profiles)]),\n",
    "                          axis=0)\n",
    "    std = np.nanstd(np.stack([np.interp(common_r_bins, r_bin[np.isfinite(profile)], profile[np.isfinite(profile)]) for r_bin, profile in zip(r_bins, profiles)]),\n",
    "                          axis=0)\n",
    "\n",
    "    return [common_r_bins, median, std]\n"
   ]
  },
  {
   "cell_type": "code",
   "execution_count": 2,
   "metadata": {},
   "outputs": [],
   "source": [
    "#Benedikt's code\n",
    "%run /Users/fardila/Documents/GitHub/data-viz/Enia_project/code/individual_profs.py"
   ]
  },
  {
   "cell_type": "code",
   "execution_count": 3,
   "metadata": {},
   "outputs": [
    {
     "name": "stdout",
     "output_type": "stream",
     "text": [
      "Loaded Profiles_Box_L0125_N1024_CBol_Np200_100.bhp from pickle, took 0.83 seconds\n",
      "Loaded Profiles_Box_L0125_N1024_CBol_Np200_093.bhp from pickle, took 0.80 seconds\n",
      "Loaded Profiles_Box_L0125_N1024_CBol_Np200_087.bhp from pickle, took 0.81 seconds\n"
     ]
    }
   ],
   "source": [
    "dic_100 = load(\"L0125\",100)\n",
    "dic_93 = load(\"L0125\",93)\n",
    "dic_87 = load(\"L0125\",87)"
   ]
  },
  {
   "cell_type": "code",
   "execution_count": 4,
   "metadata": {},
   "outputs": [
    {
     "data": {
      "text/plain": [
       "dict_keys(['profiles', 'box_size', 'z', 'sim_name', 'cosmo_name', 'particle_mass'])"
      ]
     },
     "execution_count": 4,
     "metadata": {},
     "output_type": "execute_result"
    }
   ],
   "source": [
    "dic_100.keys()"
   ]
  },
  {
   "cell_type": "code",
   "execution_count": 4,
   "metadata": {},
   "outputs": [
    {
     "name": "stdout",
     "output_type": "stream",
     "text": [
      "0.0 0.2375289648771286 0.48555418848991394\n"
     ]
    }
   ],
   "source": [
    "z_100, z_93, z_87 = dic_100['z'], dic_93['z'], dic_87['z']\n",
    "print(z_100, z_93, z_87)"
   ]
  },
  {
   "cell_type": "code",
   "execution_count": 26,
   "metadata": {},
   "outputs": [
    {
     "data": {
      "text/plain": [
       "136280315.92816114"
      ]
     },
     "execution_count": 26,
     "metadata": {},
     "output_type": "execute_result"
    }
   ],
   "source": [
    "dic[\"particle_mass\"]"
   ]
  },
  {
   "cell_type": "code",
   "execution_count": 7,
   "metadata": {},
   "outputs": [
    {
     "data": {
      "text/plain": [
       "('id',\n",
       " 'host_id',\n",
       " 'Rvir_cat',\n",
       " 'rs',\n",
       " 'Mvir_cat',\n",
       " 'vmax_cat',\n",
       " 'a_last_mm',\n",
       " 'x',\n",
       " 'v',\n",
       " 'Rbin',\n",
       " 'Rbin_av',\n",
       " 'mass',\n",
       " 'vr',\n",
       " 'sigmav',\n",
       " 'vc',\n",
       " 'vmax_prof',\n",
       " 'potential',\n",
       " 'R200c',\n",
       " 'M200c',\n",
       " 'R500c',\n",
       " 'M500c')"
      ]
     },
     "execution_count": 7,
     "metadata": {},
     "output_type": "execute_result"
    }
   ],
   "source": [
    "dic[\"profiles\"].dtype.names"
   ]
  },
  {
   "cell_type": "code",
   "execution_count": 8,
   "metadata": {},
   "outputs": [
    {
     "data": {
      "text/plain": [
       "array([-1, -1, -1, ..., -1, -1, -1])"
      ]
     },
     "execution_count": 8,
     "metadata": {},
     "output_type": "execute_result"
    }
   ],
   "source": [
    "dic_93[\"profiles\"][\"host_id\"]"
   ]
  },
  {
   "cell_type": "code",
   "execution_count": 11,
   "metadata": {},
   "outputs": [
    {
     "data": {
      "text/plain": [
       "(array([     0.,      0.,      0.,      0.,      0., 185333.,      0.,\n",
       "             0.,      0.,      0.]),\n",
       " array([-1.5, -1.4, -1.3, -1.2, -1.1, -1. , -0.9, -0.8, -0.7, -0.6, -0.5]),\n",
       " <a list of 10 Patch objects>)"
      ]
     },
     "execution_count": 11,
     "metadata": {},
     "output_type": "execute_result"
    },
    {
     "data": {
      "image/png": "[encoded data removed]",
      "text/plain": [
       "<Figure size 432x288 with 1 Axes>"
      ]
     },
     "metadata": {
      "needs_background": "light"
     },
     "output_type": "display_data"
    }
   ],
   "source": [
    "plt.hist(dic_87[\"profiles\"][\"host_id\"])"
   ]
  },
  {
   "cell_type": "markdown",
   "metadata": {},
   "source": [
    "all hosts"
   ]
  },
  {
   "cell_type": "code",
   "execution_count": 8,
   "metadata": {},
   "outputs": [
    {
     "data": {
      "text/plain": [
       "array([174015014, 174552465, 174154314, ..., 175589563, 175043208,\n",
       "       175594875])"
      ]
     },
     "execution_count": 8,
     "metadata": {},
     "output_type": "execute_result"
    }
   ],
   "source": [
    "dic[\"profiles\"][\"id\"]"
   ]
  },
  {
   "cell_type": "code",
   "execution_count": 9,
   "metadata": {},
   "outputs": [
    {
     "data": {
      "text/plain": [
       "array([[-1.43341218e+06, -1.42398674e+06, -1.41396395e+06, ...,\n",
       "        -3.05963290e+04, -1.60066774e+04,  0.00000000e+00],\n",
       "       [-1.66513897e+06, -1.64915025e+06, -1.63253577e+06, ...,\n",
       "        -5.09463114e+04, -2.53844480e+04,  0.00000000e+00],\n",
       "       [-1.48592547e+06, -1.46580161e+06, -1.44515463e+06, ...,\n",
       "        -2.31513027e+04, -1.18586370e+04,  0.00000000e+00],\n",
       "       ...,\n",
       "       [-5.23818546e+04, -5.22598185e+04, -5.21284618e+04, ...,\n",
       "        -6.10041287e+03, -3.16572388e+03,  0.00000000e+00],\n",
       "       [-1.58439295e+04, -1.51532714e+04, -1.44147041e+04, ...,\n",
       "        -4.94135982e+02, -2.68302769e+02,  0.00000000e+00],\n",
       "       [-7.62712071e+04, -7.58572529e+04, -7.57858401e+04, ...,\n",
       "        -6.62725611e+02, -3.47015740e+02,  0.00000000e+00]])"
      ]
     },
     "execution_count": 9,
     "metadata": {},
     "output_type": "execute_result"
    }
   ],
   "source": [
    "dic[\"profiles\"][\"potential\"]"
   ]
  },
  {
   "cell_type": "code",
   "execution_count": 11,
   "metadata": {},
   "outputs": [
    {
     "data": {
      "text/plain": [
       "80"
      ]
     },
     "execution_count": 11,
     "metadata": {},
     "output_type": "execute_result"
    }
   ],
   "source": [
    "len(dic[\"profiles\"][\"potential\"][0])"
   ]
  },
  {
   "cell_type": "code",
   "execution_count": 12,
   "metadata": {},
   "outputs": [
    {
     "data": {
      "text/plain": [
       "175038"
      ]
     },
     "execution_count": 12,
     "metadata": {},
     "output_type": "execute_result"
    }
   ],
   "source": [
    "len(dic[\"profiles\"][\"potential\"])"
   ]
  },
  {
   "cell_type": "code",
   "execution_count": 13,
   "metadata": {},
   "outputs": [
    {
     "data": {
      "text/plain": [
       "array([[4.04231491e+01, 4.32272034e+01, 4.62257614e+01, ...,\n",
       "        7.06978564e+03, 7.56019824e+03, 8.08463037e+03],\n",
       "       [3.95550003e+01, 4.22988281e+01, 4.52329903e+01, ...,\n",
       "        6.91795068e+03, 7.39783105e+03, 7.91100000e+03],\n",
       "       [3.81445007e+01, 4.07904892e+01, 4.36200180e+01, ...,\n",
       "        6.67126221e+03, 7.13403076e+03, 7.62890039e+03],\n",
       "       ...,\n",
       "       [2.85489988e+00, 3.05293703e+00, 3.26471162e+00, ...,\n",
       "        4.99306213e+02, 5.33941833e+02, 5.70979980e+02],\n",
       "       [2.82994986e+00, 3.02625632e+00, 3.23618007e+00, ...,\n",
       "        4.94942596e+02, 5.29275513e+02, 5.65989990e+02],\n",
       "       [2.54425001e+00, 2.72073793e+00, 2.90946865e+00, ...,\n",
       "        4.44975220e+02, 4.75842041e+02, 5.08849976e+02]])"
      ]
     },
     "execution_count": 13,
     "metadata": {},
     "output_type": "execute_result"
    }
   ],
   "source": [
    "dic[\"profiles\"][\"Rbin\"]"
   ]
  },
  {
   "cell_type": "code",
   "execution_count": 14,
   "metadata": {},
   "outputs": [
    {
     "data": {
      "text/plain": [
       "array([[2.53962173e+01, 4.18668861e+01, 4.47475891e+01, ...,\n",
       "        6.84989453e+03, 7.34663867e+03, 7.79609814e+03],\n",
       "       [2.50229168e+01, 4.09311752e+01, 4.37649231e+01, ...,\n",
       "        6.69080566e+03, 7.16351807e+03, 7.66271777e+03],\n",
       "       [2.29419403e+01, 3.94602280e+01, 4.21799698e+01, ...,\n",
       "        6.46497412e+03, 6.90741699e+03, 7.37540527e+03],\n",
       "       ...,\n",
       "       [1.62901187e+00, 2.92643571e+00, 3.07467675e+00, ...,\n",
       "        4.82817047e+02, 5.16144409e+02, 5.52791809e+02],\n",
       "       [1.89954031e+00, 0.00000000e+00, 0.00000000e+00, ...,\n",
       "        4.80078278e+02, 5.13770630e+02, 5.49054321e+02],\n",
       "       [2.14602733e+00, 0.00000000e+00, 2.78360009e+00, ...,\n",
       "        4.30788696e+02, 4.60752136e+02, 4.92966034e+02]])"
      ]
     },
     "execution_count": 14,
     "metadata": {},
     "output_type": "execute_result"
    }
   ],
   "source": [
    "dic[\"profiles\"][\"Rbin_av\"]"
   ]
  },
  {
   "cell_type": "markdown",
   "metadata": {},
   "source": [
    "## compute mass accretion rates  "
   ]
  },
  {
   "cell_type": "code",
   "execution_count": 45,
   "metadata": {},
   "outputs": [],
   "source": [
    "treedir = \"/Users/fardila/Documents/Data/data_viz/Enia_project/trees/\"\n",
    "treefile = 'tree_0_0_1.dat'"
   ]
  },
  {
   "cell_type": "code",
   "execution_count": 46,
   "metadata": {},
   "outputs": [
    {
     "name": "stdout",
     "output_type": "stream",
     "text": [
      "Performance will be improved by saving this arbor with \"save_arbor\" and reloading:\n",
      "\t>>> a = ytree.load(\"/Users/fardila/Documents/Data/data_viz/Enia_project/trees/tree_0_0_1.dat\")\n",
      "\t>>> fn = a.save_arbor()\n",
      "\t>>> a = ytree.load(fn)\n"
     ]
    }
   ],
   "source": [
    "a = ytree.load(treedir+treefile)\n",
    "a.set_selector(\"max_field_value\", \"mvir\") # the first progenitor descendant will be the most massive one"
   ]
  },
  {
   "cell_type": "code",
   "execution_count": 47,
   "metadata": {},
   "outputs": [],
   "source": [
    "cosmo = cosmology.setCosmology('planck13') \n",
    "\n",
    "## get dynamical time \n",
    "z_now = z_100\n",
    "sf_now = 1./(1+z_now)\n",
    "dyntime = dynamicalTime(z_now, \"200m\", definition='crossing')*1e9 # in years\n",
    "dyntime = dyntime/2. #just to inscrease number of snapshots\n",
    "\n",
    "# ----- FIND SF 1 TDYN AGO USING SPARTA'S METHOD -------\n",
    "\n",
    "# ## time now \n",
    "time_snapshot = cosmo.age(z_now, inverse = False) *1e9\n",
    "\n",
    "# ## time back 1tdyn\n",
    "time_back1dyn = time_snapshot - dyntime\n",
    "\n",
    "## scale factor itdyn ago\n",
    "z_back1dyn = cosmo.age(time_back1dyn/1e9, inverse = True) # with inverse = True we compute z(t)\n",
    "sf_back1dyn = 1/(1+z_back1dyn)\n"
   ]
  },
  {
   "cell_type": "code",
   "execution_count": 48,
   "metadata": {},
   "outputs": [
    {
     "data": {
      "text/plain": [
       "0.827368334038341"
      ]
     },
     "execution_count": 48,
     "metadata": {},
     "output_type": "execute_result"
    }
   ],
   "source": [
    "sf_back1dyn"
   ]
  },
  {
   "cell_type": "markdown",
   "metadata": {},
   "source": [
    "find corresponding snapshot"
   ]
  },
  {
   "cell_type": "code",
   "execution_count": 49,
   "metadata": {},
   "outputs": [
    {
     "name": "stdout",
     "output_type": "stream",
     "text": [
      "94 93 0.8081\n"
     ]
    }
   ],
   "source": [
    "snap_z_table = ascii.read('snap_z.txt', names=['snap', 'a', 'z'])\n",
    "snapshots_we_have=[100,93,87]\n",
    "\n",
    "closest_snap_to_back1dyn = snap_z_table[np.argmin(abs(snap_z_table['a'] - sf_back1dyn))]['snap']\n",
    "snapshot_then = snapshots_we_have[np.argmin(abs(snapshots_we_have - closest_snap_to_back1dyn))]\n",
    "\n",
    "sf_then = snap_z_table[snap_z_table['snap'] == snapshot_then]['a'][0]\n",
    "print(closest_snap_to_back1dyn, snapshot_then,sf_then )"
   ]
  },
  {
   "cell_type": "code",
   "execution_count": 50,
   "metadata": {},
   "outputs": [
    {
     "name": "stderr",
     "output_type": "stream",
     "text": [
      "Loading tree roots: 100%|██████████| 8214616832/8214616832 [00:10<00:00, 817510745.61it/s] \n"
     ]
    }
   ],
   "source": [
    "a_reduced=a[:100]\n",
    "a_reduced=a"
   ]
  },
  {
   "cell_type": "code",
   "execution_count": 51,
   "metadata": {},
   "outputs": [
    {
     "name": "stdout",
     "output_type": "stream",
     "text": [
      "Finished collecting all of my halos\n"
     ]
    }
   ],
   "source": [
    "ID_now_tree = []\n",
    "Idx_now_tree = []\n",
    "\n",
    "# collect all the halost for the given scale factor in the tree \n",
    "for itree, tree in enumerate(a_reduced): # a == list of trees for the for loop \n",
    "    id_now = get_id_given_a(tree, sf_now) # given_a means given sf \n",
    "    \n",
    "    if id_now == -1: continue \n",
    "\n",
    "    ID_now_tree.append(id_now)\n",
    "    Idx_now_tree.append(itree)\n",
    "\n",
    "        \n",
    "print (\"Finished collecting all of my halos\")       "
   ]
  },
  {
   "cell_type": "code",
   "execution_count": 52,
   "metadata": {},
   "outputs": [],
   "source": [
    "Idx_now_tree = np.array(Idx_now_tree)\n",
    "ID_now_tree = np.array(ID_now_tree)\n",
    "\n",
    "ID_then = []\n",
    "ID_now = []\n",
    "Gamma = []\n",
    "M200b_now = []\n",
    "M200b_then = []"
   ]
  },
  {
   "cell_type": "code",
   "execution_count": 53,
   "metadata": {},
   "outputs": [],
   "source": [
    "#ids of halos in catalog \n",
    "ID_now_cat = dic_100[\"profiles\"][\"id\"]"
   ]
  },
  {
   "cell_type": "code",
   "execution_count": 54,
   "metadata": {},
   "outputs": [],
   "source": [
    "for ihalo, halo in enumerate(ID_now_cat): \n",
    "    \n",
    "    # find in which tree this halo lies\n",
    "    idx_all_tree = np.where(ID_now_tree == halo)[0]\n",
    "    \n",
    "#     print (idx_all_tree)\n",
    "    if not np.isscalar(idx_all_tree):\n",
    "        if len(idx_all_tree) == 0: \n",
    "            continue \n",
    "        else: \n",
    "            idx_all_tree = idx_all_tree[0] # get the most massive descendant/progenitor to be the main one \n",
    "    \n",
    "    idx_tree = Idx_now_tree[idx_all_tree]\n",
    "    \n",
    "#     print (Idx_now_tree[idx_all_tree], ID_now_tree[idx_all_tree])\n",
    "    \n",
    "    Treenow = get_alltrees_given_a(a[idx_tree], sf_now)\n",
    "    \n",
    "    for treenow in Treenow:\n",
    "        treethen = get_tree_given_a(treenow, sf_then)\n",
    "    \n",
    "        if treethen == -1: \n",
    "            continue\n",
    "\n",
    "        # get the id of the tree node then \n",
    "        id_then = treethen[\"uid\"]\n",
    "        id_now = treenow[\"uid\"]\n",
    "        # get m200b of the tree node then \n",
    "        m200b_then = float(treethen[\"M200b\"])\n",
    "\n",
    "        # get m200b now \n",
    "        m200b_now = float(treenow[\"M200b\"])\n",
    "\n",
    "        # compute gamma \n",
    "        gamma = np.log10(m200b_now/m200b_then)/np.log10(sf_now/sf_then)\n",
    "\n",
    "        Gamma.append(gamma)\n",
    "        ID_then.append(id_then)\n",
    "        ID_now.append(id_now)\n",
    "        M200b_now.append(m200b_now)\n",
    "        M200b_then.append(m200b_then)"
   ]
  },
  {
   "cell_type": "markdown",
   "metadata": {},
   "source": [
    "why don't all halos get an accretion rate?\n"
   ]
  },
  {
   "cell_type": "code",
   "execution_count": 55,
   "metadata": {},
   "outputs": [],
   "source": [
    "ID_then = np.array(ID_then)\n",
    "ID_now = np.array(ID_now)\n",
    "Gamma = np.array(Gamma)\n",
    "M200b_now = np.array(M200b_now)\n",
    "M200b_then = np.array(M200b_then)"
   ]
  },
  {
   "cell_type": "code",
   "execution_count": 41,
   "metadata": {},
   "outputs": [],
   "source": [
    "median_gamma = np.median(Gamma)\n",
    "std_gamma = np.std(Gamma)"
   ]
  },
  {
   "cell_type": "code",
   "execution_count": 42,
   "metadata": {},
   "outputs": [
    {
     "data": {
      "text/plain": [
       "Text(0.5, 0, 'Gamma')"
      ]
     },
     "execution_count": 42,
     "metadata": {},
     "output_type": "execute_result"
    },
    {
     "data": {
      "image/png": "[encoded data removed]",
      "text/plain": [
       "<Figure size 432x288 with 1 Axes>"
      ]
     },
     "metadata": {
      "needs_background": "light"
     },
     "output_type": "display_data"
    }
   ],
   "source": [
    "plt.hist(Gamma, bins=100)\n",
    "plt.axvline(median_gamma+std_gamma, c='r')\n",
    "plt.axvline(median_gamma-std_gamma, c='r' )\n",
    "plt.xlabel('Gamma')"
   ]
  },
  {
   "cell_type": "code",
   "execution_count": 75,
   "metadata": {},
   "outputs": [
    {
     "name": "stderr",
     "output_type": "stream",
     "text": [
      "/Users/fardila/anaconda2/envs/colossus/lib/python3.7/site-packages/ipykernel_launcher.py:4: FutureWarning: Using a non-tuple sequence for multidimensional indexing is deprecated; use `arr[tuple(seq)]` instead of `arr[seq]`. In the future this will be interpreted as an array index, `arr[np.array(seq)]`, which will result either in an error or a different result.\n",
      "  after removing the cwd from sys.path.\n",
      "/Users/fardila/anaconda2/envs/colossus/lib/python3.7/site-packages/ipykernel_launcher.py:5: FutureWarning: Using a non-tuple sequence for multidimensional indexing is deprecated; use `arr[tuple(seq)]` instead of `arr[seq]`. In the future this will be interpreted as an array index, `arr[np.array(seq)]`, which will result either in an error or a different result.\n",
      "  \"\"\"\n"
     ]
    }
   ],
   "source": [
    "high_gamma_mask = [Gamma>median_gamma+std_gamma]\n",
    "low_gamma_mask = [Gamma<median_gamma-std_gamma]\n",
    "\n",
    "ID_now_highG = ID_now[high_gamma_mask]\n",
    "ID_now_lowG = ID_now[low_gamma_mask]"
   ]
  },
  {
   "cell_type": "code",
   "execution_count": 48,
   "metadata": {},
   "outputs": [
    {
     "data": {
      "text/plain": [
       "175038"
      ]
     },
     "execution_count": 48,
     "metadata": {},
     "output_type": "execute_result"
    }
   ],
   "source": [
    "len(dic_100[\"profiles\"]['Rbin'])"
   ]
  },
  {
   "cell_type": "code",
   "execution_count": 76,
   "metadata": {},
   "outputs": [],
   "source": [
    "rho = density(dic_100[\"profiles\"])\n",
    "Rbin = dic_100[\"profiles\"]['Rbin']\n",
    "#scale by r200crit\n",
    "R200c = dic_100[\"profiles\"]['R200c']\n",
    "Rbin_scaled = np.array([r[0]/r[1] for r in zip(Rbin,R200c)])\n",
    "\n",
    "highG_profile_ID = [np.where(ID_now_cat == highG_ID)[0][0] for highG_ID in ID_now_highG]\n",
    "lowG_profile_ID = [np.where(ID_now_cat == lowG_ID)[0][0] for lowG_ID in ID_now_lowG]"
   ]
  },
  {
   "cell_type": "code",
   "execution_count": 147,
   "metadata": {},
   "outputs": [],
   "source": [
    "median_r_highG, median_rho_highG, std_rho_highG = get_median_and_std_profile(rho[highG_profile_ID[:100]], Rbin_scaled[highG_profile_ID[:100]])\n",
    "median_r_lowG, median_rho_lowG, std_rho_lowG = get_median_and_std_profile(rho[lowG_profile_ID[:100]], Rbin_scaled[lowG_profile_ID[:100]])\n"
   ]
  },
  {
   "cell_type": "code",
   "execution_count": 148,
   "metadata": {},
   "outputs": [
    {
     "data": {
      "text/plain": [
       "array([-1.        , -0.98657718, -0.97315436, -0.95973154, -0.94630872,\n",
       "       -0.93288591, -0.91946309, -0.90604027, -0.89261745, -0.87919463,\n",
       "       -0.86577181, -0.85234899, -0.83892617, -0.82550336, -0.81208054,\n",
       "       -0.79865772, -0.7852349 , -0.77181208, -0.75838926, -0.74496644,\n",
       "       -0.73154362, -0.71812081, -0.70469799, -0.69127517, -0.67785235,\n",
       "       -0.66442953, -0.65100671, -0.63758389, -0.62416107, -0.61073826,\n",
       "       -0.59731544, -0.58389262, -0.5704698 , -0.55704698, -0.54362416,\n",
       "       -0.53020134, -0.51677852, -0.5033557 , -0.48993289, -0.47651007,\n",
       "       -0.46308725, -0.44966443, -0.43624161, -0.42281879, -0.40939597,\n",
       "       -0.39597315, -0.38255034, -0.36912752, -0.3557047 , -0.34228188,\n",
       "       -0.32885906, -0.31543624, -0.30201342, -0.2885906 , -0.27516779,\n",
       "       -0.26174497, -0.24832215, -0.23489933, -0.22147651, -0.20805369,\n",
       "       -0.19463087, -0.18120805, -0.16778523, -0.15436242, -0.1409396 ,\n",
       "       -0.12751678, -0.11409396, -0.10067114, -0.08724832, -0.0738255 ,\n",
       "       -0.06040268, -0.04697987, -0.03355705, -0.02013423, -0.00671141,\n",
       "        0.00671141,  0.02013423,  0.03355705,  0.04697987,  0.06040268,\n",
       "        0.0738255 ,  0.08724832,  0.10067114,  0.11409396,  0.12751678,\n",
       "        0.1409396 ,  0.15436242,  0.16778523,  0.18120805,  0.19463087,\n",
       "        0.20805369,  0.22147651,  0.23489933,  0.24832215,  0.26174497,\n",
       "        0.27516779,  0.2885906 ,  0.30201342,  0.31543624,  0.32885906,\n",
       "        0.34228188,  0.3557047 ,  0.36912752,  0.38255034,  0.39597315,\n",
       "        0.40939597,  0.42281879,  0.43624161,  0.44966443,  0.46308725,\n",
       "        0.47651007,  0.48993289,  0.5033557 ,  0.51677852,  0.53020134,\n",
       "        0.54362416,  0.55704698,  0.5704698 ,  0.58389262,  0.59731544,\n",
       "        0.61073826,  0.62416107,  0.63758389,  0.65100671,  0.66442953,\n",
       "        0.67785235,  0.69127517,  0.70469799,  0.71812081,  0.73154362,\n",
       "        0.74496644,  0.75838926,  0.77181208,  0.7852349 ,  0.79865772,\n",
       "        0.81208054,  0.82550336,  0.83892617,  0.85234899,  0.86577181,\n",
       "        0.87919463,  0.89261745,  0.90604027,  0.91946309,  0.93288591,\n",
       "        0.94630872,  0.95973154,  0.97315436,  0.98657718,  1.        ])"
      ]
     },
     "execution_count": 148,
     "metadata": {},
     "output_type": "execute_result"
    }
   ],
   "source": [
    "median_r_lowG"
   ]
  },
  {
   "cell_type": "code",
   "execution_count": 141,
   "metadata": {},
   "outputs": [
    {
     "data": {
      "text/plain": [
       "array([0.10970841, 0.11035217, 0.1110488 , 0.10980252, 0.10651333,\n",
       "       0.10339841, 0.10235305, 0.10105006, 0.10164579, 0.10293255,\n",
       "       0.10105029, 0.09607918, 0.09175469, 0.08953512, 0.08910596,\n",
       "       0.09094272, 0.09215802, 0.09017091, 0.08796767, 0.08593619,\n",
       "       0.08232421, 0.07836222, 0.07600987, 0.07448033, 0.07341995,\n",
       "       0.07268744, 0.07229462, 0.07009432, 0.06914645, 0.06988346,\n",
       "       0.07093434, 0.07231983, 0.07423734, 0.07425113, 0.07353066,\n",
       "       0.07254411, 0.07251256, 0.07307409, 0.07445434, 0.07672881,\n",
       "       0.07798468, 0.07791456, 0.07726268, 0.07623401, 0.07502937,\n",
       "       0.07343066, 0.07209642, 0.07215601, 0.07205098, 0.07027321,\n",
       "       0.06850743, 0.06910675, 0.06954386, 0.06891578, 0.06922184,\n",
       "       0.06731997, 0.06480022, 0.06375519, 0.06349408, 0.06395387,\n",
       "       0.06592797, 0.0687029 , 0.0710686 , 0.07349442, 0.07539376,\n",
       "       0.07998567, 0.08192108, 0.08462926, 0.08650109, 0.08803175,\n",
       "       0.08974281, 0.09220142, 0.095715  , 0.09704067, 0.1013485 ,\n",
       "       0.10397331, 0.10533288, 0.1095555 , 0.11874161, 0.12972571,\n",
       "       0.13738341, 0.14448634, 0.15166173, 0.16146125, 0.1753995 ,\n",
       "       0.18642921, 0.19586226, 0.20599387, 0.21456327, 0.22236574,\n",
       "       0.23216356, 0.24151652, 0.24955261, 0.25537824, 0.26308871,\n",
       "       0.26386077, 0.26366164, 0.26766776, 0.27407626, 0.2785658 ,\n",
       "       0.28059032, 0.28242573, 0.2876638 , 0.2919027 , 0.29130283,\n",
       "       0.29000518, 0.28849442, 0.2921132 , 0.2979375 , 0.30554416,\n",
       "       0.30970192, 0.30951569, 0.30686079, 0.30523401, 0.3087    ,\n",
       "       0.31690193, 0.31843441, 0.31818483, 0.32244031, 0.32609085,\n",
       "       0.33890882, 0.34846181, 0.34637498, 0.33880082, 0.3400024 ,\n",
       "       0.34484035, 0.34460775, 0.33259032, 0.32127276, 0.32029956,\n",
       "       0.31624517, 0.31257654, 0.30855654, 0.30326983, 0.30152846,\n",
       "       0.30261135, 0.29791009, 0.30339676, 0.31299112, 0.32394745,\n",
       "       0.32799541, 0.33575147, 0.33651922, 0.33990266, 0.34282826,\n",
       "       0.33704388, 0.32865706, 0.31813943, 0.31497674, 0.31316444])"
      ]
     },
     "execution_count": 141,
     "metadata": {},
     "output_type": "execute_result"
    }
   ],
   "source": [
    "std_rho_highG"
   ]
  },
  {
   "cell_type": "code",
   "execution_count": 155,
   "metadata": {},
   "outputs": [
    {
     "data": {
      "image/png": "[encoded data removed]",
      "text/plain": [
       "<Figure size 432x288 with 1 Axes>"
      ]
     },
     "metadata": {
      "needs_background": "light"
     },
     "output_type": "display_data"
    }
   ],
   "source": [
    "# plt.plot(np.log10(Rbin_scaled[highG_profile_ID[:100]].T), np.log10(rho[highG_profile_ID[:100]].T), c='r', alpha=0.05)\n",
    "# plt.plot(np.log10(Rbin_scaled[lowG_profile_ID[:100]].T), np.log10(rho[lowG_profile_ID[:100]].T), c='b', alpha=0.05)\n",
    "plt.plot(median_r_highG, median_rho_highG, c='r', linewidth=2, label='High Gamma')\n",
    "plt.plot(median_r_lowG, median_rho_lowG, c='b', linewidth=2, label='Low Gamma')\n",
    "\n",
    "plt.fill_between(median_r_highG, median_rho_highG+std_rho_highG, median_rho_highG-std_rho_highG,\n",
    "                 alpha=0.3, color='r')\n",
    "plt.fill_between(median_r_highG, median_rho_highG+2*std_rho_highG, median_rho_highG-2*std_rho_highG,\n",
    "                 alpha=0.1, color='r')\n",
    "plt.fill_between(median_r_lowG, median_rho_lowG+std_rho_lowG, median_rho_lowG-std_rho_lowG,\n",
    "                 alpha=0.3, color='b')\n",
    "plt.fill_between(median_r_lowG, median_rho_lowG+2*std_rho_lowG, median_rho_lowG-2*std_rho_lowG,\n",
    "                 alpha=0.1, color='b')\n",
    "\n",
    "plt.xlabel('log(R / R200c)')\n",
    "plt.ylabel('log(Density)')\n",
    "plt.legend()\n",
    "plt.show()"
   ]
  },
  {
   "cell_type": "markdown",
   "metadata": {},
   "source": [
    "## get nus"
   ]
  },
  {
   "cell_type": "code",
   "execution_count": 12,
   "metadata": {},
   "outputs": [],
   "source": [
    "from colossus.lss.peaks import peakHeight\n",
    "\n",
    "nu = peakHeight(dic_100[\"profiles\"]['M200c'], z_100)"
   ]
  },
  {
   "cell_type": "code",
   "execution_count": 16,
   "metadata": {},
   "outputs": [
    {
     "data": {
      "image/png": "[encoded data removed]",
      "text/plain": [
       "<Figure size 432x288 with 1 Axes>"
      ]
     },
     "metadata": {
      "needs_background": "light"
     },
     "output_type": "display_data"
    }
   ],
   "source": [
    "plt.hist(nu, bins =100)\n",
    "plt.show()"
   ]
  },
  {
   "cell_type": "code",
   "execution_count": 17,
   "metadata": {},
   "outputs": [
    {
     "data": {
      "image/png": "[encoded data removed]",
      "text/plain": [
       "<Figure size 432x288 with 1 Axes>"
      ]
     },
     "metadata": {
      "needs_background": "light"
     },
     "output_type": "display_data"
    }
   ],
   "source": [
    "plt.hist(nu[nu>1], bins =100)\n",
    "plt.show()"
   ]
  },
  {
   "cell_type": "markdown",
   "metadata": {},
   "source": [
    "## plot Gamma in bins of nu "
   ]
  },
  {
   "cell_type": "code",
   "execution_count": 62,
   "metadata": {},
   "outputs": [],
   "source": [
    "nus_with_Gamma = np.array([nu[np.where(ID_now_cat == id)[0][0]] for id in ID_now])"
   ]
  },
  {
   "cell_type": "code",
   "execution_count": 103,
   "metadata": {},
   "outputs": [
    {
     "data": {
      "text/plain": [
       "21195"
      ]
     },
     "execution_count": 103,
     "metadata": {},
     "output_type": "execute_result"
    }
   ],
   "source": [
    "np.sum(tuple(]nus_with_Gamma<nu_low))"
   ]
  },
  {
   "cell_type": "code",
   "execution_count": 104,
   "metadata": {},
   "outputs": [
    {
     "data": {
      "text/plain": [
       "21195"
      ]
     },
     "execution_count": 104,
     "metadata": {},
     "output_type": "execute_result"
    }
   ],
   "source": [
    "np.sum([nus_with_Gamma<nu_low])"
   ]
  },
  {
   "cell_type": "code",
   "execution_count": 157,
   "metadata": {},
   "outputs": [
    {
     "data": {
      "text/plain": [
       "array([[False, False, False, ...,  True,  True,  True]])"
      ]
     },
     "execution_count": 157,
     "metadata": {},
     "output_type": "execute_result"
    }
   ],
   "source": [
    "np.array([nus_with_Gamma<nu_low])"
   ]
  },
  {
   "cell_type": "code",
   "execution_count": 159,
   "metadata": {
    "scrolled": true
   },
   "outputs": [],
   "source": [
    "nu_low = 0.75\n",
    "nu_high = 1.0\n",
    "\n",
    "lowNu_mask = np.array([nus_with_Gamma<nu_low])[0]\n",
    "midNu_mask = np.array([(nus_with_Gamma>nu_low) & (nus_with_Gamma<nu_high)])[0]\n",
    "highNu_mask = np.array([nus_with_Gamma>nu_high])[0]\n",
    "\n",
    "lowNu_Gammas = Gamma[lowNu_mask]\n",
    "midNu_Gammas = Gamma[midNu_mask]\n",
    "highNu_Gammas = Gamma[highNu_mask]"
   ]
  },
  {
   "cell_type": "code",
   "execution_count": 107,
   "metadata": {},
   "outputs": [
    {
     "data": {
      "image/png": "[encoded data removed]",
      "text/plain": [
       "<Figure size 432x864 with 3 Axes>"
      ]
     },
     "metadata": {
      "needs_background": "light"
     },
     "output_type": "display_data"
    }
   ],
   "source": [
    "# plt.figure(figsize=[30,15])\n",
    "fig, axes = plt.subplots(3,1, sharex = True, figsize=[6,12])\n",
    "\n",
    "axes[0].hist(lowNu_Gammas, bins=50)\n",
    "axes[0].text(0.7,0.8, 'nu < {0}'.format(nu_low), transform=axes[0].transAxes)\n",
    "\n",
    "axes[1].hist(midNu_Gammas, bins=30)\n",
    "axes[1].text(0.7,0.8, '{0} < nu < {1}'.format(nu_low, nu_high), transform=axes[1].transAxes)\n",
    "\n",
    "axes[2].hist(highNu_Gammas, bins=30)\n",
    "axes[2].text(0.7,0.8, '{0} < nu'.format(nu_high), transform=axes[2].transAxes)\n",
    "\n",
    "# [ax.text(0.8,0.8, 'nu = ') for ax in axes]\n",
    "[ax.axvline(0, color='r') for ax in axes]\n",
    "[ax.axvline(2.5, color='cyan') for ax in axes]\n",
    "\n",
    "plt.xlabel('Gamma')\n",
    "plt.show()"
   ]
  },
  {
   "cell_type": "code",
   "execution_count": 98,
   "metadata": {},
   "outputs": [
    {
     "data": {
      "text/plain": [
       "11"
      ]
     },
     "execution_count": 98,
     "metadata": {},
     "output_type": "execute_result"
    }
   ],
   "source": [
    "np.sum(highNu_Gammas<0)"
   ]
  },
  {
   "cell_type": "code",
   "execution_count": 99,
   "metadata": {},
   "outputs": [
    {
     "data": {
      "text/plain": [
       "255"
      ]
     },
     "execution_count": 99,
     "metadata": {},
     "output_type": "execute_result"
    }
   ],
   "source": [
    "len(highNu_Gammas)"
   ]
  },
  {
   "cell_type": "markdown",
   "metadata": {},
   "source": [
    "## plot rho in bins of Gamma and nu "
   ]
  },
  {
   "cell_type": "code",
   "execution_count": 112,
   "metadata": {},
   "outputs": [
    {
     "data": {
      "text/plain": [
       "22960"
      ]
     },
     "execution_count": 112,
     "metadata": {},
     "output_type": "execute_result"
    }
   ],
   "source": [
    "len(lowGamma_mask[0])"
   ]
  },
  {
   "cell_type": "code",
   "execution_count": 116,
   "metadata": {},
   "outputs": [
    {
     "data": {
      "text/plain": [
       "22960"
      ]
     },
     "execution_count": 116,
     "metadata": {},
     "output_type": "execute_result"
    }
   ],
   "source": [
    "len(ID_now)"
   ]
  },
  {
   "cell_type": "code",
   "execution_count": 160,
   "metadata": {},
   "outputs": [],
   "source": [
    "Gamma_low = 0.0\n",
    "Gamma_high = 2.5\n",
    "\n",
    "lowGamma_mask = np.array([Gamma<Gamma_low])[0]\n",
    "midGamma_mask = np.array([(Gamma>Gamma_low) & (nus_with_Gamma<Gamma_high)])[0]\n",
    "highGamma_mask = np.array([Gamma>Gamma_high])[0]\n"
   ]
  },
  {
   "cell_type": "code",
   "execution_count": 342,
   "metadata": {},
   "outputs": [],
   "source": [
    "mask_dict = {'highNu_mask': highNu_mask, 'midNu_mask': midNu_mask, 'lowNu_mask': lowNu_mask, \n",
    " 'highGamma_mask': highGamma_mask, 'midGamma_mask': midGamma_mask, 'lowGamma_mask': lowGamma_mask}"
   ]
  },
  {
   "cell_type": "code",
   "execution_count": 346,
   "metadata": {},
   "outputs": [
    {
     "name": "stdout",
     "output_type": "stream",
     "text": [
      "('highNu_mask', 'highGamma_mask')\n",
      "('highNu_mask', 'midGamma_mask')\n",
      "('highNu_mask', 'lowGamma_mask')\n",
      "('midNu_mask', 'highGamma_mask')\n",
      "('midNu_mask', 'midGamma_mask')\n",
      "('midNu_mask', 'lowGamma_mask')\n",
      "('lowNu_mask', 'highGamma_mask')\n"
     ]
    },
    {
     "name": "stderr",
     "output_type": "stream",
     "text": [
      "/Users/fardila/anaconda2/envs/colossus/lib/python3.7/site-packages/ipykernel_launcher.py:6: RuntimeWarning: divide by zero encountered in log10\n",
      "  \n"
     ]
    },
    {
     "name": "stdout",
     "output_type": "stream",
     "text": [
      "('lowNu_mask', 'midGamma_mask')\n",
      "('lowNu_mask', 'lowGamma_mask')\n"
     ]
    }
   ],
   "source": [
    "all_r_median_std = []\n",
    "\n",
    "for masks in itertools.product(['highNu_mask', 'midNu_mask', 'lowNu_mask'], ['highGamma_mask', 'midGamma_mask', 'lowGamma_mask']):\n",
    "    print(masks)\n",
    "    \n",
    "    masked_Gamma_ID = ID_now[(mask_dict[masks[0]]) & (mask_dict[masks[1]])]\n",
    "    \n",
    "    masked_catalog_ID = np.array([np.where(ID_now_cat == ID)[0][0] for ID in masked_Gamma_ID])\n",
    "    \n",
    "    all_r_median_std.append( get_median_and_std_profile(rho_100[masked_catalog_ID],\n",
    "                                              Rbin_scaled_100[masked_catalog_ID]) )\n",
    "    \n",
    "    \n",
    "    \n",
    "    \n",
    "    \n",
    "    \n",
    "    \n",
    "    \n",
    "    \n",
    "    \n",
    "    "
   ]
  },
  {
   "cell_type": "code",
   "execution_count": null,
   "metadata": {},
   "outputs": [],
   "source": [
    "fig, axes = plt.subplots(3,3, sharex = True, sharey = True, figsize=(15,15))\n",
    "\n",
    "#add text for bins\n",
    "gamma_bins = [[2.5,''],[0,2.5],['',0]]\n",
    "nu_bins = [[1.0,''],[0.75,1.0],['',0.75]]\n",
    "[ax.text(0.5,0.8, '{0} < Gamma < {1}'.format(bins[0], bins[1]), transform=ax.transAxes)\\\n",
    "     for ax, bins in zip(axes[0,:], gamma_bins)]\n",
    "[ax.text(0.5,0.7, '{0} < nu < {1}'.format(bins[0], bins[1]), transform=ax.transAxes)\\\n",
    "     for ax, bins in zip(axes[:,0], nu_bins)]\n",
    "\n",
    "###HIGH NU####\n",
    "axes[0,0].plot(median_r, median_rho_highN_highG, c='r', linewidth=2)\n",
    "axes[0,1].plot(median_r, median_rho_highN_highG, c='k', linewidth=2, linestyle ='--')\n",
    "axes[0,2].plot(median_r, median_rho_highN_highG, c='k', linewidth=2, linestyle ='--')\n",
    "axes[1,0].plot(median_r, median_rho_highN_highG, c='k', linewidth=2, linestyle ='--')\n",
    "axes[1,1].plot(median_r, median_rho_highN_highG, c='k', linewidth=2, linestyle ='--')\n",
    "axes[1,2].plot(median_r, median_rho_highN_highG, c='k', linewidth=2, linestyle ='--')\n",
    "axes[2,0].plot(median_r, median_rho_highN_highG, c='k', linewidth=2, linestyle ='--')\n",
    "axes[2,1].plot(median_r, median_rho_highN_highG, c='k', linewidth=2, linestyle ='--')\n",
    "axes[2,2].plot(median_r, median_rho_highN_highG, c='k', linewidth=2, linestyle ='--')\n",
    "\n",
    "axes[0,0].fill_between(median_r, \n",
    "                       median_rho_highN_highG+std_rho_highN_highG, median_rho_highN_highG-std_rho_highN_highG,\n",
    "                 alpha=0.3, color='r')\n",
    "axes[0,0].fill_between(median_r, \n",
    "                       median_rho_highN_highG+2*std_rho_highN_highG, median_rho_highN_highG-2*std_rho_highN_highG,\n",
    "                 alpha=0.3, color='r')\n",
    "\n",
    "axes[0,1].plot(median_r, median_rho_highN_midG, c='r', linewidth=2)\n",
    "axes[0,1].fill_between(median_r, \n",
    "                       median_rho_highN_midG+std_rho_highN_midG, median_rho_highN_midG-std_rho_highN_midG,\n",
    "                 alpha=0.3, color='r')\n",
    "axes[0,1].fill_between(median_r, \n",
    "                       median_rho_highN_midG+2*std_rho_highN_midG, median_rho_highN_midG-2*std_rho_highN_midG,\n",
    "                 alpha=0.3, color='r')\n",
    "\n",
    "axes[0,2].plot(median_r, median_rho_highN_lowG, c='r', linewidth=2)\n",
    "axes[0,2].fill_between(median_r, \n",
    "                       median_rho_highN_lowG+std_rho_highN_lowG, median_rho_highN_lowG-std_rho_highN_lowG,\n",
    "                 alpha=0.3, color='r')\n",
    "axes[0,2].fill_between(median_r, \n",
    "                       median_rho_highN_lowG+2*std_rho_highN_lowG, median_rho_highN_lowG-2*std_rho_highN_lowG,\n",
    "                 alpha=0.3, color='r')\n",
    "\n",
    "\n",
    "###MID NU####\n",
    "axes[1,0].plot(median_r, median_rho_midN_highG, c='r', linewidth=2)\n",
    "axes[1,0].fill_between(median_r, \n",
    "                       median_rho_midN_highG+std_rho_midN_highG, median_rho_midN_highG-std_rho_midN_highG,\n",
    "                 alpha=0.3, color='r')\n",
    "axes[1,0].fill_between(median_r, \n",
    "                       median_rho_midN_highG+2*std_rho_midN_highG, median_rho_midN_highG-2*std_rho_midN_highG,\n",
    "                 alpha=0.3, color='r')\n",
    "\n",
    "axes[1,1].plot(median_r, median_rho_midN_midG, c='r', linewidth=2)\n",
    "axes[1,1].fill_between(median_r, \n",
    "                       median_rho_midN_midG+std_rho_midN_midG, median_rho_midN_midG-std_rho_midN_midG,\n",
    "                 alpha=0.3, color='r')\n",
    "axes[1,1].fill_between(median_r, \n",
    "                       median_rho_midN_midG+2*std_rho_midN_midG, median_rho_midN_midG-2*std_rho_midN_midG,\n",
    "                 alpha=0.3, color='r')\n",
    "\n",
    "axes[1,2].plot(median_r, median_rho_midN_lowG, c='r', linewidth=2)\n",
    "axes[1,2].fill_between(median_r, \n",
    "                       median_rho_midN_lowG+std_rho_midN_lowG, median_rho_midN_lowG-std_rho_midN_lowG,\n",
    "                 alpha=0.3, color='r')\n",
    "axes[1,2].fill_between(median_r, \n",
    "                       median_rho_midN_lowG+2*std_rho_midN_lowG, median_rho_midN_lowG-2*std_rho_midN_lowG,\n",
    "                 alpha=0.3, color='r')\n",
    "\n",
    "\n",
    "###low NU####\n",
    "axes[2,0].plot(median_r, median_rho_lowN_highG, c='r', linewidth=2)\n",
    "axes[2,0].fill_between(median_r, \n",
    "                       median_rho_lowN_highG+std_rho_lowN_highG, median_rho_lowN_highG-std_rho_lowN_highG,\n",
    "                 alpha=0.3, color='r')\n",
    "axes[2,0].fill_between(median_r, \n",
    "                       median_rho_lowN_highG+2*std_rho_lowN_highG, median_rho_lowN_highG-2*std_rho_lowN_highG,\n",
    "                 alpha=0.3, color='r')\n",
    "\n",
    "axes[2,1].plot(median_r, median_rho_lowN_midG, c='r', linewidth=2)\n",
    "axes[2,1].fill_between(median_r, \n",
    "                       median_rho_lowN_midG+std_rho_lowN_midG, median_rho_lowN_midG-std_rho_lowN_midG,\n",
    "                 alpha=0.3, color='r')\n",
    "axes[2,1].fill_between(median_r, \n",
    "                       median_rho_lowN_midG+2*std_rho_lowN_midG, median_rho_lowN_midG-2*std_rho_lowN_midG,\n",
    "                 alpha=0.3, color='r')\n",
    "\n",
    "axes[2,2].plot(median_r, median_rho_lowN_lowG, c='r', linewidth=2)\n",
    "axes[2,2].fill_between(median_r, \n",
    "                       median_rho_lowN_lowG+std_rho_lowN_lowG, median_rho_lowN_lowG-std_rho_lowN_lowG,\n",
    "                 alpha=0.3, color='r')\n",
    "axes[2,2].fill_between(median_r, \n",
    "                       median_rho_lowN_lowG+2*std_rho_lowN_lowG, median_rho_lowN_lowG-2*std_rho_lowN_lowG,\n",
    "                 alpha=0.3, color='r')\n",
    "\n",
    "\n",
    "\n",
    "[ax.set_xlabel('log( R / R200c)')for ax in axes[2,:]]\n",
    "[ax.set_ylabel('Density')for ax in axes[:,0]]\n",
    "plt.show()"
   ]
  },
  {
   "cell_type": "code",
   "execution_count": 173,
   "metadata": {
    "scrolled": true
   },
   "outputs": [],
   "source": [
    "highNu_highGamma_IDs = ID_now[(highNu_mask) & (highGamma_mask)]\n",
    "highNu_midGamma_IDs = ID_now[(highNu_mask) & (midGamma_mask)]\n",
    "highNu_lowGamma_IDs = ID_now[(highNu_mask) & (lowGamma_mask)]\n",
    "\n",
    "midNu_highGamma_IDs = ID_now[(midNu_mask) & (highGamma_mask)]\n",
    "midNu_midGamma_IDs = ID_now[(midNu_mask) & (midGamma_mask)]\n",
    "midNu_lowGamma_IDs = ID_now[(midNu_mask) & (lowGamma_mask)]\n",
    "\n",
    "lowNu_highGamma_IDs = ID_now[(lowNu_mask) & (highGamma_mask)]\n",
    "lowNu_midGamma_IDs = ID_now[(lowNu_mask) & (midGamma_mask)]\n",
    "lowNu_lowGamma_IDs = ID_now[(lowNu_mask) & (lowGamma_mask)]"
   ]
  },
  {
   "cell_type": "code",
   "execution_count": 168,
   "metadata": {},
   "outputs": [],
   "source": [
    "rho_100 = density(dic_100[\"profiles\"])\n",
    "Rbin_100 = dic_100[\"profiles\"]['Rbin']\n",
    "\n",
    "#scale by r200crit\n",
    "R200c_100 = dic_100[\"profiles\"]['R200c']\n",
    "Rbin_scaled_100 = np.array([r[0]/r[1] for r in zip(Rbin_100,R200c_100)])\n"
   ]
  },
  {
   "cell_type": "code",
   "execution_count": 192,
   "metadata": {},
   "outputs": [],
   "source": [
    "highNu_highGamma_catalog_ID = np.array([np.where(ID_now_cat == ID)[0][0] for ID in highNu_highGamma_IDs])\n",
    "highNu_midGamma_catalog_ID = np.array([np.where(ID_now_cat == ID)[0][0] for ID in highNu_midGamma_IDs])\n",
    "highNu_lowGamma_catalog_ID = np.array([np.where(ID_now_cat == ID)[0][0] for ID in highNu_lowGamma_IDs])\n",
    "\n",
    "midNu_highGamma_catalog_ID = np.array([np.where(ID_now_cat == ID)[0][0] for ID in midNu_highGamma_IDs])\n",
    "midNu_midGamma_catalog_ID = np.array([np.where(ID_now_cat == ID)[0][0] for ID in midNu_midGamma_IDs])\n",
    "midNu_lowGamma_catalog_ID = np.array([np.where(ID_now_cat == ID)[0][0] for ID in midNu_lowGamma_IDs])\n",
    "\n",
    "lowNu_highGamma_catalog_ID = np.array([np.where(ID_now_cat == ID)[0][0] for ID in lowNu_highGamma_IDs])\n",
    "lowNu_midGamma_catalog_ID = np.array([np.where(ID_now_cat == ID)[0][0] for ID in lowNu_midGamma_IDs])\n",
    "lowNu_lowGamma_catalog_ID = np.array([np.where(ID_now_cat == ID)[0][0] for ID in lowNu_lowGamma_IDs])"
   ]
  },
  {
   "cell_type": "code",
   "execution_count": 334,
   "metadata": {},
   "outputs": [
    {
     "name": "stderr",
     "output_type": "stream",
     "text": [
      "/Users/fardila/anaconda2/envs/colossus/lib/python3.7/site-packages/ipykernel_launcher.py:6: RuntimeWarning: divide by zero encountered in log10\n",
      "  \n"
     ]
    }
   ],
   "source": [
    "median_r_highN_highG, median_rho_highN_highG, std_rho_highN_highG = get_median_and_std_profile(\\\n",
    "                                                                        rho_100[highNu_highGamma_catalog_ID],\n",
    "                                                                        Rbin_scaled_100[highNu_highGamma_catalog_ID])\n",
    "median_r_highN_midG, median_rho_highN_midG, std_rho_highN_midG = get_median_and_std_profile(\\\n",
    "                                                                        rho_100[highNu_midGamma_catalog_ID],\n",
    "                                                                        Rbin_scaled_100[highNu_midGamma_catalog_ID])\n",
    "median_r_highN_lowG, median_rho_highN_lowG, std_rho_highN_lowG = get_median_and_std_profile(\\\n",
    "                                                                        rho_100[highNu_lowGamma_catalog_ID],\n",
    "                                                                        Rbin_scaled_100[highNu_lowGamma_catalog_ID])\n",
    "\n",
    "median_r_midN_highG, median_rho_midN_highG, std_rho_midN_highG = get_median_and_std_profile(\\\n",
    "                                                                        rho_100[midNu_highGamma_catalog_ID],\n",
    "                                                                        Rbin_scaled_100[midNu_highGamma_catalog_ID])\n",
    "median_r_midN_midG, median_rho_midN_midG, std_rho_midN_midG = get_median_and_std_profile(\\\n",
    "                                                                        rho_100[midNu_midGamma_catalog_ID],\n",
    "                                                                        Rbin_scaled_100[midNu_midGamma_catalog_ID])\n",
    "median_r_midN_lowG, median_rho_midN_lowG, std_rho_midN_lowG = get_median_and_std_profile(\\\n",
    "                                                                        rho_100[midNu_lowGamma_catalog_ID],\n",
    "                                                                        Rbin_scaled_100[midNu_lowGamma_catalog_ID])\n",
    "\n",
    "median_r_lowN_highG, median_rho_lowN_highG, std_rho_lowN_highG = get_median_and_std_profile(\\\n",
    "                                                                        rho_100[lowNu_highGamma_catalog_ID],\n",
    "                                                                        Rbin_scaled_100[lowNu_highGamma_catalog_ID])\n",
    "median_r_lowN_midG, median_rho_lowN_midG, std_rho_lowN_midG = get_median_and_std_profile(\\\n",
    "                                                                        rho_100[lowNu_midGamma_catalog_ID],\n",
    "                                                                        Rbin_scaled_100[lowNu_midGamma_catalog_ID])\n",
    "median_r_lowN_lowG, median_rho_lowN_lowG, std_rho_lowN_lowG = get_median_and_std_profile(\\\n",
    "                                                                        rho_100[lowNu_lowGamma_catalog_ID],\n",
    "                                                                        Rbin_scaled_100[lowNu_lowGamma_catalog_ID])\n"
   ]
  },
  {
   "cell_type": "code",
   "execution_count": 320,
   "metadata": {},
   "outputs": [],
   "source": [
    "median_r = median_r_highN_highG"
   ]
  },
  {
   "cell_type": "code",
   "execution_count": 335,
   "metadata": {},
   "outputs": [
    {
     "data": {
      "image/png": "[encoded data removed]",
      "text/plain": [
       "<Figure size 1080x1080 with 9 Axes>"
      ]
     },
     "metadata": {
      "needs_background": "light"
     },
     "output_type": "display_data"
    }
   ],
   "source": [
    "fig, axes = plt.subplots(3,3, sharex = True, sharey = True, figsize=(15,15))\n",
    "\n",
    "#add text for bins\n",
    "gamma_bins = [[2.5,''],[0,2.5],['',0]]\n",
    "nu_bins = [[1.0,''],[0.75,1.0],['',0.75]]\n",
    "[ax.text(0.5,0.8, '{0} < Gamma < {1}'.format(bins[0], bins[1]), transform=ax.transAxes)\\\n",
    "     for ax, bins in zip(axes[0,:], gamma_bins)]\n",
    "[ax.text(0.5,0.7, '{0} < nu < {1}'.format(bins[0], bins[1]), transform=ax.transAxes)\\\n",
    "     for ax, bins in zip(axes[:,0], nu_bins)]\n",
    "\n",
    "###HIGH NU####\n",
    "axes[0,0].plot(median_r, median_rho_highN_highG, c='r', linewidth=2)\n",
    "axes[0,1].plot(median_r, median_rho_highN_highG, c='k', linewidth=2, linestyle ='--')\n",
    "axes[0,2].plot(median_r, median_rho_highN_highG, c='k', linewidth=2, linestyle ='--')\n",
    "axes[1,0].plot(median_r, median_rho_highN_highG, c='k', linewidth=2, linestyle ='--')\n",
    "axes[1,1].plot(median_r, median_rho_highN_highG, c='k', linewidth=2, linestyle ='--')\n",
    "axes[1,2].plot(median_r, median_rho_highN_highG, c='k', linewidth=2, linestyle ='--')\n",
    "axes[2,0].plot(median_r, median_rho_highN_highG, c='k', linewidth=2, linestyle ='--')\n",
    "axes[2,1].plot(median_r, median_rho_highN_highG, c='k', linewidth=2, linestyle ='--')\n",
    "axes[2,2].plot(median_r, median_rho_highN_highG, c='k', linewidth=2, linestyle ='--')\n",
    "\n",
    "axes[0,0].fill_between(median_r, \n",
    "                       median_rho_highN_highG+std_rho_highN_highG, median_rho_highN_highG-std_rho_highN_highG,\n",
    "                 alpha=0.3, color='r')\n",
    "axes[0,0].fill_between(median_r, \n",
    "                       median_rho_highN_highG+2*std_rho_highN_highG, median_rho_highN_highG-2*std_rho_highN_highG,\n",
    "                 alpha=0.3, color='r')\n",
    "\n",
    "axes[0,1].plot(median_r, median_rho_highN_midG, c='r', linewidth=2)\n",
    "axes[0,1].fill_between(median_r, \n",
    "                       median_rho_highN_midG+std_rho_highN_midG, median_rho_highN_midG-std_rho_highN_midG,\n",
    "                 alpha=0.3, color='r')\n",
    "axes[0,1].fill_between(median_r, \n",
    "                       median_rho_highN_midG+2*std_rho_highN_midG, median_rho_highN_midG-2*std_rho_highN_midG,\n",
    "                 alpha=0.3, color='r')\n",
    "\n",
    "axes[0,2].plot(median_r, median_rho_highN_lowG, c='r', linewidth=2)\n",
    "axes[0,2].fill_between(median_r, \n",
    "                       median_rho_highN_lowG+std_rho_highN_lowG, median_rho_highN_lowG-std_rho_highN_lowG,\n",
    "                 alpha=0.3, color='r')\n",
    "axes[0,2].fill_between(median_r, \n",
    "                       median_rho_highN_lowG+2*std_rho_highN_lowG, median_rho_highN_lowG-2*std_rho_highN_lowG,\n",
    "                 alpha=0.3, color='r')\n",
    "\n",
    "\n",
    "###MID NU####\n",
    "axes[1,0].plot(median_r, median_rho_midN_highG, c='r', linewidth=2)\n",
    "axes[1,0].fill_between(median_r, \n",
    "                       median_rho_midN_highG+std_rho_midN_highG, median_rho_midN_highG-std_rho_midN_highG,\n",
    "                 alpha=0.3, color='r')\n",
    "axes[1,0].fill_between(median_r, \n",
    "                       median_rho_midN_highG+2*std_rho_midN_highG, median_rho_midN_highG-2*std_rho_midN_highG,\n",
    "                 alpha=0.3, color='r')\n",
    "\n",
    "axes[1,1].plot(median_r, median_rho_midN_midG, c='r', linewidth=2)\n",
    "axes[1,1].fill_between(median_r, \n",
    "                       median_rho_midN_midG+std_rho_midN_midG, median_rho_midN_midG-std_rho_midN_midG,\n",
    "                 alpha=0.3, color='r')\n",
    "axes[1,1].fill_between(median_r, \n",
    "                       median_rho_midN_midG+2*std_rho_midN_midG, median_rho_midN_midG-2*std_rho_midN_midG,\n",
    "                 alpha=0.3, color='r')\n",
    "\n",
    "axes[1,2].plot(median_r, median_rho_midN_lowG, c='r', linewidth=2)\n",
    "axes[1,2].fill_between(median_r, \n",
    "                       median_rho_midN_lowG+std_rho_midN_lowG, median_rho_midN_lowG-std_rho_midN_lowG,\n",
    "                 alpha=0.3, color='r')\n",
    "axes[1,2].fill_between(median_r, \n",
    "                       median_rho_midN_lowG+2*std_rho_midN_lowG, median_rho_midN_lowG-2*std_rho_midN_lowG,\n",
    "                 alpha=0.3, color='r')\n",
    "\n",
    "\n",
    "###low NU####\n",
    "axes[2,0].plot(median_r, median_rho_lowN_highG, c='r', linewidth=2)\n",
    "axes[2,0].fill_between(median_r, \n",
    "                       median_rho_lowN_highG+std_rho_lowN_highG, median_rho_lowN_highG-std_rho_lowN_highG,\n",
    "                 alpha=0.3, color='r')\n",
    "axes[2,0].fill_between(median_r, \n",
    "                       median_rho_lowN_highG+2*std_rho_lowN_highG, median_rho_lowN_highG-2*std_rho_lowN_highG,\n",
    "                 alpha=0.3, color='r')\n",
    "\n",
    "axes[2,1].plot(median_r, median_rho_lowN_midG, c='r', linewidth=2)\n",
    "axes[2,1].fill_between(median_r, \n",
    "                       median_rho_lowN_midG+std_rho_lowN_midG, median_rho_lowN_midG-std_rho_lowN_midG,\n",
    "                 alpha=0.3, color='r')\n",
    "axes[2,1].fill_between(median_r, \n",
    "                       median_rho_lowN_midG+2*std_rho_lowN_midG, median_rho_lowN_midG-2*std_rho_lowN_midG,\n",
    "                 alpha=0.3, color='r')\n",
    "\n",
    "axes[2,2].plot(median_r, median_rho_lowN_lowG, c='r', linewidth=2)\n",
    "axes[2,2].fill_between(median_r, \n",
    "                       median_rho_lowN_lowG+std_rho_lowN_lowG, median_rho_lowN_lowG-std_rho_lowN_lowG,\n",
    "                 alpha=0.3, color='r')\n",
    "axes[2,2].fill_between(median_r, \n",
    "                       median_rho_lowN_lowG+2*std_rho_lowN_lowG, median_rho_lowN_lowG-2*std_rho_lowN_lowG,\n",
    "                 alpha=0.3, color='r')\n",
    "\n",
    "\n",
    "\n",
    "[ax.set_xlabel('log( R / R200c)')for ax in axes[2,:]]\n",
    "[ax.set_ylabel('Density')for ax in axes[:,0]]\n",
    "plt.show()"
   ]
  },
  {
   "cell_type": "markdown",
   "metadata": {},
   "source": [
    "something is up when mixing log and semilog and not-log"
   ]
  },
  {
   "cell_type": "markdown",
   "metadata": {},
   "source": [
    "be consistent with logs"
   ]
  },
  {
   "cell_type": "markdown",
   "metadata": {},
   "source": [
    "## check masses and sleect only most massive halos "
   ]
  },
  {
   "cell_type": "code",
   "execution_count": 6,
   "metadata": {},
   "outputs": [],
   "source": [
    "masses = dic[\"profiles\"]['M200c']"
   ]
  },
  {
   "cell_type": "code",
   "execution_count": 7,
   "metadata": {},
   "outputs": [
    {
     "data": {
      "text/plain": [
       "array([4.52979824e+13, 4.42507186e+13, 3.97790342e+13, ...,\n",
       "       2.50145152e+10, 2.30853499e+10, 2.51406760e+10])"
      ]
     },
     "execution_count": 7,
     "metadata": {},
     "output_type": "execute_result"
    }
   ],
   "source": [
    "masses"
   ]
  },
  {
   "cell_type": "code",
   "execution_count": 8,
   "metadata": {},
   "outputs": [
    {
     "data": {
      "image/png": "[encoded data removed]",
      "text/plain": [
       "<Figure size 432x288 with 1 Axes>"
      ]
     },
     "metadata": {
      "needs_background": "light"
     },
     "output_type": "display_data"
    }
   ],
   "source": [
    "plt.hist(np.log10(masses), 1000)\n",
    "plt.show()"
   ]
  },
  {
   "cell_type": "markdown",
   "metadata": {},
   "source": [
    "### use halos above 10^13.5\n"
   ]
  },
  {
   "cell_type": "code",
   "execution_count": 16,
   "metadata": {},
   "outputs": [
    {
     "data": {
      "text/plain": [
       "83"
      ]
     },
     "execution_count": 16,
     "metadata": {},
     "output_type": "execute_result"
    }
   ],
   "source": [
    "mass_mask=[np.log10(masses)>13.5]\n",
    "np.sum(mass_mask)"
   ]
  },
  {
   "cell_type": "markdown",
   "metadata": {},
   "source": [
    "## what are the units? "
   ]
  },
  {
   "cell_type": "code",
   "execution_count": null,
   "metadata": {},
   "outputs": [],
   "source": []
  }
 ],
 "metadata": {
  "kernelspec": {
   "display_name": "Python 3",
   "language": "python",
   "name": "python3"
  },
  "language_info": {
   "codemirror_mode": {
    "name": "ipython",
    "version": 3
   },
   "file_extension": ".py",
   "mimetype": "text/x-python",
   "name": "python",
   "nbconvert_exporter": "python",
   "pygments_lexer": "ipython3",
   "version": "3.7.2"
  }
 },
 "nbformat": 4,
 "nbformat_minor": 2
}
