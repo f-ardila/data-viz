{
 "cells": [
  {
   "cell_type": "code",
   "execution_count": 1,
   "metadata": {},
   "outputs": [],
   "source": [
    "import numpy as np\n",
    "import matplotlib.pyplot as plt"
   ]
  },
  {
   "cell_type": "code",
   "execution_count": 2,
   "metadata": {},
   "outputs": [],
   "source": [
    "%run /Users/fardila/Documents/GitHub/data-viz/Enia_project/code/individual_profs.py"
   ]
  },
  {
   "cell_type": "code",
   "execution_count": 3,
   "metadata": {},
   "outputs": [
    {
     "name": "stdout",
     "output_type": "stream",
     "text": [
      "Loaded Profiles_Box_L0125_N1024_CBol_Np200_100.bhp from pickle, took 0.94 seconds\n"
     ]
    }
   ],
   "source": [
    "dic = load(\"L0125\", 100)"
   ]
  },
  {
   "cell_type": "code",
   "execution_count": 6,
   "metadata": {},
   "outputs": [
    {
     "data": {
      "text/plain": [
       "dict_keys(['profiles', 'box_size', 'z', 'sim_name', 'cosmo_name', 'particle_mass'])"
      ]
     },
     "execution_count": 6,
     "metadata": {},
     "output_type": "execute_result"
    }
   ],
   "source": [
    "dic.keys()"
   ]
  },
  {
   "cell_type": "code",
   "execution_count": 7,
   "metadata": {},
   "outputs": [
    {
     "data": {
      "text/plain": [
       "('id',\n",
       " 'host_id',\n",
       " 'Rvir_cat',\n",
       " 'rs',\n",
       " 'Mvir_cat',\n",
       " 'vmax_cat',\n",
       " 'a_last_mm',\n",
       " 'x',\n",
       " 'v',\n",
       " 'Rbin',\n",
       " 'Rbin_av',\n",
       " 'mass',\n",
       " 'vr',\n",
       " 'sigmav',\n",
       " 'vc',\n",
       " 'vmax_prof',\n",
       " 'potential',\n",
       " 'R200c',\n",
       " 'M200c',\n",
       " 'R500c',\n",
       " 'M500c')"
      ]
     },
     "execution_count": 7,
     "metadata": {},
     "output_type": "execute_result"
    }
   ],
   "source": [
    "dic[\"profiles\"].dtype.names"
   ]
  },
  {
   "cell_type": "code",
   "execution_count": 8,
   "metadata": {},
   "outputs": [
    {
     "data": {
      "text/plain": [
       "array([174015014, 174552465, 174154314, ..., 175589563, 175043208,\n",
       "       175594875])"
      ]
     },
     "execution_count": 8,
     "metadata": {},
     "output_type": "execute_result"
    }
   ],
   "source": [
    "dic[\"profiles\"][\"id\"]"
   ]
  },
  {
   "cell_type": "code",
   "execution_count": 9,
   "metadata": {},
   "outputs": [
    {
     "data": {
      "text/plain": [
       "array([[-1.43341218e+06, -1.42398674e+06, -1.41396395e+06, ...,\n",
       "        -3.05963290e+04, -1.60066774e+04,  0.00000000e+00],\n",
       "       [-1.66513897e+06, -1.64915025e+06, -1.63253577e+06, ...,\n",
       "        -5.09463114e+04, -2.53844480e+04,  0.00000000e+00],\n",
       "       [-1.48592547e+06, -1.46580161e+06, -1.44515463e+06, ...,\n",
       "        -2.31513027e+04, -1.18586370e+04,  0.00000000e+00],\n",
       "       ...,\n",
       "       [-5.23818546e+04, -5.22598185e+04, -5.21284618e+04, ...,\n",
       "        -6.10041287e+03, -3.16572388e+03,  0.00000000e+00],\n",
       "       [-1.58439295e+04, -1.51532714e+04, -1.44147041e+04, ...,\n",
       "        -4.94135982e+02, -2.68302769e+02,  0.00000000e+00],\n",
       "       [-7.62712071e+04, -7.58572529e+04, -7.57858401e+04, ...,\n",
       "        -6.62725611e+02, -3.47015740e+02,  0.00000000e+00]])"
      ]
     },
     "execution_count": 9,
     "metadata": {},
     "output_type": "execute_result"
    }
   ],
   "source": [
    "dic[\"profiles\"][\"potential\"]"
   ]
  },
  {
   "cell_type": "code",
   "execution_count": 11,
   "metadata": {},
   "outputs": [
    {
     "data": {
      "text/plain": [
       "80"
      ]
     },
     "execution_count": 11,
     "metadata": {},
     "output_type": "execute_result"
    }
   ],
   "source": [
    "len(dic[\"profiles\"][\"potential\"][0])"
   ]
  },
  {
   "cell_type": "code",
   "execution_count": 12,
   "metadata": {},
   "outputs": [
    {
     "data": {
      "text/plain": [
       "175038"
      ]
     },
     "execution_count": 12,
     "metadata": {},
     "output_type": "execute_result"
    }
   ],
   "source": [
    "len(dic[\"profiles\"][\"potential\"])"
   ]
  },
  {
   "cell_type": "code",
   "execution_count": 13,
   "metadata": {},
   "outputs": [
    {
     "data": {
      "text/plain": [
       "array([[4.04231491e+01, 4.32272034e+01, 4.62257614e+01, ...,\n",
       "        7.06978564e+03, 7.56019824e+03, 8.08463037e+03],\n",
       "       [3.95550003e+01, 4.22988281e+01, 4.52329903e+01, ...,\n",
       "        6.91795068e+03, 7.39783105e+03, 7.91100000e+03],\n",
       "       [3.81445007e+01, 4.07904892e+01, 4.36200180e+01, ...,\n",
       "        6.67126221e+03, 7.13403076e+03, 7.62890039e+03],\n",
       "       ...,\n",
       "       [2.85489988e+00, 3.05293703e+00, 3.26471162e+00, ...,\n",
       "        4.99306213e+02, 5.33941833e+02, 5.70979980e+02],\n",
       "       [2.82994986e+00, 3.02625632e+00, 3.23618007e+00, ...,\n",
       "        4.94942596e+02, 5.29275513e+02, 5.65989990e+02],\n",
       "       [2.54425001e+00, 2.72073793e+00, 2.90946865e+00, ...,\n",
       "        4.44975220e+02, 4.75842041e+02, 5.08849976e+02]])"
      ]
     },
     "execution_count": 13,
     "metadata": {},
     "output_type": "execute_result"
    }
   ],
   "source": [
    "dic[\"profiles\"][\"Rbin\"]"
   ]
  },
  {
   "cell_type": "code",
   "execution_count": 14,
   "metadata": {},
   "outputs": [
    {
     "data": {
      "text/plain": [
       "array([[2.53962173e+01, 4.18668861e+01, 4.47475891e+01, ...,\n",
       "        6.84989453e+03, 7.34663867e+03, 7.79609814e+03],\n",
       "       [2.50229168e+01, 4.09311752e+01, 4.37649231e+01, ...,\n",
       "        6.69080566e+03, 7.16351807e+03, 7.66271777e+03],\n",
       "       [2.29419403e+01, 3.94602280e+01, 4.21799698e+01, ...,\n",
       "        6.46497412e+03, 6.90741699e+03, 7.37540527e+03],\n",
       "       ...,\n",
       "       [1.62901187e+00, 2.92643571e+00, 3.07467675e+00, ...,\n",
       "        4.82817047e+02, 5.16144409e+02, 5.52791809e+02],\n",
       "       [1.89954031e+00, 0.00000000e+00, 0.00000000e+00, ...,\n",
       "        4.80078278e+02, 5.13770630e+02, 5.49054321e+02],\n",
       "       [2.14602733e+00, 0.00000000e+00, 2.78360009e+00, ...,\n",
       "        4.30788696e+02, 4.60752136e+02, 4.92966034e+02]])"
      ]
     },
     "execution_count": 14,
     "metadata": {},
     "output_type": "execute_result"
    }
   ],
   "source": [
    "dic[\"profiles\"][\"Rbin_av\"]"
   ]
  },
  {
   "cell_type": "markdown",
   "metadata": {},
   "source": [
    "## how do we get mass accretion rates? "
   ]
  },
  {
   "cell_type": "markdown",
   "metadata": {},
   "source": [
    "## check masses and sleect only most massive halos "
   ]
  },
  {
   "cell_type": "code",
   "execution_count": 6,
   "metadata": {},
   "outputs": [],
   "source": [
    "masses = dic[\"profiles\"]['M200c']"
   ]
  },
  {
   "cell_type": "code",
   "execution_count": 7,
   "metadata": {},
   "outputs": [
    {
     "data": {
      "text/plain": [
       "array([4.52979824e+13, 4.42507186e+13, 3.97790342e+13, ...,\n",
       "       2.50145152e+10, 2.30853499e+10, 2.51406760e+10])"
      ]
     },
     "execution_count": 7,
     "metadata": {},
     "output_type": "execute_result"
    }
   ],
   "source": [
    "masses"
   ]
  },
  {
   "cell_type": "code",
   "execution_count": 8,
   "metadata": {},
   "outputs": [
    {
     "data": {
      "image/png": "[encoded data removed]",
      "text/plain": [
       "<Figure size 432x288 with 1 Axes>"
      ]
     },
     "metadata": {
      "needs_background": "light"
     },
     "output_type": "display_data"
    }
   ],
   "source": [
    "plt.hist(np.log10(masses), 1000)\n",
    "plt.show()"
   ]
  },
  {
   "cell_type": "markdown",
   "metadata": {},
   "source": [
    "### use halos above 10^13.5\n"
   ]
  },
  {
   "cell_type": "code",
   "execution_count": 16,
   "metadata": {},
   "outputs": [
    {
     "data": {
      "text/plain": [
       "83"
      ]
     },
     "execution_count": 16,
     "metadata": {},
     "output_type": "execute_result"
    }
   ],
   "source": [
    "mass_mask=[np.log10(masses)>13.5]\n",
    "np.sum(mass_mask)"
   ]
  },
  {
   "cell_type": "markdown",
   "metadata": {},
   "source": [
    "## density profiles "
   ]
  },
  {
   "cell_type": "code",
   "execution_count": 23,
   "metadata": {},
   "outputs": [
    {
     "name": "stderr",
     "output_type": "stream",
     "text": [
      "/Users/fardila/anaconda2/envs/colossus/lib/python3.7/site-packages/ipykernel_launcher.py:1: FutureWarning: Using a non-tuple sequence for multidimensional indexing is deprecated; use `arr[tuple(seq)]` instead of `arr[seq]`. In the future this will be interpreted as an array index, `arr[np.array(seq)]`, which will result either in an error or a different result.\n",
      "  \"\"\"Entry point for launching an IPython kernel.\n",
      "/Users/fardila/anaconda2/envs/colossus/lib/python3.7/site-packages/ipykernel_launcher.py:2: FutureWarning: Using a non-tuple sequence for multidimensional indexing is deprecated; use `arr[tuple(seq)]` instead of `arr[seq]`. In the future this will be interpreted as an array index, `arr[np.array(seq)]`, which will result either in an error or a different result.\n",
      "  \n",
      "/Users/fardila/anaconda2/envs/colossus/lib/python3.7/site-packages/ipykernel_launcher.py:5: FutureWarning: Using a non-tuple sequence for multidimensional indexing is deprecated; use `arr[tuple(seq)]` instead of `arr[seq]`. In the future this will be interpreted as an array index, `arr[np.array(seq)]`, which will result either in an error or a different result.\n",
      "  \"\"\"\n"
     ]
    }
   ],
   "source": [
    "rho = density(dic[\"profiles\"])[mass_mask]\n",
    "Rbin = dic[\"profiles\"]['Rbin'][mass_mask]\n",
    "\n",
    "#scale by r200crit\n",
    "R200c = dic[\"profiles\"]['R200c'][mass_mask]\n",
    "Rbin_scaled = np.array([r[0]/r[1] for r in zip(Rbin,R200c)])"
   ]
  },
  {
   "cell_type": "code",
   "execution_count": 26,
   "metadata": {},
   "outputs": [
    {
     "data": {
      "image/png": "[encoded data removed]",
      "text/plain": [
       "<Figure size 432x288 with 1 Axes>"
      ]
     },
     "metadata": {
      "needs_background": "light"
     },
     "output_type": "display_data"
    }
   ],
   "source": [
    "plt.loglog(Rbin_scaled[0], rho[0])\n",
    "\n",
    "plt.xlabel('R / R200c')\n",
    "plt.ylabel('Density')\n",
    "plt.show()"
   ]
  },
  {
   "cell_type": "code",
   "execution_count": 18,
   "metadata": {},
   "outputs": [
    {
     "data": {
      "image/png": "[encoded data removed]",
      "text/plain": [
       "<Figure size 432x288 with 1 Axes>"
      ]
     },
     "metadata": {
      "needs_background": "light"
     },
     "output_type": "display_data"
    }
   ],
   "source": [
    "plt.loglog(Rbin, rho)\n",
    "\n",
    "plt.xlabel('R / R200c')\n",
    "plt.ylabel('Density')\n",
    "plt.show()"
   ]
  },
  {
   "cell_type": "markdown",
   "metadata": {},
   "source": [
    "## what are the units? "
   ]
  },
  {
   "cell_type": "code",
   "execution_count": null,
   "metadata": {},
   "outputs": [],
   "source": []
  }
 ],
 "metadata": {
  "kernelspec": {
   "display_name": "Python 3",
   "language": "python",
   "name": "python3"
  },
  "language_info": {
   "codemirror_mode": {
    "name": "ipython",
    "version": 3
   },
   "file_extension": ".py",
   "mimetype": "text/x-python",
   "name": "python",
   "nbconvert_exporter": "python",
   "pygments_lexer": "ipython3",
   "version": "3.7.2"
  }
 },
 "nbformat": 4,
 "nbformat_minor": 2
}
