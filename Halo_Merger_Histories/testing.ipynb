{
 "cells": [
  {
   "cell_type": "code",
   "execution_count": 21,
   "metadata": {},
   "outputs": [],
   "source": [
    "import numpy as np\n",
    "import matplotlib.pyplot as plt\n",
    "import pandas as pd\n",
    "\n",
    "from astropy.io import ascii\n",
    "import ytree \n",
    "import h5py\n",
    "import itertools\n",
    "from colossus.halo.mass_so import dynamicalTime\n",
    "from colossus.cosmology import cosmology\n",
    "\n",
    "import os \n",
    "import sys \n",
    "import glob"
   ]
  },
  {
   "cell_type": "code",
   "execution_count": 22,
   "metadata": {},
   "outputs": [],
   "source": [
    "# Enia's functions\n",
    "# Working with merger trees: https://ytree.readthedocs.io/en/latest/Arbor.html\n",
    "\n",
    "def get_id_given_a(my_tree, scale_factor): \n",
    "    \n",
    "    a_idx = np.where(my_tree[\"tree\", \"scale_factor\"] == scale_factor)[0]\n",
    "    \n",
    "    if len(a_idx)==0:\n",
    "        return -1\n",
    "    \n",
    "    id_at_sfnow = my_tree[\"tree\", \"uid\"][a_idx]\n",
    "\n",
    "    return np.ndarray.flatten(id_at_sfnow)[0]\n",
    "\n",
    "def get_treeidx_given_a(my_tree, scale_factor): \n",
    "    \n",
    "    a_idx = np.where(my_tree[\"tree\", \"scale_factor\"] == scale_factor)[0]\n",
    "    \n",
    "    if len(a_idx)==0:\n",
    "        return (-1, -1)\n",
    "    \n",
    "    id_at_sfnow = my_tree[\"tree\", \"uid\"][a_idx]\n",
    "    \n",
    "    if len(id_at_sfnow) > 0 and halo in id_at_sfnow:\n",
    "        # if yes then find the tree node now, and then the tree node then \n",
    "        treeidx = np.where(halo==id_at_sfnow)[0]\n",
    "        treenow = (my_tree[\"tree\"][a_idx])[treeidx]\n",
    "        return (treeidx, treenow[0])\n",
    "    else:\n",
    "        return (-1, -1 )\n",
    "    \n",
    "def get_tree_given_a(my_tree, scale_factor): \n",
    "    a_idx = np.where(my_tree[\"prog\", \"scale_factor\"] == scale_factor)\n",
    "    \n",
    "    if len(a_idx)==0:\n",
    "        return -1 \n",
    "    \n",
    "    if len(my_tree[\"prog\"][a_idx]) > 0:\n",
    "        return my_tree[\"prog\"][a_idx][0]\n",
    "    else:\n",
    "        return -1 \n",
    "    \n",
    "def get_alltrees_given_a(my_tree, scale_factor): \n",
    "    a_idx = np.where(my_tree[\"tree\", \"scale_factor\"] == scale_factor)\n",
    "    \n",
    "    if len(a_idx)==0:\n",
    "        return -1 \n",
    "    \n",
    "    if len(my_tree[\"tree\"][a_idx]) > 0:\n",
    "        return my_tree[\"tree\"][a_idx]\n",
    "    else:\n",
    "        return -1 \n",
    "    "
   ]
  },
  {
   "cell_type": "code",
   "execution_count": 23,
   "metadata": {},
   "outputs": [],
   "source": [
    "#Felipe functions\n",
    "def get_median_and_std_profile(profiles, r_bins, common_r_bins):\n",
    "    \"\"\"Get the median profiles.\"\"\"\n",
    "    \n",
    "    r_bins = np.log10(r_bins)\n",
    "    profiles= np.log10(profiles)\n",
    "    \n",
    "    \n",
    "    median = np.nanmedian(np.stack([np.interp(common_r_bins, r_bin[np.isfinite(profile)], profile[np.isfinite(profile)]) for r_bin, profile in zip(r_bins, profiles)]),\n",
    "                          axis=0)\n",
    "    std = np.nanstd(np.stack([np.interp(common_r_bins, r_bin[np.isfinite(profile)], profile[np.isfinite(profile)]) for r_bin, profile in zip(r_bins, profiles)]),\n",
    "                          axis=0)\n",
    "\n",
    "    return [median, std]\n"
   ]
  },
  {
   "cell_type": "code",
   "execution_count": 24,
   "metadata": {},
   "outputs": [],
   "source": [
    "#Benedikt's code\n",
    "%run /Users/fardila/Documents/GitHub/data-viz/Enia_project/code/individual_profs.py"
   ]
  },
  {
   "cell_type": "code",
   "execution_count": 25,
   "metadata": {},
   "outputs": [
    {
     "name": "stdout",
     "output_type": "stream",
     "text": [
      "Loaded Profiles_Box_L0125_N1024_CBol_Np200_100.bhp from pickle, took 0.85 seconds\n",
      "Loaded Profiles_Box_L0125_N1024_CBol_Np200_093.bhp from pickle, took 0.90 seconds\n",
      "Loaded Profiles_Box_L0125_N1024_CBol_Np200_087.bhp from pickle, took 0.94 seconds\n"
     ]
    }
   ],
   "source": [
    "dic_100 = load(\"L0125\",100)\n",
    "dic_93 = load(\"L0125\",93)\n",
    "dic_87 = load(\"L0125\",87)"
   ]
  },
  {
   "cell_type": "code",
   "execution_count": 26,
   "metadata": {},
   "outputs": [
    {
     "data": {
      "text/plain": [
       "dict_keys(['profiles', 'box_size', 'z', 'sim_name', 'cosmo_name', 'particle_mass'])"
      ]
     },
     "execution_count": 26,
     "metadata": {},
     "output_type": "execute_result"
    }
   ],
   "source": [
    "dic_100.keys()"
   ]
  },
  {
   "cell_type": "code",
   "execution_count": 27,
   "metadata": {},
   "outputs": [
    {
     "name": "stdout",
     "output_type": "stream",
     "text": [
      "0.0 0.2375289648771286 0.48555418848991394\n"
     ]
    }
   ],
   "source": [
    "z_100, z_93, z_87 = dic_100['z'], dic_93['z'], dic_87['z']\n",
    "print(z_100, z_93, z_87)"
   ]
  },
  {
   "cell_type": "code",
   "execution_count": 26,
   "metadata": {},
   "outputs": [
    {
     "data": {
      "text/plain": [
       "136280315.92816114"
      ]
     },
     "execution_count": 26,
     "metadata": {},
     "output_type": "execute_result"
    }
   ],
   "source": [
    "dic[\"particle_mass\"]"
   ]
  },
  {
   "cell_type": "code",
   "execution_count": 7,
   "metadata": {},
   "outputs": [
    {
     "data": {
      "text/plain": [
       "('id',\n",
       " 'host_id',\n",
       " 'Rvir_cat',\n",
       " 'rs',\n",
       " 'Mvir_cat',\n",
       " 'vmax_cat',\n",
       " 'a_last_mm',\n",
       " 'x',\n",
       " 'v',\n",
       " 'Rbin',\n",
       " 'Rbin_av',\n",
       " 'mass',\n",
       " 'vr',\n",
       " 'sigmav',\n",
       " 'vc',\n",
       " 'vmax_prof',\n",
       " 'potential',\n",
       " 'R200c',\n",
       " 'M200c',\n",
       " 'R500c',\n",
       " 'M500c')"
      ]
     },
     "execution_count": 7,
     "metadata": {},
     "output_type": "execute_result"
    }
   ],
   "source": [
    "dic[\"profiles\"].dtype.names"
   ]
  },
  {
   "cell_type": "code",
   "execution_count": 8,
   "metadata": {},
   "outputs": [
    {
     "data": {
      "text/plain": [
       "array([-1, -1, -1, ..., -1, -1, -1])"
      ]
     },
     "execution_count": 8,
     "metadata": {},
     "output_type": "execute_result"
    }
   ],
   "source": [
    "dic_93[\"profiles\"][\"host_id\"]"
   ]
  },
  {
   "cell_type": "code",
   "execution_count": 11,
   "metadata": {},
   "outputs": [
    {
     "data": {
      "text/plain": [
       "(array([     0.,      0.,      0.,      0.,      0., 185333.,      0.,\n",
       "             0.,      0.,      0.]),\n",
       " array([-1.5, -1.4, -1.3, -1.2, -1.1, -1. , -0.9, -0.8, -0.7, -0.6, -0.5]),\n",
       " <a list of 10 Patch objects>)"
      ]
     },
     "execution_count": 11,
     "metadata": {},
     "output_type": "execute_result"
    },
    {
     "data": {
      "image/png": "[encoded data removed]",
      "text/plain": [
       "<Figure size 432x288 with 1 Axes>"
      ]
     },
     "metadata": {
      "needs_background": "light"
     },
     "output_type": "display_data"
    }
   ],
   "source": [
    "plt.hist(dic_87[\"profiles\"][\"host_id\"])"
   ]
  },
  {
   "cell_type": "markdown",
   "metadata": {},
   "source": [
    "all hosts"
   ]
  },
  {
   "cell_type": "code",
   "execution_count": 8,
   "metadata": {},
   "outputs": [
    {
     "data": {
      "text/plain": [
       "array([174015014, 174552465, 174154314, ..., 175589563, 175043208,\n",
       "       175594875])"
      ]
     },
     "execution_count": 8,
     "metadata": {},
     "output_type": "execute_result"
    }
   ],
   "source": [
    "dic[\"profiles\"][\"id\"]"
   ]
  },
  {
   "cell_type": "code",
   "execution_count": 9,
   "metadata": {},
   "outputs": [
    {
     "data": {
      "text/plain": [
       "array([[-1.43341218e+06, -1.42398674e+06, -1.41396395e+06, ...,\n",
       "        -3.05963290e+04, -1.60066774e+04,  0.00000000e+00],\n",
       "       [-1.66513897e+06, -1.64915025e+06, -1.63253577e+06, ...,\n",
       "        -5.09463114e+04, -2.53844480e+04,  0.00000000e+00],\n",
       "       [-1.48592547e+06, -1.46580161e+06, -1.44515463e+06, ...,\n",
       "        -2.31513027e+04, -1.18586370e+04,  0.00000000e+00],\n",
       "       ...,\n",
       "       [-5.23818546e+04, -5.22598185e+04, -5.21284618e+04, ...,\n",
       "        -6.10041287e+03, -3.16572388e+03,  0.00000000e+00],\n",
       "       [-1.58439295e+04, -1.51532714e+04, -1.44147041e+04, ...,\n",
       "        -4.94135982e+02, -2.68302769e+02,  0.00000000e+00],\n",
       "       [-7.62712071e+04, -7.58572529e+04, -7.57858401e+04, ...,\n",
       "        -6.62725611e+02, -3.47015740e+02,  0.00000000e+00]])"
      ]
     },
     "execution_count": 9,
     "metadata": {},
     "output_type": "execute_result"
    }
   ],
   "source": [
    "dic[\"profiles\"][\"potential\"]"
   ]
  },
  {
   "cell_type": "code",
   "execution_count": 11,
   "metadata": {},
   "outputs": [
    {
     "data": {
      "text/plain": [
       "80"
      ]
     },
     "execution_count": 11,
     "metadata": {},
     "output_type": "execute_result"
    }
   ],
   "source": [
    "len(dic[\"profiles\"][\"potential\"][0])"
   ]
  },
  {
   "cell_type": "code",
   "execution_count": 12,
   "metadata": {},
   "outputs": [
    {
     "data": {
      "text/plain": [
       "175038"
      ]
     },
     "execution_count": 12,
     "metadata": {},
     "output_type": "execute_result"
    }
   ],
   "source": [
    "len(dic[\"profiles\"][\"potential\"])"
   ]
  },
  {
   "cell_type": "code",
   "execution_count": 13,
   "metadata": {},
   "outputs": [
    {
     "data": {
      "text/plain": [
       "array([[4.04231491e+01, 4.32272034e+01, 4.62257614e+01, ...,\n",
       "        7.06978564e+03, 7.56019824e+03, 8.08463037e+03],\n",
       "       [3.95550003e+01, 4.22988281e+01, 4.52329903e+01, ...,\n",
       "        6.91795068e+03, 7.39783105e+03, 7.91100000e+03],\n",
       "       [3.81445007e+01, 4.07904892e+01, 4.36200180e+01, ...,\n",
       "        6.67126221e+03, 7.13403076e+03, 7.62890039e+03],\n",
       "       ...,\n",
       "       [2.85489988e+00, 3.05293703e+00, 3.26471162e+00, ...,\n",
       "        4.99306213e+02, 5.33941833e+02, 5.70979980e+02],\n",
       "       [2.82994986e+00, 3.02625632e+00, 3.23618007e+00, ...,\n",
       "        4.94942596e+02, 5.29275513e+02, 5.65989990e+02],\n",
       "       [2.54425001e+00, 2.72073793e+00, 2.90946865e+00, ...,\n",
       "        4.44975220e+02, 4.75842041e+02, 5.08849976e+02]])"
      ]
     },
     "execution_count": 13,
     "metadata": {},
     "output_type": "execute_result"
    }
   ],
   "source": [
    "dic[\"profiles\"][\"Rbin\"]"
   ]
  },
  {
   "cell_type": "code",
   "execution_count": 14,
   "metadata": {},
   "outputs": [
    {
     "data": {
      "text/plain": [
       "array([[2.53962173e+01, 4.18668861e+01, 4.47475891e+01, ...,\n",
       "        6.84989453e+03, 7.34663867e+03, 7.79609814e+03],\n",
       "       [2.50229168e+01, 4.09311752e+01, 4.37649231e+01, ...,\n",
       "        6.69080566e+03, 7.16351807e+03, 7.66271777e+03],\n",
       "       [2.29419403e+01, 3.94602280e+01, 4.21799698e+01, ...,\n",
       "        6.46497412e+03, 6.90741699e+03, 7.37540527e+03],\n",
       "       ...,\n",
       "       [1.62901187e+00, 2.92643571e+00, 3.07467675e+00, ...,\n",
       "        4.82817047e+02, 5.16144409e+02, 5.52791809e+02],\n",
       "       [1.89954031e+00, 0.00000000e+00, 0.00000000e+00, ...,\n",
       "        4.80078278e+02, 5.13770630e+02, 5.49054321e+02],\n",
       "       [2.14602733e+00, 0.00000000e+00, 2.78360009e+00, ...,\n",
       "        4.30788696e+02, 4.60752136e+02, 4.92966034e+02]])"
      ]
     },
     "execution_count": 14,
     "metadata": {},
     "output_type": "execute_result"
    }
   ],
   "source": [
    "dic[\"profiles\"][\"Rbin_av\"]"
   ]
  },
  {
   "cell_type": "markdown",
   "metadata": {},
   "source": [
    "## compute mass accretion rates  "
   ]
  },
  {
   "cell_type": "code",
   "execution_count": 28,
   "metadata": {},
   "outputs": [],
   "source": [
    "treedir = \"/Users/fardila/Documents/Data/data_viz/Enia_project/trees/\"\n",
    "treefile = 'tree_0_0_1.dat'"
   ]
  },
  {
   "cell_type": "code",
   "execution_count": 29,
   "metadata": {},
   "outputs": [
    {
     "name": "stdout",
     "output_type": "stream",
     "text": [
      "Performance will be improved by saving this arbor with \"save_arbor\" and reloading:\n",
      "\t>>> a = ytree.load(\"/Users/fardila/Documents/Data/data_viz/Enia_project/trees/tree_0_0_1.dat\")\n",
      "\t>>> fn = a.save_arbor()\n",
      "\t>>> a = ytree.load(fn)\n"
     ]
    }
   ],
   "source": [
    "a = ytree.load(treedir+treefile)\n",
    "a.set_selector(\"max_field_value\", \"mvir\") # the first progenitor descendant will be the most massive one"
   ]
  },
  {
   "cell_type": "code",
   "execution_count": 31,
   "metadata": {},
   "outputs": [],
   "source": [
    "cosmo = cosmology.setCosmology('planck13') \n",
    "\n",
    "## get dynamical time \n",
    "z_now = z_100\n",
    "sf_now = 1./(1+z_now)\n",
    "dyntime = dynamicalTime(z_now, \"200m\", definition='crossing')*1e9 # in years\n",
    "dyntime = dyntime/2. #just to inscrease number of snapshots\n",
    "\n",
    "# ----- FIND SF 1 TDYN AGO USING SPARTA'S METHOD -------\n",
    "\n",
    "# ## time now \n",
    "time_snapshot = cosmo.age(z_now, inverse = False) *1e9\n",
    "\n",
    "# ## time back 1tdyn\n",
    "time_back1dyn = time_snapshot - dyntime\n",
    "\n",
    "## scale factor itdyn ago\n",
    "z_back1dyn = cosmo.age(time_back1dyn/1e9, inverse = True) # with inverse = True we compute z(t)\n",
    "sf_back1dyn = 1/(1+z_back1dyn)\n"
   ]
  },
  {
   "cell_type": "code",
   "execution_count": 32,
   "metadata": {},
   "outputs": [
    {
     "data": {
      "text/plain": [
       "0.827368334038341"
      ]
     },
     "execution_count": 32,
     "metadata": {},
     "output_type": "execute_result"
    }
   ],
   "source": [
    "sf_back1dyn"
   ]
  },
  {
   "cell_type": "markdown",
   "metadata": {},
   "source": [
    "find corresponding snapshot"
   ]
  },
  {
   "cell_type": "code",
   "execution_count": 33,
   "metadata": {},
   "outputs": [
    {
     "name": "stdout",
     "output_type": "stream",
     "text": [
      "94 93 0.8081\n"
     ]
    }
   ],
   "source": [
    "snap_z_table = ascii.read('snap_z.txt', names=['snap', 'a', 'z'])\n",
    "snapshots_we_have=[100,93,87]\n",
    "\n",
    "closest_snap_to_back1dyn = snap_z_table[np.argmin(abs(snap_z_table['a'] - sf_back1dyn))]['snap']\n",
    "snapshot_then = snapshots_we_have[np.argmin(abs(snapshots_we_have - closest_snap_to_back1dyn))]\n",
    "\n",
    "sf_then = snap_z_table[snap_z_table['snap'] == snapshot_then]['a'][0]\n",
    "print(closest_snap_to_back1dyn, snapshot_then,sf_then )"
   ]
  },
  {
   "cell_type": "code",
   "execution_count": 34,
   "metadata": {},
   "outputs": [
    {
     "name": "stderr",
     "output_type": "stream",
     "text": [
      "Loading tree roots: 100%|██████████| 8214616832/8214616832 [00:25<00:00, 323493458.90it/s]\n"
     ]
    }
   ],
   "source": [
    "a_reduced=a[:100]\n",
    "a_reduced=a"
   ]
  },
  {
   "cell_type": "code",
   "execution_count": null,
   "metadata": {},
   "outputs": [],
   "source": [
    "ID_now_tree = []\n",
    "Idx_now_tree = []\n",
    "\n",
    "# collect all the halost for the given scale factor in the tree \n",
    "for itree, tree in enumerate(a_reduced): # a == list of trees for the for loop \n",
    "    id_now = get_id_given_a(tree, sf_now) # given_a means given sf \n",
    "    \n",
    "    if id_now == -1: continue \n",
    "\n",
    "    ID_now_tree.append(id_now)\n",
    "    Idx_now_tree.append(itree)\n",
    "\n",
    "        \n",
    "print (\"Finished collecting all of my halos\")       "
   ]
  },
  {
   "cell_type": "code",
   "execution_count": null,
   "metadata": {},
   "outputs": [],
   "source": [
    "Idx_now_tree = np.array(Idx_now_tree)\n",
    "ID_now_tree = np.array(ID_now_tree)\n",
    "\n",
    "ID_then = []\n",
    "ID_now = []\n",
    "Gamma = []\n",
    "M200b_now = []\n",
    "M200b_then = []"
   ]
  },
  {
   "cell_type": "code",
   "execution_count": null,
   "metadata": {},
   "outputs": [],
   "source": [
    "#ids of halos in catalog \n",
    "ID_now_cat = dic_100[\"profiles\"][\"id\"]"
   ]
  },
  {
   "cell_type": "code",
   "execution_count": null,
   "metadata": {},
   "outputs": [],
   "source": [
    "for ihalo, halo in enumerate(ID_now_cat): \n",
    "    \n",
    "    # find in which tree this halo lies\n",
    "    idx_all_tree = np.where(ID_now_tree == halo)[0]\n",
    "    \n",
    "#     print (idx_all_tree)\n",
    "    if not np.isscalar(idx_all_tree):\n",
    "        if len(idx_all_tree) == 0: \n",
    "            continue \n",
    "        else: \n",
    "            idx_all_tree = idx_all_tree[0] # get the most massive descendant/progenitor to be the main one \n",
    "    \n",
    "    idx_tree = Idx_now_tree[idx_all_tree]\n",
    "    \n",
    "#     print (Idx_now_tree[idx_all_tree], ID_now_tree[idx_all_tree])\n",
    "    \n",
    "    Treenow = get_alltrees_given_a(a[idx_tree], sf_now)\n",
    "    \n",
    "    for treenow in Treenow:\n",
    "        treethen = get_tree_given_a(treenow, sf_then)\n",
    "    \n",
    "        if treethen == -1: \n",
    "            continue\n",
    "\n",
    "        # get the id of the tree node then \n",
    "        id_then = treethen[\"uid\"]\n",
    "        id_now = treenow[\"uid\"]\n",
    "        # get m200b of the tree node then \n",
    "        m200b_then = float(treethen[\"M200b\"])\n",
    "\n",
    "        # get m200b now \n",
    "        m200b_now = float(treenow[\"M200b\"])\n",
    "\n",
    "        # compute gamma \n",
    "        gamma = np.log10(m200b_now/m200b_then)/np.log10(sf_now/sf_then)\n",
    "\n",
    "        Gamma.append(gamma)\n",
    "        ID_then.append(id_then)\n",
    "        ID_now.append(id_now)\n",
    "        M200b_now.append(m200b_now)\n",
    "        M200b_then.append(m200b_then)"
   ]
  },
  {
   "cell_type": "markdown",
   "metadata": {},
   "source": [
    "why don't all halos get an accretion rate?\n"
   ]
  },
  {
   "cell_type": "code",
   "execution_count": null,
   "metadata": {},
   "outputs": [],
   "source": [
    "ID_then = np.array(ID_then)\n",
    "ID_now = np.array(ID_now)\n",
    "Gamma = np.array(Gamma)\n",
    "M200b_now = np.array(M200b_now)\n",
    "M200b_then = np.array(M200b_then)"
   ]
  },
  {
   "cell_type": "markdown",
   "metadata": {},
   "source": [
    "## initially just cut on gamma "
   ]
  },
  {
   "cell_type": "code",
   "execution_count": 41,
   "metadata": {},
   "outputs": [],
   "source": [
    "median_gamma = np.median(Gamma)\n",
    "std_gamma = np.std(Gamma)"
   ]
  },
  {
   "cell_type": "code",
   "execution_count": 42,
   "metadata": {},
   "outputs": [
    {
     "data": {
      "text/plain": [
       "Text(0.5, 0, 'Gamma')"
      ]
     },
     "execution_count": 42,
     "metadata": {},
     "output_type": "execute_result"
    },
    {
     "data": {
      "image/png": "[encoded data removed]",
      "text/plain": [
       "<Figure size 432x288 with 1 Axes>"
      ]
     },
     "metadata": {
      "needs_background": "light"
     },
     "output_type": "display_data"
    }
   ],
   "source": [
    "plt.hist(Gamma, bins=100)\n",
    "plt.axvline(median_gamma+std_gamma, c='r')\n",
    "plt.axvline(median_gamma-std_gamma, c='r' )\n",
    "plt.xlabel('Gamma')"
   ]
  },
  {
   "cell_type": "code",
   "execution_count": 75,
   "metadata": {},
   "outputs": [
    {
     "name": "stderr",
     "output_type": "stream",
     "text": [
      "/Users/fardila/anaconda2/envs/colossus/lib/python3.7/site-packages/ipykernel_launcher.py:4: FutureWarning: Using a non-tuple sequence for multidimensional indexing is deprecated; use `arr[tuple(seq)]` instead of `arr[seq]`. In the future this will be interpreted as an array index, `arr[np.array(seq)]`, which will result either in an error or a different result.\n",
      "  after removing the cwd from sys.path.\n",
      "/Users/fardila/anaconda2/envs/colossus/lib/python3.7/site-packages/ipykernel_launcher.py:5: FutureWarning: Using a non-tuple sequence for multidimensional indexing is deprecated; use `arr[tuple(seq)]` instead of `arr[seq]`. In the future this will be interpreted as an array index, `arr[np.array(seq)]`, which will result either in an error or a different result.\n",
      "  \"\"\"\n"
     ]
    }
   ],
   "source": [
    "high_gamma_mask = [Gamma>median_gamma+std_gamma]\n",
    "low_gamma_mask = [Gamma<median_gamma-std_gamma]\n",
    "\n",
    "ID_now_highG = ID_now[high_gamma_mask]\n",
    "ID_now_lowG = ID_now[low_gamma_mask]"
   ]
  },
  {
   "cell_type": "code",
   "execution_count": 48,
   "metadata": {},
   "outputs": [
    {
     "data": {
      "text/plain": [
       "175038"
      ]
     },
     "execution_count": 48,
     "metadata": {},
     "output_type": "execute_result"
    }
   ],
   "source": [
    "len(dic_100[\"profiles\"]['Rbin'])"
   ]
  },
  {
   "cell_type": "code",
   "execution_count": 76,
   "metadata": {},
   "outputs": [],
   "source": [
    "rho = density(dic_100[\"profiles\"])\n",
    "Rbin = dic_100[\"profiles\"]['Rbin']\n",
    "#scale by r200crit\n",
    "R200c = dic_100[\"profiles\"]['R200c']\n",
    "Rbin_scaled = np.array([r[0]/r[1] for r in zip(Rbin,R200c)])\n",
    "\n",
    "highG_profile_ID = [np.where(ID_now_cat == highG_ID)[0][0] for highG_ID in ID_now_highG]\n",
    "lowG_profile_ID = [np.where(ID_now_cat == lowG_ID)[0][0] for lowG_ID in ID_now_lowG]"
   ]
  },
  {
   "cell_type": "code",
   "execution_count": 147,
   "metadata": {},
   "outputs": [],
   "source": [
    "median_r_highG, median_rho_highG, std_rho_highG = get_median_and_std_profile(rho[highG_profile_ID[:100]], Rbin_scaled[highG_profile_ID[:100]])\n",
    "median_r_lowG, median_rho_lowG, std_rho_lowG = get_median_and_std_profile(rho[lowG_profile_ID[:100]], Rbin_scaled[lowG_profile_ID[:100]])\n"
   ]
  },
  {
   "cell_type": "code",
   "execution_count": 148,
   "metadata": {
    "scrolled": true
   },
   "outputs": [
    {
     "data": {
      "text/plain": [
       "array([-1.        , -0.98657718, -0.97315436, -0.95973154, -0.94630872,\n",
       "       -0.93288591, -0.91946309, -0.90604027, -0.89261745, -0.87919463,\n",
       "       -0.86577181, -0.85234899, -0.83892617, -0.82550336, -0.81208054,\n",
       "       -0.79865772, -0.7852349 , -0.77181208, -0.75838926, -0.74496644,\n",
       "       -0.73154362, -0.71812081, -0.70469799, -0.69127517, -0.67785235,\n",
       "       -0.66442953, -0.65100671, -0.63758389, -0.62416107, -0.61073826,\n",
       "       -0.59731544, -0.58389262, -0.5704698 , -0.55704698, -0.54362416,\n",
       "       -0.53020134, -0.51677852, -0.5033557 , -0.48993289, -0.47651007,\n",
       "       -0.46308725, -0.44966443, -0.43624161, -0.42281879, -0.40939597,\n",
       "       -0.39597315, -0.38255034, -0.36912752, -0.3557047 , -0.34228188,\n",
       "       -0.32885906, -0.31543624, -0.30201342, -0.2885906 , -0.27516779,\n",
       "       -0.26174497, -0.24832215, -0.23489933, -0.22147651, -0.20805369,\n",
       "       -0.19463087, -0.18120805, -0.16778523, -0.15436242, -0.1409396 ,\n",
       "       -0.12751678, -0.11409396, -0.10067114, -0.08724832, -0.0738255 ,\n",
       "       -0.06040268, -0.04697987, -0.03355705, -0.02013423, -0.00671141,\n",
       "        0.00671141,  0.02013423,  0.03355705,  0.04697987,  0.06040268,\n",
       "        0.0738255 ,  0.08724832,  0.10067114,  0.11409396,  0.12751678,\n",
       "        0.1409396 ,  0.15436242,  0.16778523,  0.18120805,  0.19463087,\n",
       "        0.20805369,  0.22147651,  0.23489933,  0.24832215,  0.26174497,\n",
       "        0.27516779,  0.2885906 ,  0.30201342,  0.31543624,  0.32885906,\n",
       "        0.34228188,  0.3557047 ,  0.36912752,  0.38255034,  0.39597315,\n",
       "        0.40939597,  0.42281879,  0.43624161,  0.44966443,  0.46308725,\n",
       "        0.47651007,  0.48993289,  0.5033557 ,  0.51677852,  0.53020134,\n",
       "        0.54362416,  0.55704698,  0.5704698 ,  0.58389262,  0.59731544,\n",
       "        0.61073826,  0.62416107,  0.63758389,  0.65100671,  0.66442953,\n",
       "        0.67785235,  0.69127517,  0.70469799,  0.71812081,  0.73154362,\n",
       "        0.74496644,  0.75838926,  0.77181208,  0.7852349 ,  0.79865772,\n",
       "        0.81208054,  0.82550336,  0.83892617,  0.85234899,  0.86577181,\n",
       "        0.87919463,  0.89261745,  0.90604027,  0.91946309,  0.93288591,\n",
       "        0.94630872,  0.95973154,  0.97315436,  0.98657718,  1.        ])"
      ]
     },
     "execution_count": 148,
     "metadata": {},
     "output_type": "execute_result"
    }
   ],
   "source": [
    "median_r_lowG"
   ]
  },
  {
   "cell_type": "code",
   "execution_count": 141,
   "metadata": {
    "scrolled": true
   },
   "outputs": [
    {
     "data": {
      "text/plain": [
       "array([0.10970841, 0.11035217, 0.1110488 , 0.10980252, 0.10651333,\n",
       "       0.10339841, 0.10235305, 0.10105006, 0.10164579, 0.10293255,\n",
       "       0.10105029, 0.09607918, 0.09175469, 0.08953512, 0.08910596,\n",
       "       0.09094272, 0.09215802, 0.09017091, 0.08796767, 0.08593619,\n",
       "       0.08232421, 0.07836222, 0.07600987, 0.07448033, 0.07341995,\n",
       "       0.07268744, 0.07229462, 0.07009432, 0.06914645, 0.06988346,\n",
       "       0.07093434, 0.07231983, 0.07423734, 0.07425113, 0.07353066,\n",
       "       0.07254411, 0.07251256, 0.07307409, 0.07445434, 0.07672881,\n",
       "       0.07798468, 0.07791456, 0.07726268, 0.07623401, 0.07502937,\n",
       "       0.07343066, 0.07209642, 0.07215601, 0.07205098, 0.07027321,\n",
       "       0.06850743, 0.06910675, 0.06954386, 0.06891578, 0.06922184,\n",
       "       0.06731997, 0.06480022, 0.06375519, 0.06349408, 0.06395387,\n",
       "       0.06592797, 0.0687029 , 0.0710686 , 0.07349442, 0.07539376,\n",
       "       0.07998567, 0.08192108, 0.08462926, 0.08650109, 0.08803175,\n",
       "       0.08974281, 0.09220142, 0.095715  , 0.09704067, 0.1013485 ,\n",
       "       0.10397331, 0.10533288, 0.1095555 , 0.11874161, 0.12972571,\n",
       "       0.13738341, 0.14448634, 0.15166173, 0.16146125, 0.1753995 ,\n",
       "       0.18642921, 0.19586226, 0.20599387, 0.21456327, 0.22236574,\n",
       "       0.23216356, 0.24151652, 0.24955261, 0.25537824, 0.26308871,\n",
       "       0.26386077, 0.26366164, 0.26766776, 0.27407626, 0.2785658 ,\n",
       "       0.28059032, 0.28242573, 0.2876638 , 0.2919027 , 0.29130283,\n",
       "       0.29000518, 0.28849442, 0.2921132 , 0.2979375 , 0.30554416,\n",
       "       0.30970192, 0.30951569, 0.30686079, 0.30523401, 0.3087    ,\n",
       "       0.31690193, 0.31843441, 0.31818483, 0.32244031, 0.32609085,\n",
       "       0.33890882, 0.34846181, 0.34637498, 0.33880082, 0.3400024 ,\n",
       "       0.34484035, 0.34460775, 0.33259032, 0.32127276, 0.32029956,\n",
       "       0.31624517, 0.31257654, 0.30855654, 0.30326983, 0.30152846,\n",
       "       0.30261135, 0.29791009, 0.30339676, 0.31299112, 0.32394745,\n",
       "       0.32799541, 0.33575147, 0.33651922, 0.33990266, 0.34282826,\n",
       "       0.33704388, 0.32865706, 0.31813943, 0.31497674, 0.31316444])"
      ]
     },
     "execution_count": 141,
     "metadata": {},
     "output_type": "execute_result"
    }
   ],
   "source": [
    "std_rho_highG"
   ]
  },
  {
   "cell_type": "code",
   "execution_count": 155,
   "metadata": {},
   "outputs": [
    {
     "data": {
      "image/png": "[encoded data removed]",
      "text/plain": [
       "<Figure size 432x288 with 1 Axes>"
      ]
     },
     "metadata": {
      "needs_background": "light"
     },
     "output_type": "display_data"
    }
   ],
   "source": [
    "# plt.plot(np.log10(Rbin_scaled[highG_profile_ID[:100]].T), np.log10(rho[highG_profile_ID[:100]].T), c='r', alpha=0.05)\n",
    "# plt.plot(np.log10(Rbin_scaled[lowG_profile_ID[:100]].T), np.log10(rho[lowG_profile_ID[:100]].T), c='b', alpha=0.05)\n",
    "plt.plot(median_r_highG, median_rho_highG, c='r', linewidth=2, label='High Gamma')\n",
    "plt.plot(median_r_lowG, median_rho_lowG, c='b', linewidth=2, label='Low Gamma')\n",
    "\n",
    "plt.fill_between(median_r_highG, median_rho_highG+std_rho_highG, median_rho_highG-std_rho_highG,\n",
    "                 alpha=0.3, color='r')\n",
    "plt.fill_between(median_r_highG, median_rho_highG+2*std_rho_highG, median_rho_highG-2*std_rho_highG,\n",
    "                 alpha=0.1, color='r')\n",
    "plt.fill_between(median_r_lowG, median_rho_lowG+std_rho_lowG, median_rho_lowG-std_rho_lowG,\n",
    "                 alpha=0.3, color='b')\n",
    "plt.fill_between(median_r_lowG, median_rho_lowG+2*std_rho_lowG, median_rho_lowG-2*std_rho_lowG,\n",
    "                 alpha=0.1, color='b')\n",
    "\n",
    "plt.xlabel('log(R / R200c)')\n",
    "plt.ylabel('log(Density)')\n",
    "plt.legend()\n",
    "plt.show()"
   ]
  },
  {
   "cell_type": "markdown",
   "metadata": {},
   "source": [
    "## get nus"
   ]
  },
  {
   "cell_type": "code",
   "execution_count": 12,
   "metadata": {},
   "outputs": [],
   "source": [
    "from colossus.lss.peaks import peakHeight\n",
    "\n",
    "nu = peakHeight(dic_100[\"profiles\"]['M200c'], z_100)"
   ]
  },
  {
   "cell_type": "code",
   "execution_count": 16,
   "metadata": {},
   "outputs": [
    {
     "data": {
      "image/png": "[encoded data removed]",
      "text/plain": [
       "<Figure size 432x288 with 1 Axes>"
      ]
     },
     "metadata": {
      "needs_background": "light"
     },
     "output_type": "display_data"
    }
   ],
   "source": [
    "plt.hist(nu, bins =100)\n",
    "plt.show()"
   ]
  },
  {
   "cell_type": "code",
   "execution_count": 17,
   "metadata": {},
   "outputs": [
    {
     "data": {
      "image/png": "[encoded data removed]",
      "text/plain": [
       "<Figure size 432x288 with 1 Axes>"
      ]
     },
     "metadata": {
      "needs_background": "light"
     },
     "output_type": "display_data"
    }
   ],
   "source": [
    "plt.hist(nu[nu>1], bins =100)\n",
    "plt.show()"
   ]
  },
  {
   "cell_type": "markdown",
   "metadata": {},
   "source": [
    "## plot Gamma in bins of nu "
   ]
  },
  {
   "cell_type": "code",
   "execution_count": 62,
   "metadata": {},
   "outputs": [],
   "source": [
    "nus_with_Gamma = np.array([nu[np.where(ID_now_cat == id)[0][0]] for id in ID_now])"
   ]
  },
  {
   "cell_type": "code",
   "execution_count": 103,
   "metadata": {},
   "outputs": [
    {
     "data": {
      "text/plain": [
       "21195"
      ]
     },
     "execution_count": 103,
     "metadata": {},
     "output_type": "execute_result"
    }
   ],
   "source": [
    "np.sum(tuple(]nus_with_Gamma<nu_low))"
   ]
  },
  {
   "cell_type": "code",
   "execution_count": 104,
   "metadata": {},
   "outputs": [
    {
     "data": {
      "text/plain": [
       "21195"
      ]
     },
     "execution_count": 104,
     "metadata": {},
     "output_type": "execute_result"
    }
   ],
   "source": [
    "np.sum([nus_with_Gamma<nu_low])"
   ]
  },
  {
   "cell_type": "code",
   "execution_count": 157,
   "metadata": {},
   "outputs": [
    {
     "data": {
      "text/plain": [
       "array([[False, False, False, ...,  True,  True,  True]])"
      ]
     },
     "execution_count": 157,
     "metadata": {},
     "output_type": "execute_result"
    }
   ],
   "source": [
    "np.array([nus_with_Gamma<nu_low])"
   ]
  },
  {
   "cell_type": "code",
   "execution_count": 159,
   "metadata": {
    "scrolled": true
   },
   "outputs": [],
   "source": [
    "nu_low = 0.75\n",
    "nu_high = 1.0\n",
    "\n",
    "lowNu_mask = np.array([nus_with_Gamma<nu_low])[0]\n",
    "midNu_mask = np.array([(nus_with_Gamma>nu_low) & (nus_with_Gamma<nu_high)])[0]\n",
    "highNu_mask = np.array([nus_with_Gamma>nu_high])[0]\n",
    "\n",
    "lowNu_Gammas = Gamma[lowNu_mask]\n",
    "midNu_Gammas = Gamma[midNu_mask]\n",
    "highNu_Gammas = Gamma[highNu_mask]"
   ]
  },
  {
   "cell_type": "code",
   "execution_count": 107,
   "metadata": {},
   "outputs": [
    {
     "data": {
      "image/png": "[encoded data removed]",
      "text/plain": [
       "<Figure size 432x864 with 3 Axes>"
      ]
     },
     "metadata": {
      "needs_background": "light"
     },
     "output_type": "display_data"
    }
   ],
   "source": [
    "# plt.figure(figsize=[30,15])\n",
    "fig, axes = plt.subplots(3,1, sharex = True, figsize=[6,12])\n",
    "\n",
    "axes[0].hist(lowNu_Gammas, bins=50)\n",
    "axes[0].text(0.7,0.8, 'nu < {0}'.format(nu_low), transform=axes[0].transAxes)\n",
    "\n",
    "axes[1].hist(midNu_Gammas, bins=30)\n",
    "axes[1].text(0.7,0.8, '{0} < nu < {1}'.format(nu_low, nu_high), transform=axes[1].transAxes)\n",
    "\n",
    "axes[2].hist(highNu_Gammas, bins=30)\n",
    "axes[2].text(0.7,0.8, '{0} < nu'.format(nu_high), transform=axes[2].transAxes)\n",
    "\n",
    "# [ax.text(0.8,0.8, 'nu = ') for ax in axes]\n",
    "[ax.axvline(0, color='r') for ax in axes]\n",
    "[ax.axvline(2.5, color='cyan') for ax in axes]\n",
    "\n",
    "plt.xlabel('Gamma')\n",
    "plt.show()"
   ]
  },
  {
   "cell_type": "code",
   "execution_count": 98,
   "metadata": {},
   "outputs": [
    {
     "data": {
      "text/plain": [
       "11"
      ]
     },
     "execution_count": 98,
     "metadata": {},
     "output_type": "execute_result"
    }
   ],
   "source": [
    "np.sum(highNu_Gammas<0)"
   ]
  },
  {
   "cell_type": "code",
   "execution_count": 99,
   "metadata": {},
   "outputs": [
    {
     "data": {
      "text/plain": [
       "255"
      ]
     },
     "execution_count": 99,
     "metadata": {},
     "output_type": "execute_result"
    }
   ],
   "source": [
    "len(highNu_Gammas)"
   ]
  },
  {
   "cell_type": "markdown",
   "metadata": {},
   "source": [
    "## plot rho in bins of Gamma and nu "
   ]
  },
  {
   "cell_type": "code",
   "execution_count": 112,
   "metadata": {},
   "outputs": [
    {
     "data": {
      "text/plain": [
       "22960"
      ]
     },
     "execution_count": 112,
     "metadata": {},
     "output_type": "execute_result"
    }
   ],
   "source": [
    "len(lowGamma_mask[0])"
   ]
  },
  {
   "cell_type": "code",
   "execution_count": 116,
   "metadata": {},
   "outputs": [
    {
     "data": {
      "text/plain": [
       "22960"
      ]
     },
     "execution_count": 116,
     "metadata": {},
     "output_type": "execute_result"
    }
   ],
   "source": [
    "len(ID_now)"
   ]
  },
  {
   "cell_type": "code",
   "execution_count": 160,
   "metadata": {},
   "outputs": [],
   "source": [
    "Gamma_low = 0.0\n",
    "Gamma_high = 2.5\n",
    "\n",
    "lowGamma_mask = np.array([Gamma<Gamma_low])[0]\n",
    "midGamma_mask = np.array([(Gamma>Gamma_low) & (nus_with_Gamma<Gamma_high)])[0]\n",
    "highGamma_mask = np.array([Gamma>Gamma_high])[0]\n"
   ]
  },
  {
   "cell_type": "code",
   "execution_count": 361,
   "metadata": {},
   "outputs": [],
   "source": [
    "rho_100 = density(dic_100[\"profiles\"])\n",
    "Rbin_100 = dic_100[\"profiles\"]['Rbin']\n",
    "\n",
    "#scale by r200crit\n",
    "R200c_100 = dic_100[\"profiles\"]['R200c']\n",
    "Rbin_scaled_100 = np.array([r[0]/r[1] for r in zip(Rbin_100,R200c_100)])\n",
    "\n",
    "median_r = np.linspace(-1,1,150)"
   ]
  },
  {
   "cell_type": "code",
   "execution_count": 362,
   "metadata": {},
   "outputs": [],
   "source": [
    "mask_dict = {'highNu_mask': highNu_mask, 'midNu_mask': midNu_mask, 'lowNu_mask': lowNu_mask, \n",
    " 'highGamma_mask': highGamma_mask, 'midGamma_mask': midGamma_mask, 'lowGamma_mask': lowGamma_mask}"
   ]
  },
  {
   "cell_type": "code",
   "execution_count": 369,
   "metadata": {},
   "outputs": [
    {
     "name": "stdout",
     "output_type": "stream",
     "text": [
      "('highNu_mask', 'highGamma_mask')\n",
      "('highNu_mask', 'midGamma_mask')\n",
      "('highNu_mask', 'lowGamma_mask')\n",
      "('midNu_mask', 'highGamma_mask')\n",
      "('midNu_mask', 'midGamma_mask')\n",
      "('midNu_mask', 'lowGamma_mask')\n",
      "('lowNu_mask', 'highGamma_mask')\n"
     ]
    },
    {
     "name": "stderr",
     "output_type": "stream",
     "text": [
      "/Users/fardila/anaconda2/envs/colossus/lib/python3.7/site-packages/ipykernel_launcher.py:6: RuntimeWarning: divide by zero encountered in log10\n",
      "  \n"
     ]
    },
    {
     "name": "stdout",
     "output_type": "stream",
     "text": [
      "('lowNu_mask', 'midGamma_mask')\n",
      "('lowNu_mask', 'lowGamma_mask')\n"
     ]
    }
   ],
   "source": [
    "all_r_median_std = []\n",
    "n_halos = []\n",
    "\n",
    "for masks in itertools.product(['highNu_mask', 'midNu_mask', 'lowNu_mask'], ['highGamma_mask', 'midGamma_mask', 'lowGamma_mask']):\n",
    "    print(masks)\n",
    "    \n",
    "    masked_Gamma_ID = ID_now[(mask_dict[masks[0]]) & (mask_dict[masks[1]])]\n",
    "    \n",
    "    masked_catalog_ID = np.array([np.where(ID_now_cat == ID)[0][0] for ID in masked_Gamma_ID])\n",
    "    \n",
    "    all_r_median_std.append( get_median_and_std_profile(rho_100[masked_catalog_ID],\n",
    "                                              Rbin_scaled_100[masked_catalog_ID], median_r ))\n",
    "    n_halos.append(len(rho_100[masked_catalog_ID]))\n"
   ]
  },
  {
   "cell_type": "code",
   "execution_count": 371,
   "metadata": {},
   "outputs": [
    {
     "data": {
      "image/png": "[encoded data removed]",
      "text/plain": [
       "<Figure size 1080x1080 with 9 Axes>"
      ]
     },
     "metadata": {
      "needs_background": "light"
     },
     "output_type": "display_data"
    }
   ],
   "source": [
    "fig, axes = plt.subplots(3,3, sharex = True, sharey = True, figsize=(15,15))\n",
    "\n",
    "#add text for bins\n",
    "gamma_bins = [[2.5,''],[0,2.5],['',0]]\n",
    "nu_bins = [[1.0,''],[0.75,1.0],['',0.75]]\n",
    "[ax.text(0.5,0.8, '{0} < Gamma < {1}'.format(bins[0], bins[1]), transform=ax.transAxes)\\\n",
    "     for ax, bins in zip(axes[0,:], gamma_bins)]\n",
    "[ax.text(0.5,0.7, '{0} < nu < {1}'.format(bins[0], bins[1]), transform=ax.transAxes)\\\n",
    "     for ax, bins in zip(axes[:,0], nu_bins)]\n",
    "i=0\n",
    "for row in axes:\n",
    "    for ax in row:\n",
    "        #plot first one in all\n",
    "        ax.plot(median_r, all_r_median_std[0][0], c='k', linewidth=2, linestyle ='--')\n",
    "        \n",
    "        #median\n",
    "        ax.plot(median_r, all_r_median_std[i][0], c='r', linewidth=2)\n",
    "        ax.fill_between(median_r, \n",
    "                        all_r_median_std[i][0]+all_r_median_std[i][1], all_r_median_std[i][0]-all_r_median_std[i][1],\n",
    "                        alpha=0.3, color='r')\n",
    "        ax.fill_between(median_r, \n",
    "                        all_r_median_std[i][0]+2*all_r_median_std[i][1], all_r_median_std[i][0]-2*all_r_median_std[i][1],\n",
    "                        alpha=0.1, color='r')\n",
    "        \n",
    "        #add number of halos\n",
    "        ax.text(0.1,0.1, '{0} halos'.format(n_halos[i]), transform=ax.transAxes)\n",
    "        i+=1\n",
    "\n",
    "\n",
    "\n",
    "[ax.set_xlabel('log( R / R200c)')for ax in axes[2,:]]\n",
    "[ax.set_ylabel('Density')for ax in axes[:,0]]\n",
    "plt.show()"
   ]
  },
  {
   "cell_type": "markdown",
   "metadata": {},
   "source": [
    "# TODO: add earlier redshift "
   ]
  },
  {
   "cell_type": "markdown",
   "metadata": {},
   "source": [
    "use larger sim"
   ]
  },
  {
   "cell_type": "markdown",
   "metadata": {},
   "source": [
    "cut by halo mass (>14)"
   ]
  },
  {
   "cell_type": "markdown",
   "metadata": {},
   "source": [
    "alternative: show how it evolves with Gamma"
   ]
  },
  {
   "cell_type": "markdown",
   "metadata": {},
   "source": [
    "## check masses and select only most massive halos "
   ]
  },
  {
   "cell_type": "code",
   "execution_count": 6,
   "metadata": {},
   "outputs": [],
   "source": [
    "masses = dic[\"profiles\"]['M200c']"
   ]
  },
  {
   "cell_type": "code",
   "execution_count": 7,
   "metadata": {},
   "outputs": [
    {
     "data": {
      "text/plain": [
       "array([4.52979824e+13, 4.42507186e+13, 3.97790342e+13, ...,\n",
       "       2.50145152e+10, 2.30853499e+10, 2.51406760e+10])"
      ]
     },
     "execution_count": 7,
     "metadata": {},
     "output_type": "execute_result"
    }
   ],
   "source": [
    "masses"
   ]
  },
  {
   "cell_type": "code",
   "execution_count": 8,
   "metadata": {},
   "outputs": [
    {
     "data": {
      "image/png": "[encoded data removed]",
      "text/plain": [
       "<Figure size 432x288 with 1 Axes>"
      ]
     },
     "metadata": {
      "needs_background": "light"
     },
     "output_type": "display_data"
    }
   ],
   "source": [
    "plt.hist(np.log10(masses), 1000)\n",
    "plt.show()"
   ]
  },
  {
   "cell_type": "markdown",
   "metadata": {},
   "source": [
    "### use halos above 10^13.5\n"
   ]
  },
  {
   "cell_type": "code",
   "execution_count": 16,
   "metadata": {},
   "outputs": [
    {
     "data": {
      "text/plain": [
       "83"
      ]
     },
     "execution_count": 16,
     "metadata": {},
     "output_type": "execute_result"
    }
   ],
   "source": [
    "mass_mask=[np.log10(masses)>13.5]\n",
    "np.sum(mass_mask)"
   ]
  },
  {
   "cell_type": "markdown",
   "metadata": {},
   "source": [
    "## what are the units? "
   ]
  },
  {
   "cell_type": "markdown",
   "metadata": {},
   "source": [
    "## check how many halos between 13.8 and 14.1 for each sim "
   ]
  },
  {
   "cell_type": "code",
   "execution_count": 9,
   "metadata": {},
   "outputs": [],
   "source": [
    "sims_sizes = ['L0063', 'L0125', 'L0250', 'L0500', 'L1000']\n"
   ]
  },
  {
   "cell_type": "code",
   "execution_count": 14,
   "metadata": {},
   "outputs": [
    {
     "name": "stdout",
     "output_type": "stream",
     "text": [
      "L0063\n",
      "Loaded Profiles_Box_L0063_N1024_CBol_Np200_100.bhp from pickle, took 0.62 seconds\n",
      "0  halos in mass range\n",
      "L0125\n",
      "Loaded Profiles_Box_L0125_N1024_CBol_Np200_100.bhp from pickle, took 0.77 seconds\n",
      "1  halos in mass range\n",
      "L0250\n",
      "Loaded Profiles_Box_L0250_N1024_CBol_Np200_100.bhp from pickle, took 0.95 seconds\n",
      "313  halos in mass range\n",
      "L0500\n",
      "Loaded Profiles_Box_L0500_N1024_CBol_Np200_100.bhp from binary, took 15.93 seconds, saving 1.46 seconds.\n",
      "2470  halos in mass range\n",
      "L1000\n",
      "Loaded Profiles_Box_L1000_N1024_CBol_Np200_100.bhp from binary, took 14.90 seconds, saving 1.44 seconds.\n",
      "19259  halos in mass range\n"
     ]
    },
    {
     "name": "stderr",
     "output_type": "stream",
     "text": [
      "/Users/fardila/anaconda2/envs/colossus/lib/python3.7/site-packages/ipykernel_launcher.py:5: RuntimeWarning: invalid value encountered in log10\n",
      "  \"\"\"\n",
      "/Users/fardila/anaconda2/envs/colossus/lib/python3.7/site-packages/ipykernel_launcher.py:5: RuntimeWarning: invalid value encountered in greater\n",
      "  \"\"\"\n",
      "/Users/fardila/anaconda2/envs/colossus/lib/python3.7/site-packages/ipykernel_launcher.py:5: RuntimeWarning: invalid value encountered in less\n",
      "  \"\"\"\n"
     ]
    }
   ],
   "source": [
    "for sim in sims_sizes:\n",
    "    print(sim)\n",
    "    dic = load(sim,100)\n",
    "    masses = dic[\"profiles\"]['M200c']\n",
    "    mass_mask=[(np.log10(masses)>13.8)&(np.log10(masses)<14.1)]\n",
    "    print(np.sum(mass_mask), ' halos in mass range')"
   ]
  },
  {
   "cell_type": "markdown",
   "metadata": {},
   "source": [
    "# Final plan: compare across three timesteps for current simulation. Split by Gamma. Allow for user selected gamma range"
   ]
  },
  {
   "cell_type": "code",
   "execution_count": null,
   "metadata": {},
   "outputs": [],
   "source": [
    "masses = dic_100[\"profiles\"]['M200c']\n",
    "masses_with_Gamma = np.array([masses[np.where(ID_now_cat == id)[0][0]] for id in ID_now])"
   ]
  },
  {
   "cell_type": "code",
   "execution_count": 45,
   "metadata": {},
   "outputs": [
    {
     "data": {
      "text/plain": [
       "846"
      ]
     },
     "execution_count": 45,
     "metadata": {},
     "output_type": "execute_result"
    }
   ],
   "source": [
    "mass_mask = [np.log10(masses_with_Gamma)>12.0][0]\n",
    "np.sum(mass_mask)"
   ]
  },
  {
   "cell_type": "code",
   "execution_count": 35,
   "metadata": {},
   "outputs": [],
   "source": [
    "Gamma_low = 0.0\n",
    "Gamma_high = 2.5\n",
    "\n",
    "lowGamma_mask = np.array([Gamma<Gamma_low])[0]\n",
    "midGamma_mask = np.array([(Gamma>Gamma_low) & (Gamma<Gamma_high)])[0]\n",
    "highGamma_mask = np.array([Gamma>Gamma_high])[0]\n"
   ]
  },
  {
   "cell_type": "code",
   "execution_count": 36,
   "metadata": {},
   "outputs": [
    {
     "data": {
      "text/plain": [
       "(22956, 22956, 22956, 22956)"
      ]
     },
     "execution_count": 36,
     "metadata": {},
     "output_type": "execute_result"
    }
   ],
   "source": [
    "len(mass_mask), len(lowGamma_mask), len(midGamma_mask), len(highGamma_mask)"
   ]
  },
  {
   "cell_type": "code",
   "execution_count": 38,
   "metadata": {},
   "outputs": [],
   "source": [
    "mask_dict = {'highGamma_mask': highGamma_mask, 'midGamma_mask': midGamma_mask, 'lowGamma_mask': lowGamma_mask}"
   ]
  },
  {
   "cell_type": "code",
   "execution_count": 8,
   "metadata": {
    "scrolled": false
   },
   "outputs": [
    {
     "ename": "NameError",
     "evalue": "name 'dic_100' is not defined",
     "output_type": "error",
     "traceback": [
      "\u001b[0;31m---------------------------------------------------------------------------\u001b[0m",
      "\u001b[0;31mNameError\u001b[0m                                 Traceback (most recent call last)",
      "\u001b[0;32m<ipython-input-8-297e1f5959b1>\u001b[0m in \u001b[0;36m<module>\u001b[0;34m\u001b[0m\n\u001b[0;32m----> 1\u001b[0;31m \u001b[0;32mfor\u001b[0m \u001b[0mdic\u001b[0m \u001b[0;32min\u001b[0m \u001b[0;34m[\u001b[0m\u001b[0mdic_100\u001b[0m\u001b[0;34m,\u001b[0m \u001b[0mdic_93\u001b[0m\u001b[0;34m,\u001b[0m \u001b[0mdic_87\u001b[0m\u001b[0;34m]\u001b[0m\u001b[0;34m:\u001b[0m\u001b[0;34m\u001b[0m\u001b[0;34m\u001b[0m\u001b[0m\n\u001b[0m\u001b[1;32m      2\u001b[0m \u001b[0;34m\u001b[0m\u001b[0m\n\u001b[1;32m      3\u001b[0m     \u001b[0mprint\u001b[0m\u001b[0;34m(\u001b[0m\u001b[0mdic\u001b[0m\u001b[0;34m[\u001b[0m\u001b[0;34m'z'\u001b[0m\u001b[0;34m]\u001b[0m\u001b[0;34m)\u001b[0m\u001b[0;34m\u001b[0m\u001b[0;34m\u001b[0m\u001b[0m\n\u001b[1;32m      4\u001b[0m \u001b[0;34m\u001b[0m\u001b[0m\n\u001b[1;32m      5\u001b[0m     \u001b[0mrho\u001b[0m \u001b[0;34m=\u001b[0m \u001b[0mdensity\u001b[0m\u001b[0;34m(\u001b[0m\u001b[0mdic\u001b[0m\u001b[0;34m[\u001b[0m\u001b[0;34m\"profiles\"\u001b[0m\u001b[0;34m]\u001b[0m\u001b[0;34m)\u001b[0m\u001b[0;34m\u001b[0m\u001b[0;34m\u001b[0m\u001b[0m\n",
      "\u001b[0;31mNameError\u001b[0m: name 'dic_100' is not defined"
     ]
    }
   ],
   "source": [
    "for dic in [dic_100, dic_93, dic_87]:\n",
    "    \n",
    "    print(dic['z'])\n",
    "    \n",
    "    rho = density(dic[\"profiles\"])\n",
    "    Rbin = dic[\"profiles\"]['Rbin']\n",
    "\n",
    "    #scale by r200crit\n",
    "    R200c = dic[\"profiles\"]['R200c']\n",
    "    Rbin_scaled = np.array([r[0]/r[1] for r in zip(Rbin,R200c)])\n",
    "\n",
    "    median_r = np.linspace(-1,1,150)\n",
    "    \n",
    "    all_r_median_std = []\n",
    "    n_halos = []\n",
    "\n",
    "    for mask in ['highGamma_mask', 'midGamma_mask', 'lowGamma_mask']:\n",
    "        print(mask)\n",
    "\n",
    "        masked_Gamma_ID = ID_now[(mask_dict[mask]) & (mass_mask)]\n",
    "\n",
    "        masked_catalog_ID = np.array([np.where(ID_now_cat == ID)[0][0] for ID in masked_Gamma_ID])\n",
    "\n",
    "        all_r_median_std.append( get_median_and_std_profile(rho[masked_catalog_ID],\n",
    "                                                  Rbin_scaled[masked_catalog_ID], median_r ))\n",
    "        n_halos.append(len(rho[masked_catalog_ID]))\n",
    "        print(len(rho[masked_catalog_ID]))\n",
    "        \n",
    "     \n",
    "    fig = plt.figure(figsize=(10,8))\n",
    "\n",
    "    for gamma_bin, label in zip(all_r_median_std, ['high Gamma', 'mid Gamma', 'low Gamma']):\n",
    "\n",
    "        #median\n",
    "        line = plt.plot(median_r, gamma_bin[0], linewidth=4, label=label)[0]\n",
    "        plt.fill_between(median_r, \n",
    "                        gamma_bin[0]+gamma_bin[1], gamma_bin[0]-gamma_bin[1],\n",
    "                        alpha=0.3, color = line.get_color())\n",
    "    #     plt.fill_between(median_r, \n",
    "    #                     gamma_bin[0]+2*gamma_bin[1], gamma_bin[0]-2*gamma_bin[1],\n",
    "    #                     alpha=0.1, color = line.get_color())\n",
    "\n",
    "    #     #add number of halos\n",
    "    #     ax.text(0.1,0.1, '{0} halos'.format(n_halos[i]), transform=ax.transAxes)\n",
    "\n",
    "\n",
    "    plt.xlabel('log( R / R200c)')\n",
    "    plt.ylabel('Density')\n",
    "    plt.legend()\n",
    "    plt.show()   "
   ]
  },
  {
   "cell_type": "code",
   "execution_count": 20,
   "metadata": {},
   "outputs": [
    {
     "data": {
      "text/html": [
       "\n",
       "<link rel=\"stylesheet\"\n",
       "href=\"https://maxcdn.bootstrapcdn.com/font-awesome/4.4.0/\n",
       "css/font-awesome.min.css\">\n",
       "<script language=\"javascript\">\n",
       "  /* Define the Animation class */\n",
       "  function Animation(frames, img_id, slider_id, interval, loop_select_id){\n",
       "    this.img_id = img_id;\n",
       "    this.slider_id = slider_id;\n",
       "    this.loop_select_id = loop_select_id;\n",
       "    this.interval = interval;\n",
       "    this.current_frame = 0;\n",
       "    this.direction = 0;\n",
       "    this.timer = null;\n",
       "    this.frames = new Array(frames.length);\n",
       "\n",
       "    for (var i=0; i<frames.length; i++)\n",
       "    {\n",
       "     this.frames[i] = new Image();\n",
       "     this.frames[i].src = frames[i];\n",
       "    }\n",
       "    document.getElementById(this.slider_id).max = this.frames.length - 1;\n",
       "    this.set_frame(this.current_frame);\n",
       "  }\n",
       "\n",
       "  Animation.prototype.get_loop_state = function(){\n",
       "    var button_group = document[this.loop_select_id].state;\n",
       "    for (var i = 0; i < button_group.length; i++) {\n",
       "        var button = button_group[i];\n",
       "        if (button.checked) {\n",
       "            return button.value;\n",
       "        }\n",
       "    }\n",
       "    return undefined;\n",
       "  }\n",
       "\n",
       "  Animation.prototype.set_frame = function(frame){\n",
       "    this.current_frame = frame;\n",
       "    document.getElementById(this.img_id).src =\n",
       "            this.frames[this.current_frame].src;\n",
       "    document.getElementById(this.slider_id).value = this.current_frame;\n",
       "  }\n",
       "\n",
       "  Animation.prototype.next_frame = function()\n",
       "  {\n",
       "    this.set_frame(Math.min(this.frames.length - 1, this.current_frame + 1));\n",
       "  }\n",
       "\n",
       "  Animation.prototype.previous_frame = function()\n",
       "  {\n",
       "    this.set_frame(Math.max(0, this.current_frame - 1));\n",
       "  }\n",
       "\n",
       "  Animation.prototype.first_frame = function()\n",
       "  {\n",
       "    this.set_frame(0);\n",
       "  }\n",
       "\n",
       "  Animation.prototype.last_frame = function()\n",
       "  {\n",
       "    this.set_frame(this.frames.length - 1);\n",
       "  }\n",
       "\n",
       "  Animation.prototype.slower = function()\n",
       "  {\n",
       "    this.interval /= 0.7;\n",
       "    if(this.direction > 0){this.play_animation();}\n",
       "    else if(this.direction < 0){this.reverse_animation();}\n",
       "  }\n",
       "\n",
       "  Animation.prototype.faster = function()\n",
       "  {\n",
       "    this.interval *= 0.7;\n",
       "    if(this.direction > 0){this.play_animation();}\n",
       "    else if(this.direction < 0){this.reverse_animation();}\n",
       "  }\n",
       "\n",
       "  Animation.prototype.anim_step_forward = function()\n",
       "  {\n",
       "    this.current_frame += 1;\n",
       "    if(this.current_frame < this.frames.length){\n",
       "      this.set_frame(this.current_frame);\n",
       "    }else{\n",
       "      var loop_state = this.get_loop_state();\n",
       "      if(loop_state == \"loop\"){\n",
       "        this.first_frame();\n",
       "      }else if(loop_state == \"reflect\"){\n",
       "        this.last_frame();\n",
       "        this.reverse_animation();\n",
       "      }else{\n",
       "        this.pause_animation();\n",
       "        this.last_frame();\n",
       "      }\n",
       "    }\n",
       "  }\n",
       "\n",
       "  Animation.prototype.anim_step_reverse = function()\n",
       "  {\n",
       "    this.current_frame -= 1;\n",
       "    if(this.current_frame >= 0){\n",
       "      this.set_frame(this.current_frame);\n",
       "    }else{\n",
       "      var loop_state = this.get_loop_state();\n",
       "      if(loop_state == \"loop\"){\n",
       "        this.last_frame();\n",
       "      }else if(loop_state == \"reflect\"){\n",
       "        this.first_frame();\n",
       "        this.play_animation();\n",
       "      }else{\n",
       "        this.pause_animation();\n",
       "        this.first_frame();\n",
       "      }\n",
       "    }\n",
       "  }\n",
       "\n",
       "  Animation.prototype.pause_animation = function()\n",
       "  {\n",
       "    this.direction = 0;\n",
       "    if (this.timer){\n",
       "      clearInterval(this.timer);\n",
       "      this.timer = null;\n",
       "    }\n",
       "  }\n",
       "\n",
       "  Animation.prototype.play_animation = function()\n",
       "  {\n",
       "    this.pause_animation();\n",
       "    this.direction = 1;\n",
       "    var t = this;\n",
       "    if (!this.timer) this.timer = setInterval(function() {\n",
       "        t.anim_step_forward();\n",
       "    }, this.interval);\n",
       "  }\n",
       "\n",
       "  Animation.prototype.reverse_animation = function()\n",
       "  {\n",
       "    this.pause_animation();\n",
       "    this.direction = -1;\n",
       "    var t = this;\n",
       "    if (!this.timer) this.timer = setInterval(function() {\n",
       "        t.anim_step_reverse();\n",
       "    }, this.interval);\n",
       "  }\n",
       "</script>\n",
       "\n",
       "<div class=\"animation\" align=\"center\">\n",
       "    <img id=\"_anim_img98d450b6ffa348ffb96dc05cb456e8ca\">\n",
       "    <br>\n",
       "    <input id=\"_anim_slider98d450b6ffa348ffb96dc05cb456e8ca\" type=\"range\" style=\"width:350px\"\n",
       "           name=\"points\" min=\"0\" max=\"1\" step=\"1\" value=\"0\"\n",
       "           onchange=\"anim98d450b6ffa348ffb96dc05cb456e8ca.set_frame(parseInt(this.value));\"></input>\n",
       "    <br>\n",
       "    <button onclick=\"anim98d450b6ffa348ffb96dc05cb456e8ca.slower()\"><i class=\"fa fa-minus\"></i></button>\n",
       "    <button onclick=\"anim98d450b6ffa348ffb96dc05cb456e8ca.first_frame()\"><i class=\"fa fa-fast-backward\">\n",
       "        </i></button>\n",
       "    <button onclick=\"anim98d450b6ffa348ffb96dc05cb456e8ca.previous_frame()\">\n",
       "        <i class=\"fa fa-step-backward\"></i></button>\n",
       "    <button onclick=\"anim98d450b6ffa348ffb96dc05cb456e8ca.reverse_animation()\">\n",
       "        <i class=\"fa fa-play fa-flip-horizontal\"></i></button>\n",
       "    <button onclick=\"anim98d450b6ffa348ffb96dc05cb456e8ca.pause_animation()\"><i class=\"fa fa-pause\">\n",
       "        </i></button>\n",
       "    <button onclick=\"anim98d450b6ffa348ffb96dc05cb456e8ca.play_animation()\"><i class=\"fa fa-play\"></i>\n",
       "        </button>\n",
       "    <button onclick=\"anim98d450b6ffa348ffb96dc05cb456e8ca.next_frame()\"><i class=\"fa fa-step-forward\">\n",
       "        </i></button>\n",
       "    <button onclick=\"anim98d450b6ffa348ffb96dc05cb456e8ca.last_frame()\"><i class=\"fa fa-fast-forward\">\n",
       "        </i></button>\n",
       "    <button onclick=\"anim98d450b6ffa348ffb96dc05cb456e8ca.faster()\"><i class=\"fa fa-plus\"></i></button>\n",
       "  <form action=\"#n\" name=\"_anim_loop_select98d450b6ffa348ffb96dc05cb456e8ca\" class=\"anim_control\">\n",
       "    <input type=\"radio\" name=\"state\"\n",
       "           value=\"once\" > Once </input>\n",
       "    <input type=\"radio\" name=\"state\"\n",
       "           value=\"loop\" checked> Loop </input>\n",
       "    <input type=\"radio\" name=\"state\"\n",
       "           value=\"reflect\" > Reflect </input>\n",
       "  </form>\n",
       "</div>\n",
       "\n",
       "\n",
       "<script language=\"javascript\">\n",
       "  /* Instantiate the Animation class. */\n",
       "  /* The IDs given should match those used in the template above. */\n",
       "  (function() {\n",
       "    var img_id = \"_anim_img98d450b6ffa348ffb96dc05cb456e8ca\";\n",
       "    var slider_id = \"_anim_slider98d450b6ffa348ffb96dc05cb456e8ca\";\n",
       "    var loop_select_id = \"_anim_loop_select98d450b6ffa348ffb96dc05cb456e8ca\";\n",
       "    var frames = new Array(3);\n",
       "    \n",
       "  frames[0] = \"data:image/png;base64,iVBORw0KGgoAAAANSUhEUgAAAbAAAAEgCAYAAADVKCZpAAAABHNCSVQICAgIfAhkiAAAAAlwSFlz\\\n",
       "AAALEgAACxIB0t1+/AAAADl0RVh0U29mdHdhcmUAbWF0cGxvdGxpYiB2ZXJzaW9uIDMuMC4yLCBo\\\n",
       "dHRwOi8vbWF0cGxvdGxpYi5vcmcvOIA7rQAAIABJREFUeJzt3Xlc1HX+B/DXDCMgp4CgwKAcg9yH\\\n",
       "Oh6ZmRfikZjHetSWpYaWrdXu9qs9aqvNctvN7bBsWSvt0rIL8z7SDlNxxBM8UEBu5BAQ5BhmPr8/\\\n",
       "RiddUEBhvvOF1/Px8PGQme/M98Uw833P5/h+vgohhAAREZHMKKUOQEREdCtYwIiISJZYwIiISJZY\\\n",
       "wIiISJZYwIiISJZYwIiISJZYwIiISJZYwIiISJZYwIiISJZYwIiISJZYwIiISJZYwIiISJZYwIiI\\\n",
       "SJZYwIiISJZYwIiISJZYwIiISJZYwIiISJZYwIiISJZYwIiISJZYwIiISJZYwIiISJZYwIiISJZY\\\n",
       "wIiISJZYwIiISJZYwIiISJZYwIiISJZYwIiISJZYwIiISJZYwIiISJZYwIiISJYkL2C5ubkYNWoU\\\n",
       "wsLCEBERgTfffLPJNkIILFmyBBqNBtHR0UhNTZUgKRERWROV5AFUKrz++usYMGAALl26hIEDByIu\\\n",
       "Lg7h4eHmbbZs2YKMjAxkZGTgwIEDePTRR3HgwAEJUxMRkdQkb4F5e3tjwIABAABnZ2eEhYUhPz//\\\n",
       "um2Sk5Px4IMPQqFQYOjQoaioqEBhYaEUcYmIyEpIXsCulZ2djcOHD2PIkCHX3Z6fnw8/Pz/zz2q1\\\n",
       "ukmRIyKirkXyLsSrqqurMX36dLzxxhtwcXG57j4hRJPtFQpFk9uSkpKQlJQEADh16hRCQ0M7JiwR\\\n",
       "USeVnZ2N0tJSqWO0ilUUML1ej+nTp+P+++/HtGnTmtyvVquRm5tr/jkvLw8+Pj5NtktMTERiYiIA\\\n",
       "QKvVQqfTdVxoIqJOSKvVSh2h1STvQhRCYP78+QgLC8Pvf//7ZrdJSEjARx99BCEE9u/fD1dXV3h7\\\n",
       "e1s4KRERWRPJW2B79+7Fxx9/jKioKMTGxgIAXnnlFeTk5AAAFi1ahIkTJ2Lz5s3QaDRwcHDAhx9+\\\n",
       "KGVkIiKyApIXsOHDhzc7xnUthUKBd955x0KJiIhIDiTvQiQiIroVLGBERCRLLGBERCRLLGBERCRL\\\n",
       "LGBERCRLLGBERCRLLGBERCRLLGBERCRLLGBERCRLLGBERCRLLGBERCRLLGBERCRLLGBERCRLLGBE\\\n",
       "RCRLLGBERCRLLGBERCRLLGBERCRLLGBERCRLkhewefPmwcvLC5GRkc3ev2fPHri6uiI2NhaxsbF4\\\n",
       "6aWXLJyQiIiskUrqAA899BAef/xxPPjggzfc5q677sLGjRstmIqIiKyd5C2wESNGwN3dXeoYREQk\\\n",
       "M5IXsNbYt28fYmJiMGHCBKSlpUkdh4iIrIDkXYgtGTBgAM6fPw8nJyds3rwZ9957LzIyMprdNikp\\\n",
       "CUlJSQCAkpISS8YkIiILs/oWmIuLC5ycnAAAEydOhF6vR2lpabPbJiYmQqfTQafTwdPT05IxiYjI\\\n",
       "wqy+gBUVFUEIAQBISUmB0WiEh4eHxKmIiEhqknchzpkzB3v27EFpaSnUajVefPFF6PV6AMCiRYvw\\\n",
       "5ZdfYuXKlVCpVOjevTvWrVsHhUIhcWoiIpKaQlxt3nQyWq0WOp1O6hhERLIip2On1XchEhERNYcF\\\n",
       "jIiIZIkFjIiIZIkFjIiIZIkFjIiIZIkFjIiIZIkFjIiIZIkFjIiIZIkFjIiIZIkFjIiIZIkFjIiI\\\n",
       "ZIkFjIiIZIkFjIiIZIkFjIiIZIkFjIiIZIkFjIiIZIkFjIiIZIkFjIiIZEnyAjZv3jx4eXkhMjKy\\\n",
       "2fuFEFiyZAk0Gg2io6ORmppq4YRERGSNJC9gDz30ELZu3XrD+7ds2YKMjAxkZGQgKSkJjz76qAXT\\\n",
       "ERGRtZK8gI0YMQLu7u43vD85ORkPPvggFAoFhg4dioqKChQWFlowYccwGgUqa/WobTDAaBRSxyG6\\\n",
       "Tm2DAZW1ehj43iQrppI6QEvy8/Ph5+dn/lmtViM/Px/e3t4Spmq7issN2HqiCD9llOJoXgUKKmpx\\\n",
       "9dhgp1IiyNMJ/fv0wJgwLwzXeMJWJfl3C+oiDEaBA1ll2J5WjMM5F3GmuBq1eoP5ft8e3RHm7YK7\\\n",
       "+/XEuIje6OViL2Faol9ZfQETouk3QIVC0ey2SUlJSEpKAgCUlJR0aK7WOnvhElbuycSGo/nQG67/\\\n",
       "XZzsVGg0GlGnNyK9sArphVX49EAOPJ3t8NshffHwcH+42HeTKDl1dpcbGvHZgRx8uDcb+RW1191n\\\n",
       "q1LC1kaJmoZG5FfUIr+iFjtPFuOF79IRH9ELi+4OQrS6h0TJiUysvoCp1Wrk5uaaf87Ly4OPj0+z\\\n",
       "2yYmJiIxMREAoNVqLZLvRipr9Vi+/TQ+3n8eRgEoFcBdwT0xPrI3tH3dEdDT0dzKqqrT40zRJfx8\\\n",
       "thSbjhUi40I1/r3zDNbsy8ZTcf1w/+A+UCqbL9pEbSWEwObjRVi6KR0FlXUAgD7uDrgn2hvDNT0R\\\n",
       "4eMKl+4qKBQKGIwC2WU1SD1/EdvTi7H71AVsPl6EzceLMG2AL54ZH8oWGUnG6gtYQkICVqxYgdmz\\\n",
       "Z+PAgQNwdXW1+u7DvWdL8eTnR1ByqR5KBXDfkD5YNCIIfTwcmt3exb4btP7u0Pq744kxwdiXWYY3\\\n",
       "dmQgJbscz317AluOF+Kfv4mBb4/uFv5NqLOpuNyAp788hh3pxQCASF8XPDmmH0aHejX7JclGqUCQ\\\n",
       "pxOCPJ3wG60fiirr8MHeLKzem42vU/Ox6+QF/GN6FMZHWvdnkjonhWiuj86C5syZgz179qC0tBS9\\\n",
       "evXCiy++CL1eDwBYtGgRhBB4/PHHsXXrVjg4OODDDz9sVetKq9VCp9N1dPzrGI0Cb+7KwFvfZ0AI\\\n",
       "YGBfN/x9SiTCfVza/FxXvyU/l3wC5TUNcO3eDSvvH4Bhmp4dkJy6giO5FXjsk0MoqKyDs70Kf5oQ\\\n",
       "hlmD/GBzC63782U1eD45DT+cMXXVPzC0L/42ORwqG47dyp0Ux85bJXkB6yiW/iPUNxrwx/XH8N3R\\\n",
       "AigUwJLRwVgyJviWDg7XKq2ux9Prj2L36RLYKBV4MSECvx3at51SU1exLa0IT6w7jDq9Ef379MBb\\\n",
       "s/vDz735HoHWEkJgzS/ZeGXLKTQ0GjGinyfeua8/nDluK2tyKmD8utQOauob8fCHB/Hd0QI42tpg\\\n",
       "9cOD8VRcv9suXgDQ08kOq+YOwsK7A2EwCvz12xNYuedcO6SmrmJtSg4WfXIIdXojZg/ywxcL77jt\\\n",
       "4gWYJlM9dGcA1j4yFO6OtvjxTAlm/Wc/LtY0tENqopaxgN2mOr0BC9bo8Mu5Mng62+HzhXfg7n6e\\\n",
       "7boPG6UCf5oQhlenRUGhAP6x9RTe2HmmXfdBndMXulz86evjEAL4Q1w/vDotCt3auZtvYF83fPvY\\\n",
       "nQjo6Yj0wircv+oAixhZBAvYbahvNGDhx4ewL9NUvL5YeAcifV07bH9zBvfB8pkxUCqAN3Zm4MO9\\\n",
       "WR22L5K/bw/n45mvjgEA/jIxDL8bE3zDU1BuVx8PB6xLHGouYg98cAA19Y0dsi+iq1jAbpEQAv/3\\\n",
       "5TH8cKYE7o62+GzBEAT0dOzw/U7tr8ZrM2IAAC9tTMd3Rws6fJ8kP3vPluKP649CCODp+BA8MiKw\\\n",
       "w/fZy8Ue6xKHoq+HA07kV2HxZ6loNBg7fL/UdbGA3aK3vz+L5COmMa+P5w9GcC9ni+17xkA1nhkf\\\n",
       "CiGA339xBClZ5RbbN1m/sxeqseiTQ2g0CiwcEYjFozQW23cvF3useXgw3B1tsed0Cf767YlmFyMg\\\n",
       "ag8sYLdg47ECLN9xBgoF8Nac/ojw6bhuwxtZdHcgHhrmD71B4LFPD6GwsrblB1Gnd7GmAfNWH8Sl\\\n",
       "ukaMj+iNZ8aHWjyDf09HrJqrhZ1KiXUHc7Hml2yLZ6CugQWsjc5euISn1/86rjAmrJckORQKBf46\\\n",
       "KQzDgjxQWt2ARZ+kor7R0PIDqdMyGgV+/8UR5JRfRpSvK/49K1ayFVwG9HHD6zNNXd0vbzqJQ+fZ\\\n",
       "S0DtjwWsDWobDHjs01TU6g2Y2t8X84cHSJpHZaPEivsGwLdHdxzNrcDfN6ZLmoeklfRTJnafLkEP\\\n",
       "h25474GB6G5rI2mee6J9MH94ABqNAo99moqSS/WS5qHOhwWsDV7YkIYzxdUI9HTEy/dGdtiMrrZw\\\n",
       "d7TFfx4YCFsbJT7Zn4PtaUVSRyIJHMwuxz+3nQYALJ9pPcuOPTshFIP93VFcVY8/rD/K8TBqVyxg\\\n",
       "rZR8JB+f63Jhp1Li3fsHwNHOepaRjPR1xf+NDwEAPPPVMRRX1UmciCypslaPJWsPw2AUWHh3IEaH\\\n",
       "StOt3ZxuNkq8fV9/uDl0w49nSvDRvvNSR6JOhAWsFYqr6vDctycAAH+bHIHQ3m1f27CjzbszAHcF\\\n",
       "98TFy3r8/osjvEhmF/Lid2korKxDrF8P/HFciNRxmujlYo9Xp0UBAF7ZfBJnL1ySOBF1FixgLRBC\\\n",
       "4NmvjqGqrhGjQjwxZ7Bfyw+SgFKpwOu/iYG7oy32ni3DR/uypY5EFrA9rQhfp+bDTqXE6zNj2n2V\\\n",
       "jfYyPtIbMwaqUd9oxBPrjqChkeeH0e2zzne7FVl/KA+7T5fAxV6FZdOjrWLc60a8XOzxylTTN93X\\\n",
       "tp1GbvlliRNRRyqvacCfvzkOAHhmfCiCPJ0kTnRzf5scDj/37kgrqELSj1zPk24fC9hNFFbW4u/f\\\n",
       "mWb2vTglQhYX7hsf2RuTorxxucGAP39znIPmndiL36WhtLoBQwLc8dAwf6njtMjZvhv+MS0aAPDW\\\n",
       "92eRWVItcSKSOxawm3jpu3Rcqm/E2LBeuDfWV+o4rfZCQgRcu3fDTxml+Co1X+o41AF+yihB8pEC\\\n",
       "2HdT4p8zYmRzxe5hmp6YMVCNhkYj/vT1cY7V0m1hAbuB3acvYMuJIjjY2uClKRFW3XX4vzyd7fD8\\\n",
       "PeEAgL9vTEdZNc+/6Uzq9AbzpKIlY4JveKVva/WXiWHwcLTFgaxyrD+UK3UckjEWsGbU6Q14Ptl0\\\n",
       "gHhybDB8rOScmraYNsAXwzU9UVmrN58fRJ3Dyj3nkF12GcFeTlgwvOMX6W1vbo62eH6y6QvW0k0n\\\n",
       "eYIz3TIWsGas+P4scstrEdrbGQ/fKe1qG7dKoVDghYQIdLNR4HNdLo7kVkgdidrBuZJq8wVNl06N\\\n",
       "gq1Knh/hhBgf3N3PE1V1jfjntlNSxyGZsop3/9atWxESEgKNRoNly5Y1uX/16tXw9PREbGwsYmNj\\\n",
       "sWrVqg7LkllSjf9cmSH18r2RVjstuTU0Xk6YNzwAQgDPJ5+AgeMNsiaEwAsb0tBgMGKmVo3BAe5S\\\n",
       "R7pl137BWn8oD8fy+AWL2k7yo7PBYMDixYuxZcsWpKenY+3atUhPb7qm36xZs3DkyBEcOXIECxYs\\\n",
       "6LA8r2w+Cb1B4DcD1dD6y/cAcdWS0cHo7WKPY3mV+PwgxxvkbPfpC/gpoxTO9ipJVplvbwE9HTHv\\\n",
       "TtMXrBc2pHHGLLWZ5AUsJSUFGo0GgYGBsLW1xezZs5GcnCxJlp8zSrHz5AU42trg6fHWt6LBrXC0\\\n",
       "U+Evk8IAAK9tO4XKy3qJE9Gt0BuMeHnTSQDAE2OC4eFkJ3Gi9vH4aA16OtkhNacC3x7hjFlqG8kL\\\n",
       "WH5+Pvz8fl3dQq1WIz+/6Rv5q6++QnR0NGbMmIHc3PZvSRiMAi9vMrX8HhulgZez9Z/z1Vr3RHtj\\\n",
       "SIA7Ki7r8c6es1LHoVvw6f7zyCypgb+HAx68w1/qOO3G2b4bnrnyZXHZllOoqW+UOBHJieQFrLlu\\\n",
       "g/+dsj558mRkZ2fj2LFjGDt2LObOndvscyUlJUGr1UKr1aKkpKRNOT4/mItTRZfg26O75JdJaW+m\\\n",
       "a4eZZn2t3pvNFTpkpuJyA/69MwMA8OeJYbKduHEj0weoEePXA8VV9XiXX7CoDST/JKjV6utaVHl5\\\n",
       "efDx8bluGw8PD9jZmbpMHnnkERw6dKjZ50pMTIROp4NOp4Onp2erM1TV6fH6dtNU8z9NDIV9N2mv\\\n",
       "o9QRotSumNrfFw0GI17jtHpZeXNXBipr9RgW5IG4cOtZab69KJUK/O3KtPr3f85CUSWvpkCtI3kB\\\n",
       "GzRoEDIyMpCVlYWGhgasW7cOCQkJ121TWFho/v+GDRsQFhbWrhlW7jmHspoGaPu6YVKUd7s+tzX5\\\n",
       "Y3wIbFVKfHe0AIdzLkodh1rhXEk1Pt53HgoF8NdJ4bI6ob4tBvRxw4TI3qjTG/HGzjNSxyGZkLyA\\\n",
       "qVQqrFixAvHx8QgLC8PMmTMRERGB559/Hhs2bAAAvPXWW4iIiEBMTAzeeustrF69ut32X1xVhw/3\\\n",
       "ZgEA/npP5z1AALiue/SVzSc560sGXt9+Go1GgVlaP4T7WN9lfNrT0/EhsFEq8IUul5dcoVZRiE56\\\n",
       "FNNqtdDpdC1u95dvjuPTAzkYH9Eb7z0w0ALJpFVVp8fIf+5BeU0D/vPAQMRH9JY6Et3A8bxKTF7x\\\n",
       "M+xUSvzw9Cj0du08E4tu5OrnMS68F/77oFbqOF1Sa4+d1kDyFpiUsktr8PnBXCgVwB/j+0kdxyJc\\\n",
       "7LthyWgNANO3e57cbL1eu7JCxUPD/LtE8QKAJ8YGw8HWBjvSi6HLLpc6Dlm5Ll3Alu84g0ajwPQB\\\n",
       "ami8nKWOYzFzhvSBb4/uOFNcje+OFkgdh5qx71yZ6aRlOxUW3R0kdRyL8XK2x4K7TOs7vrrlFLu5\\\n",
       "6aa6bAFLK6jEhqMFsLVR4sm4rtH6uspOZYMnxgYDMBVxvYFXx7UmQghz6ytxRCDcHG0lTmRZiSMC\\\n",
       "4eFoi0PnL2LnyQtSxyEr1mUL2L+uTCX/7dC+8JXhavO3a1p/XwR6OiKn/DK+0HGJKWuy8+QFHM6p\\\n",
       "QE8nW8zrZOcktoaTnQqLR5m6uZfvOMNrhtENdckClpJVjt2nS+Boa4PFo7pO98y1VDZK/P5Ky/Pt\\\n",
       "XWdRpzdInIgA04owV79cLR6lgaOdSuJE0rhvSB/0drHHycIqbEsrkjoOWakuV8CEEHhtq6l7ZsFd\\\n",
       "gZ1mTblbMTHSG+HeLiiqqsMn+89LHYcAbDiaj9PFphVh7hvSR+o4krHvZoPFVyYb/XvnGU42omZ1\\\n",
       "uQL289lS6M5fhJtDNyy4q+t1z1xLqVTg6XjTOnTv7jmHaq5DJ6lGgxFvXFky6smxwbBTdb4VYdpi\\\n",
       "plZtnmy08RgnG1FTXaqACSHw5pUDxIK7AuFs303iRNIbGeKJgX3dUF7TgA9/zpI6TpeWfKQA58su\\\n",
       "I6CnI6b295U6juTsVDb43ZVW2Js7M9DIyUb0P7pUAdt7tgy68xfRw6Eb5g7zlzqOVVAoFPjDlbGw\\\n",
       "VT9n4VIdL7cihUaDEW9/b/py9fgoDVQyvpBqe5o+UI0+7g7ILK1B8hG2wuh6XeZTIoTAm7tMa6w9\\\n",
       "clcgnLro4Hhz7gjywCB/N1TW6vHRPo6FSWHD0QJkl12Gv4cDpsT6tPyALqKbjRJPjDGd8vHmrgye\\\n",
       "8kHX6TIFbN+5MhzMvgjX7t3w4B19pY5jVRQKBZ4ca2qF/fenTI6FWZip9WW6jMjjo4PZ+vofU2J9\\\n",
       "ENjTdMrHV4fypI5DVqRLfFKEEObB8UfuCuDYVzOGBXlA29cNFZf1WPNLttRxupTvjhUgq7QGfT0c\\\n",
       "cC9bX02obJTmE+/f/v4sGhrZCiOTLlHA9mWWISW7HK7dOfZ1I9e2wlaxFWYxBqPA27uutL449nVD\\\n",
       "90T7INjLCfkVtVh/iCfek0mX+LSYZx4OZ+vrZu7UeGBgXzdcvKzHR/uypY7TJXx3tACZpTXo4+7A\\\n",
       "mYc3YaNUmFth77AVRld0+gK271wZDmSVw8Vehbl3+ksdx6qZWmGmg8R/f8xEDVthHcpgFHjr6szD\\\n",
       "0Wx9tWRipDf69XJCQWUdlz8jAF2ggF2deTh/eCBc2Ppq0XBNTwzo0+NKK4wzEjvSxmMFyCypgZ97\\\n",
       "d7a+WkGpVOCJMaZu7nd3n0V9I5c/6+o6dQHbn1mG/Zmm1tdDbH21ikKhwBPXzEhkK6xjGIwCb+4y\\\n",
       "tb5+NyoY3dj6apUJkb0R0sv5SiuMMxK7uk79qbk69jVveABcu7P11Vojgnuif58eKK9pwMdcI7FD\\\n",
       "XNf6GsDWV2sprxkLYyuMrKKAbd26FSEhIdBoNFi2bFmT++vr6zFr1ixoNBoMGTIE2dnZLT5nTX0j\\\n",
       "9mWWwdlehYfv7NprHraVQqEwnzyaxLGwdmcwCry169dVN9j6apvxEb0R2tsZhZV1+OIgx8K6Msk/\\\n",
       "OQaDAYsXL8aWLVuQnp6OtWvXIj09/bpt3n//fbi5ueHs2bN46qmn8Mwzz7T4vBcu1QMA5t3J1tet\\\n",
       "uLufJ2L9TK0wrlTfvjYdL8S5khqo3bpj2gC11HFkxzQWdmVG4u5zbIV1YZIXsJSUFGg0GgQGBsLW\\\n",
       "1hazZ89GcnLyddskJydj7ty5AIAZM2Zg165dLV5qvLq+Ec72qi55QcD2YBoL+7UVdrmBrbD2YDrv\\\n",
       "y9T6WszW1y2Lv9IKK6qqw+dshbUbuV08VPJPT35+Pvz8/Mw/q9Vq5Ofn33AblUoFV1dXlJWVtfjc\\\n",
       "D7P1dVtG9vNEjNoVZTUN+HR/jtRxOoUtJwqRcaEavj26YzpbX7dMqfz1lI93d5/jBVnbQZ3egPg3\\\n",
       "fpQ6RptIXsCaa0kpFIo2bwMASUlJ0Gq10Gq1UACYz7Gv23JtK+w/P55DbQMPErfDeM3Y1+JRGtiq\\\n",
       "JP/4ydq48N4Iu3JBVrbCbt+6lBxkXKiWOkabSP4JUqvVyM399c2Xl5cHHx+fG27T2NiIyspKuLu7\\\n",
       "N3muxMRE6HQ66HQ6+Lk7wNWBra/bNSrEC9FqV5RWN+DTAxwLux3b0opwprgaPq72mDGQra/bde1Y\\\n",
       "2Lt7zrIVdhvqGw1474dMqWO0meQFbNCgQcjIyEBWVhYaGhqwbt06JCQkXLdNQkIC1qxZAwD48ssv\\\n",
       "MXr06GZbYNdi12H7UCgUWDL6aisskweJW2S85ryvR9n6ajfxEb0Q7u2C4qp6rEthN/etWq/LQ1FV\\\n",
       "HUJ7O0sdpU0k/xSpVCqsWLEC8fHxCAsLw8yZMxEREYHnn38eGzZsAADMnz8fZWVl0Gg0WL58ebNT\\\n",
       "7anjjAnzQqSvC0ou1ePTAzxI3IodJ4txqugServYY6aWra/2cm0397t7OBZ2KxoajVi55xwA4HdX\\\n",
       "vqzKhUK0NJ1PprRaLXQ6ndQxOo0d6cV45CMdPJ3t8NP/jYJ9NxupI8mGEAL3vP0z0gqq8GJCBK+I\\\n",
       "0M6EEJj01s9IL6zC3yaH87zPNvrsQA7+/M1xBHs5YduTIzB48CDZHDslb4GRPIwN80KEj6kVtpZd\\\n",
       "NW2y6+QFpBVUwcvZDrMG+bX8AGqTaxehXslWWJs0NBrxzm7T5XyWjAmGUnnzoRlrwwJGraJQKLDk\\\n",
       "yoD5ez/wINFaQvw69rXw7iC2XDtIXHgvRPi44MKlenzGbu5W+yo1D/kVtdB4OWFilLfUcdqMBYxa\\\n",
       "bVx4L4RdGTDntOXW2XO6BMfzK9HTyQ73De4jdZxO69oLsq7kF6xW+d/Wl43MWl8ACxi1gWmNRA0A\\\n",
       "dtW0hhACb1xtfY0IRHdbtr460lhONmqTr1PzkHexFkGejpgkw9YXwAJGbTQu/NclfHhRwZv7MaMU\\\n",
       "R3Mr4OFoi/uHsvXV0RQKBZ68cr0wdnPfnN5gxAqZt74AFjBqo2tPHl25hwup3ogQAm/uNF1M9ZER\\\n",
       "gXCwVUmcqGsYE+aFKF9XlFyq5yLUN3Ft6+ueaJ+WH2ClWMCozeIjTBcVLORFBW9o79kypOZUwM2h\\\n",
       "Gx4Y2lfqOF3GtTMS3/shk8ufNUNvMOLt7+Xf+gJYwOgWKJW/zkhcyYsKNiGEwBtXWl8L7gqEox1b\\\n",
       "X5Y0OvTq8mf1XP6sGd+k5iPvYi0CZd76AljA6BZNiOyNfr2cUFBZhy8PsRV2rR8zSqE7fxFuDt14\\\n",
       "0rIErm+FneOlgK6hNxjx9m7TxKIlo+Xd+gJYwOgWKZUK87Iz7+4+h4ZGo8SJrIMQAq9vPw0AWHR3\\\n",
       "EJzY+pLEqBAvxFxdhJqXAjL7JjUfueW1COzpiMkx8m59ASxgdBsmRnlD4+WE/IpafJXKVhgAbE8v\\\n",
       "xrG8Sng62+HBO/yljtNlXXteGFthJvWNBvNJ9b8bo5F96wtgAaPbYHPNWNiK7zkWZjQKLN9uGvt6\\\n",
       "fJSG531JbGSIJ2L8eqCspoEzEgGsS8lFfkUt+vVyQkKMr9Rx2gULGN2WSVHeCOnljPyK2i7fVbPx\\\n",
       "eCFOF1+Cj6s9Zg/mmodSu3Ys7D8/ZHbpVtjlhkbzzMPfx4V0itYXwAJGt8lGqcAf40MAAO/sPovq\\\n",
       "+q55kGg0GPHGDlPra8mYYNip2PqyBiP7eSL2Sivs431dtxW25pfzKK2uR7TaFfERvaSO025YwOi2\\\n",
       "jQ3zwoA+poPE+z9lSR1HEt8czkdmaQ36ejhgOq+2bDUUCgWeijONhf3nx0zUdMEvWJW1erz3g+l6\\\n",
       "X0/Hh7R4MWA5YQGj26ZQKPDM+FAAwH9/ykR5TYPEiSyrodFoHhx/cmwwutnwY2VNRgT3RP8+PVBe\\\n",
       "04CPu+BY2KqfMlFZq8fQQHcM1/SUOk674ieN2sWQQA/c3c8T1fWNePfKGmtdxSf7zyPvoumSFJ1l\\\n",
       "cLwzUSgUeOrKjMSkLtYKK62ux/s/m3pFOlvrC2ABo3b09JWxsI/2n0dBRa3EaSyjslaPt783tb6e\\\n",
       "GR/aaQbHO5u7gntiwJVW2Jp92VLHsZh3dp/F5QYDRod6YWBfd6njtDtJC1h5eTni4uIQHByMuLg4\\\n",
       "XLx4sdntbGxsEBsbi9jYWCQkJFg4JbVWpK8r7on2NnWp7cyQOo5FrNxzDhcv6zE4wB1jw7ykjkM3\\\n",
       "cO1Y2Ht7zuFiF+jmziqtwcf7zkOhAP44LkTqOB1C0gK2bNkyjBkzBhkZGRgzZgyWLVvW7Hbdu3fH\\\n",
       "kSNHcOTIEWzYsMHCKakt/jDONEV3/aFcZBRfkjpOh8qvqMUHe03dM3+eGNbpumc6m+GanrgruCeq\\\n",
       "6hrNY5ad2WtbT6HRKDBjgBrhPi5Sx+kQkhaw5ORkzJ07FwAwd+5cfPvtt1LGoXYQ0NMRcwb7wSiA\\\n",
       "lzedlDpOh3p9+2k0NBpxT7SHwObUAAAYjUlEQVQ3Yv16SB2HWqBQKPCXSWFQKkzjludKqqWO1GF0\\\n",
       "2eXYcqII9t2U+EMnbX0BEhew4uJieHubrgTq7e2NCxcuNLtdXV0dtFothg4dyiInA0+N7QdnexV+\\\n",
       "OFOC3aeb/5vKXVpBJb45nI9uNgr8X3yo1HGolUJ7u2Cm1g+NRoFXN5+SOk6HEEKYvzwm3hWI3q72\\\n",
       "EifqOB2+0ujYsWNRVFTU5PalS5e2+jlycnLg4+ODzMxMjB49GlFRUQgKCmqyXVJSEpKSkgAAJSUl\\\n",
       "tx6abouHkx2WjA7G0s0nsXTTSQzX9OxUU8uFMB38hAAeGOqPPh4OUkeiNvj9uH7YcLQAO08W45dz\\\n",
       "pRgW1Lmmlm88VogjuRXo6WSHhXc3PU52Jh1+VNm5cydOnDjR5N+UKVPQq1cvFBYWAgAKCwvh5dX8\\\n",
       "ILiPj2nV5MDAQIwcORKHDx9udrvExETodDrodDp4enp2zC9ErTJ3mD/8PRxw9kI11qZ0riWmtqUV\\\n",
       "4+ezpXCxV+Hx0Rqp41AbeTnb47GRpgP7yxtPwmAUEidqP3V6A/6x1dSy/MO4fp3+WnSSfi1OSEjA\\\n",
       "mjVrAABr1qzBlClTmmxz8eJF1NfXAwBKS0uxd+9ehIeHWzQntZ2tSok/TQwDACzfcQaVl/USJ2of\\\n",
       "dXoD/r4xHQDwx/gQuDvaSpyIbsX84YHwdrVHemEVvjyUK3WcdrNyzznkXaxFaG9n/KYLrAgjaQF7\\\n",
       "9tlnsWPHDgQHB2PHjh149tlnAQA6nQ4LFiwAAJw8eRJarRYxMTEYNWoUnn32WRYwmRgX3gt3BHqg\\\n",
       "4rIey3ecljpOu1i55xzyK0wHiPsG95E6Dt2i7rY2eHaCaexy2ZZTnWJa/fmyGqy8smTUS1MioepE\\\n",
       "3fY3ohBCdJ728zW0Wi10Op3UMbq8U0VVmPTWzxBC4NvFdyJaLd/ZernllzF2+Q+obzTi88ShGBLo\\\n",
       "IXUkug1CCMz5737szyzHnMF98Oq0KKkj3Zb5qw9i16kLmNrfF/+eFXvLzyOnY2fnL9EkqdDeLpg/\\\n",
       "PABGAfzlmxOyHm/4+8Z01DcaMSXWh8WrE1AoFHj53kiolAqsO5iDI7kVUke6ZbtOFmPXqQtwslPh\\\n",
       "TxO6zqxYFjDqcE+MCYaPqz2O51fK9sKCW08UYnt6MRxtbfCnCWFSx6F2ovFyxoK7AiEE8Ndvj8vy\\\n",
       "C9blhka88F0aANNi0l4unXfa/P9iAaMO52inwt8SIgAA/9p2Gheq6iRO1DaVtXo8n2w6QDwzIbRT\\\n",
       "n1fTFS0Zo4GPqz1O5FdhzS/ZUsdps+XbzyC33DQuO3eYv9RxLIoFjCxiXHgvjA3zwqX6RjyXfAJy\\\n",
       "GnpdtuUULlyqx4A+PfDbIX2ljkPtzMFWhRenRAIAXtt2CufLaiRO1HqHcy7ig71ZUCqA12ZEd6rz\\\n",
       "LVuja/22JBmFQoEXp0TCyU6FbWnFSD5SIHWkVtmfWYa1KTnoZqPAP6ZHQ8nV5juluPBemBLrgzq9\\\n",
       "Ef/35TEYZdCVWN9oMGUVwCMjAmU9QepWsYCRxfj26I7n7jGNHz2ffALFVt6VWFWnxx++OAoAeGyk\\\n",
       "BsG9nCVORB3phckR6OlkiwNZ5fjkgPWP1a74/iwyLlQjoKej+XpnXQ0LGFnUTK0fRoV4oqquEc9+\\\n",
       "dcyquxJf2JCG/IpaRPm6YvEorrjR2bk52uLle01T6V/dfAqZVrzYb0pWOd7ZfRYKBbBsWhTsu9lI\\\n",
       "HUkSLGBkUQqFAsumR8PFXoXdp0vw0T7r/Ka76Vghvk7Nh303Jf49Kxa2Kn5UuoLxkb0xJdYHtXoD\\\n",
       "Hv/sMOobDVJHaqKyVo+nPj8CowAevTuoS5/SwU8lWVwvF3u8Oi0aALB000kcz6uUONH18itq8edv\\\n",
       "jgMA/jIpHBovJ4kTkSX9/d5I9HF3QHphldWtWC+EwJ+/OY78ilrEqF3NF+nsqljASBKTor3xwNC+\\\n",
       "aDAYsfizVFTVWcdaifWNBjz2ySFU1uoxOtQLvx3C5aK6Ghf7bnh7Tn+olAqs/iUb29OaXk1DKp+l\\\n",
       "5GDTsUI42trgzdn9u9ysw//VtX97ktRfJoUhwscFOeWX8X/rrWPm1wsb0nE0rxJqt+5YPjOGV1nu\\\n",
       "omL8euCZ8aYVLf6w/qhVXPxSl12OFzaYzkdcOjUK/j0dJU4kPRYwkox9Nxu8c98AONupsDWtCP/e\\\n",
       "eUbSPGtTcrA2JQe2KiXe++1A9HDgSvNd2fzhAYiP6IVLdY1YsEYn6RUViqvq8OinqdAbBObdGYB7\\\n",
       "+/tKlsWasICRpPx7OmLF/QNgo1Tg7e/P4uvUPEly7D59AX/99gQA4OV7IxHp6ypJDrIeSqUCy2fG\\\n",
       "IrS3M7JKa/D42lToDUaL57hUp8e81QdRcqkedwR64M8Tu85ahy1hASPJ3d3PEy9MNl0i59mvjuOn\\\n",
       "DMteTft4XiUWf5oKg1Fg8aggzNT6WXT/ZL0c7VRYNVcLD0db/JRRij98cdSi6yXWNxqw8ONDSCuo\\\n",
       "gr+HA1bc179LXCaltfhKkFV44A5/zLszAA0GIx75SIf9mWUW2e/pokt46MMUXG4wYFp/X/xxXIhF\\\n",
       "9kvyoXZzwAcPDYKTnQobjhbgr99aZim0RoMRT31+BL+cK4Onsx0+nj8EHk52Hb5fOWEBI6vx10lh\\\n",
       "mKX1Q53eiHmrDyIlq7xD93eqqApz/rsfZTUNuLufJ5ZNj+akDWpWjF8PrJqrhZ1KibUpOXgu+USH\\\n",
       "TjqqbzRg8Wep2Hy8CM52Kqx+eBD83B06bH9yxQJGVkOpVOCVaVGY2t8XlxsM+O37B7DleGGH7OuX\\\n",
       "c6WY+d4+lNc0YGSIJ/7zwECerEw3NTTQA+/91vQ++WR/DpasO4yGxvYfE6uq0+ORjw5hW1oxXOxV\\\n",
       "+HjBEET4cEy2OfzEklWxUSrwzxnRuG9IHzQ0GvHYZ6l4d8/Zdvu2K4TAupQcPPh+CqrqGjEuvBf+\\\n",
       "88DALrsUD7XNqFAvrHl4MJzsVNh4rBCzk/ahqLL91vTMKq3B1Hf24sczJXB3tMXaxKGI9et6i/S2\\\n",
       "FgsYWR2VjRJL743E0/EhEAJ4betpPLT6IC5cur0DRWWtHr9bexjPfn0cjUaBR+4KwMrfDoSdisWL\\\n",
       "Wu+OIA+sSxwKb1d7pOZU4J63f8Kuk8W39ZxCCKzX5SLh7Z9xrqQG/Xo54dvH7mTLqwWSFrD169cj\\\n",
       "IiICSqUSOp3uhttt3boVISEh0Gg0WLZsmQUTklQUCgUWj9Lgg4e0cHPohh/PlGDMv37ABz9nobGN\\\n",
       "U5mNRoEvdLmIW/4DNh4rhIOtDf71mxj8ZVI4bHh5FLoFkb6u2Pi74bhT44HS6gbMX6PD4s9SkXfx\\\n",
       "cpufK6P4EuatPoinvzyGS/WNiI/oha8eHYY+HhzzaolCSLgc+MmTJ6FUKrFw4UL861//glarbbKN\\\n",
       "wWBAv379sGPHDqjVagwaNAhr165FeHj4TZ9bq9XetCiSfBRW1uJPXx/HntOm6fVqt+6YPzwACTE+\\\n",
       "N52VdalOj43HCvHh3iycKTatpDCgTw8snxnLVQyoXRiMAh/uzcLr28+gVm+ASqnA9AFq3D+0D6J8\\\n",
       "XW84KchoFDiUcxEf7zuPjccKYBSAs70KL0yOwLQBvpJOJpLTsVMl5c7DwsJa3CYlJQUajQaBgYEA\\\n",
       "gNmzZyM5ObnFAkadh7drd3z40CDsPHkBr2w+iazSGrz4XTpe3nQSsX49EKPuAV+37nC2V6G2wYC8\\\n",
       "i5eRVlCFg9nl0BvEleewxzPjQ5EQ48OLUlK7sVEqsOCuQMRH9Ma/tp/Gd0cL8LkuF5/rcqF2645B\\\n",
       "/u7QeDnBw9EWBiFQXt2AMxeqse9cGUqr683Pcf9gPzwxNhhezvYS/0byImkBa438/Hz4+f16Yqla\\\n",
       "rcaBAwckTERSUCgUiAvvhdGhXtiRXoR1B3Pxc0YpDp2/iEPnLzb7GKUCGBzgjvsG98HEKG/OMqQO\\\n",
       "4+fugDdn98eTY/thzS/Z2HisEHkXa5F3Mf+Gj/Fxtce9/X1x35A+ULuxu/BWdHgBGzt2LIqKmq7m\\\n",
       "vHTpUkyZMqXFxzfXw3mj5nVSUhKSkpIAACUlll3NgSzDRqnA+EhvjI/0RmWtHodzLiKtoAoXqupQ\\\n",
       "XW+Ag60NPJ3tENLbGYP93eHmyPUMyXICejrihYQIPHdPOE4WVuFwzkXkVdSivLoBKhsFXOy7IcjT\\\n",
       "CdF+rgjp5czzDm9ThxewnTt33tbj1Wo1cnNzzT/n5eXBx8en2W0TExORmJgIAM2Op1Hn4tq9G0aG\\\n",
       "eGFkiJfUUYiuY6NUINLXlWtqdjCr71MZNGgQMjIykJWVhYaGBqxbtw4JCQlSxyIiIolJWsC++eYb\\\n",
       "qNVq7Nu3D5MmTUJ8fDwAoKCgABMnTgQAqFQqrFixAvHx8QgLC8PMmTMREREhZWwiIrICkk6j70hy\\\n",
       "mgpKRGQt5HTstPouRCIiouawgBERkSyxgBERkSyxgBERkSyxgBERkSyxgBERkSyxgBERkSyxgBER\\\n",
       "kSyxgBERkSyxgBERkSyxgBERkSyxgBERkSyxgBERkSyxgBERkSyxgBERkSyxgBERkSyxgBERkSyx\\\n",
       "gBERkSxJWsDWr1+PiIgIKJXKm17C2t/fH1FRUYiNjYVWq7VgQiIislYqKXceGRmJr7/+GgsXLmxx\\\n",
       "2927d6Nnz54WSEVERHIgaQELCwuTcvdERCRjshgDUygUGDduHAYOHIikpCSp4xARkRXo8BbY2LFj\\\n",
       "UVRU1OT2pUuXYsqUKa16jr1798LHxwcXLlxAXFwcQkNDMWLEiCbbJSUlmQtcSUnJ7QUnIiKr1uEF\\\n",
       "bOfOnbf9HD4+PgAALy8vTJ06FSkpKc0WsMTERCQmJgIAJ3sQEXVyVt+FWFNTg0uXLpn/v337dkRG\\\n",
       "RkqcioiIpCZpAfvmm2+gVquxb98+TJo0CfHx8QCAgoICTJw4EQBQXFyM4cOHIyYmBoMHD8akSZMw\\\n",
       "fvx4KWMTEZEVUAghhNQhOoJWq73puWVERNSUnI6dVt+FSERE1BwWMCIikiUWMCIikiUWMCIikiUW\\\n",
       "MCIikiUWMCIikiUWMCIikiUWMCIikiUWMCIikiUWMCIikiUWMCIikiUWMCIikiUWMCIikiUWMCIi\\\n",
       "kiUWMCIikiUWMCIikiUWMCIikiUWMCIikiVJC9jTTz+N0NBQREdHY+rUqaioqGh2u61btyIkJAQa\\\n",
       "jQbLli2zcEoiIrJGkhawuLg4nDhxAseOHUO/fv3w6quvNtnGYDBg8eLF2LJlC9LT07F27Vqkp6dL\\\n",
       "kJaIiKyJpAVs3LhxUKlUAIChQ4ciLy+vyTYpKSnQaDQIDAyEra0tZs+ejeTkZEtHJSIiK2M1Y2Af\\\n",
       "fPABJkyY0OT2/Px8+Pn5mX9Wq9XIz8+3ZDQiIrJCqo7ewdixY1FUVNTk9qVLl2LKlCnm/6tUKtx/\\\n",
       "//1NthNCNLlNoVA0u6+kpCQkJSUBAE6cOAGtVns70S2ipKQEnp6eUsdoEXO2HzlkBJizvckl56lT\\\n",
       "p6SO0GodXsB27tx50/vXrFmDjRs3YteuXc0WJrVajdzcXPPPeXl58PHxafa5EhMTkZiYCADQarXQ\\\n",
       "6XS3kdwymLN9ySGnHDICzNne5JRTLiTtQty6dSv+8Y9/YMOGDXBwcGh2m0GDBiEjIwNZWVloaGjA\\\n",
       "unXrkJCQYOGkRERkbSQtYI8//jguXbqEuLg4xMbGYtGiRQCAgoICTJw4EQCgUqmwYsUKxMfHIyws\\\n",
       "DDNnzkRERISUsYmIyAp0eBfizZw9e7bZ2318fLB582bzzxMnTjQXtNa62pVo7ZizfckhpxwyAszZ\\\n",
       "3piz/SlEc7MkiIiIrJzVTKMnIiJqC1kWsJaWlqqvr8esWbOg0WgwZMgQZGdnm+979dVXodFoEBIS\\\n",
       "gm3btkmWcfny5QgPD0d0dDTGjBmD8+fPm++zsbFBbGwsYmNjO3zCSks5V69eDU9PT3OeVatWme9b\\\n",
       "s2YNgoODERwcjDVr1kia86mnnjJn7NevH3r06GG+z1Kv57x58+Dl5YXIyMhm7xdCYMmSJdBoNIiO\\\n",
       "jkZqaqr5Pku+li3l/PTTTxEdHY3o6GgMGzYMR48eNd/n7++PqKgoxMbGdvhstZZy7tmzB66urua/\\\n",
       "7UsvvWS+z5LLz7WU85///Kc5Y2RkJGxsbFBeXg7Acq9nbm4uRo0ahbCwMERERODNN99sso21vD/b\\\n",
       "RMhMY2OjCAwMFOfOnRP19fUiOjpapKWlXbfNO++8IxYuXCiEEGLt2rVi5syZQggh0tLSRHR0tKir\\\n",
       "qxOZmZkiMDBQNDY2SpLx+++/FzU1NUIIId59911zRiGEcHR0bPdMt5rzww8/FIsXL27y2LKyMhEQ\\\n",
       "ECDKyspEeXm5CAgIEOXl5ZLlvNZbb70lHn74YfPPlno9f/jhB3Ho0CERERHR7P2bNm0S48ePF0aj\\\n",
       "Uezbt08MHjxYCGHZ17I1Offu3Wve/+bNm805hRCib9++oqSkpMOytSXn7t27xaRJk5rc3tb3S0fn\\\n",
       "vNaGDRvEqFGjzD9b6vUsKCgQhw4dEkIIUVVVJYKDg5u8Jtby/mwL2bXAWrO0VHJyMubOnQsAmDFj\\\n",
       "Bnbt2gUhBJKTkzF79mzY2dkhICAAGo0GKSkpkmQcNWqU+dSBGy2j1dFuZ5mubdu2IS4uDu7u7nBz\\\n",
       "c0NcXBy2bt1qFTnXrl2LOXPmdEiWmxkxYgTc3d1veH9ycjIefPBBKBQKDB06FBUVFSgsLLToa9ma\\\n",
       "nMOGDYObmxsA6d6bQMs5b8TSy8+1JadU701vb28MGDAAAODs7IywsLAmKxpZy/uzLWRXwFqztNS1\\\n",
       "26hUKri6uqKsrMxiy1K1dT/vv//+dcto1dXVQavVYujQofj222/bPV9bc3711VeIjo7GjBkzzCeV\\\n",
       "W3KJr7bs6/z588jKysLo0aPNt1nq9WzJjX4Pa14u7X/fmwqFAuPGjcPAgQPNq95Iad++fYiJicGE\\\n",
       "CROQlpYGwHqXn7t8+TK2bt2K6dOnm2+T4vXMzs7G4cOHMWTIkOtul+P7U9Jp9LdCtGJpqRtt05rH\\\n",
       "toe27OeTTz6BTqfDDz/8YL4tJycHPj4+yMzMxOjRoxEVFYWgoCBJck6ePBlz5syBnZ0d3nvvPcyd\\\n",
       "Oxfff/+9xV7L1ua8at26dZgxYwZsbGzMt1nq9WyJ1O/Lttq9ezfef/99/Pzzz+bb9u7dCx8fH1y4\\\n",
       "cAFxcXEIDQ3FiBEjJMk3YMAAnD9/Hk5OTti8eTPuvfdeZGRkWO3r+d133+HOO++8rrVm6dezuroa\\\n",
       "06dPxxtvvAEXF5fr7pPb+xOQYQusNUtLXbtNY2MjKisr4e7u3qZlqTo6I2BaZmvp0qXYsGED7Ozs\\\n",
       "zLdf3TYwMBAjR47E4cOH2z1ja3N6eHiYsz3yyCM4dOhQqx9ryZxXrVu3rkkXjaVez5bc6Pew5GvZ\\\n",
       "WseOHcOCBQuQnJwMDw8P8+1Xc3l5eWHq1Kkd0gXfWi4uLnBycgJgOldUr9ejtLTUKl9P4ObvTUu8\\\n",
       "nnq9HtOnT8f999+PadOmNblfTu9PM0lG3m6DXq8XAQEBIjMz0zxAe+LEieu2WbFixXWTOH7zm98I\\\n",
       "IYQ4ceLEdZM4AgICOmQSR2sypqamisDAQHHmzJnrbi8vLxd1dXVCCCFKSkqERqPpsAHo1uQsKCgw\\\n",
       "///rr78WQ4YMEUKYBnb9/f1FeXm5KC8vF/7+/qKsrEyynEIIcerUKdG3b19hNBrNt1ny9RRCiKys\\\n",
       "rBsO5m/cuPG6QfJBgwYJISz7WrYm5/nz50VQUJDYu3fvdbdXV1eLqqoq8//vuOMOsWXLFslyFhYW\\\n",
       "mv/WBw4cEH5+fsJoNLb6/WKpnEIIUVFRIdzc3ER1dbX5Nku+nkajUTzwwAPiiSeeuOE21vT+bC3Z\\\n",
       "FTAhTLNlgoODRWBgoHj55ZeFEEI899xzIjk5WQghRG1trZgxY4YICgoSgwYNEufOnTM/9uWXXxaB\\\n",
       "gYGiX79+YvPmzZJlHDNmjPDy8hIxMTEiJiZGTJ48WQhhmgEWGRkpoqOjRWRkpFi1alWHZWxNzmef\\\n",
       "fVaEh4eL6OhoMXLkSHHy5EnzY99//30RFBQkgoKCxAcffCBpTiGE+Nvf/iaeeeaZ6x5nyddz9uzZ\\\n",
       "onfv3kKlUglfX1+xatUqsXLlSrFy5UohhOkg8thjj4nAwEARGRkpDh48aH6sJV/LlnLOnz9f9OjR\\\n",
       "w/zeHDhwoBBCiHPnzono6GgRHR0twsPDzX8HqXK+/fbb5vfmkCFDriu4zb1fpMophGk276xZs657\\\n",
       "nCVfz59++kkAEFFRUea/66ZNm6zy/dkWXImDiIhkSXZjYERERAALGBERyRQLGBERyRILGBERyRIL\\\n",
       "GBERyRILGBERyRILGBERyRILGBERyRILGBERyRILGBERyRILGBERyRILGBERyRILGBERyRILGBER\\\n",
       "yRILGBERyRILGBERyRILGBERyRILGBERyRILGBERyRILGBERydL/AxInEW1rDe+/AAAAAElFTkSu\\\n",
       "QmCC\\\n",
       "\"\n",
       "  frames[1] = \"data:image/png;base64,iVBORw0KGgoAAAANSUhEUgAAAbAAAAEgCAYAAADVKCZpAAAABHNCSVQICAgIfAhkiAAAAAlwSFlz\\\n",
       "AAALEgAACxIB0t1+/AAAADl0RVh0U29mdHdhcmUAbWF0cGxvdGxpYiB2ZXJzaW9uIDMuMC4yLCBo\\\n",
       "dHRwOi8vbWF0cGxvdGxpYi5vcmcvOIA7rQAAIABJREFUeJzt3XlcVOXiBvDnMMMqi4KAbMoygCwi\\\n",
       "4uBWmahkamkuueRNW9HSbLn3Vr97b91bN8tuyy3D7JJWtmm3FXPBcq3MJNwVUUT2RTbZRNZ5f3+M\\\n",
       "TnlBAWXmzGGe7+fT5xMzZ5jHcZxn3nPe8x5JCCFARESkMFZyByAiIroWLDAiIlIkFhgRESkSC4yI\\\n",
       "iBSJBUZERIrEAiMiIkVigRERkSKxwIiISJFYYEREpEgsMCIiUiQWGBERKRILjIiIFIkFRkREisQC\\\n",
       "IyIiRWKBERGRIrHAiIhIkVhgRESkSCwwIiJSJBYYEREpEguMiIgUiQVGRESKxAIjIiJFYoEREZEi\\\n",
       "scCIiEiRWGBERKRILDAiIlIkFhgRESkSC4yIiBSJBUZERIrEAiMiIkWSvcDy8/MRFxeHsLAwRERE\\\n",
       "4M0332yzjRACS5cuhUajQVRUFA4cOCBDUiIiMidq2QOo1XjttdcQExOD2tpaDB06FPHx8QgPDzds\\\n",
       "s2XLFmRmZiIzMxP79u3DQw89hH379smYmoiI5Cb7CMzLywsxMTEAACcnJ4SFhaGwsPCybZKTkzF/\\\n",
       "/nxIkoQRI0agqqoKxcXFcsQlIiIzIXuB/V5OTg4OHjyI4cOHX3Z7YWEh/Pz8DD/7+vq2KTkiIrIs\\\n",
       "su9CvKSurg4zZszAG2+8AWdn58vuE0K02V6SpDa3JSUlISkpCQCQkZGBgQMHGicsEVEPlZOTg/Ly\\\n",
       "crljdIpZFFhzczNmzJiBefPmYfr06W3u9/X1RX5+vuHngoICeHt7t9kuISEBCQkJAACtVou0tDTj\\\n",
       "hSYi6oG0Wq3cETpN9l2IQgjcf//9CAsLwxNPPNHuNlOmTMGHH34IIQR++eUXuLi4wMvLy8RJiYjI\\\n",
       "nMg+AtuzZw8++ugjDBo0CNHR0QCAF198EXl5eQCARYsWYdKkSdi8eTM0Gg0cHBzw/vvvyxmZiIjM\\\n",
       "gOwFduONN7Z7jOv3JEnCypUrTZSIiIiUQPZdiERERNeCBUZERIrEAiMiIkVigRERkSKxwIiISJFY\\\n",
       "YEREpEgsMCIiUiQWGBERKRILjIiIFIkFRkREisQCIyIiRWKBERGRIrHAiIhIkVhgRESkSCwwIiJS\\\n",
       "JBYYEREpEguMiIgUiQVGRESKJHuB3XffffDw8EBkZGS79+/atQsuLi6Ijo5GdHQ0nn/+eRMnJCIi\\\n",
       "c6SWO8A999yDJUuWYP78+Vfc5qabbsLGjRtNmIqIiMyd7COw0aNHw9XVVe4YRESkMLIXWGfs3bsX\\\n",
       "gwcPxsSJE3H8+HG54xARkRmQfRdiR2JiYpCbmwtHR0ds3rwZd9xxBzIzM9vdNikpCUlJSQCAsrIy\\\n",
       "U8YkIiITM/sRmLOzMxwdHQEAkyZNQnNzM8rLy9vdNiEhAWlpaUhLS4O7u7spYxIRkYmZfYGVlJRA\\\n",
       "CAEASE1NhU6ng5ubm8ypiIhIbrLvQpw7dy527dqF8vJy+Pr64rnnnkNzczMAYNGiRfjiiy+watUq\\\n",
       "qNVq2NvbY/369ZAkSebUREQkN0lcGt70MFqtFmlpaXLHICJSFCV9dpr9LkQiIqL2sMCIiEiRWGBE\\\n",
       "RKRILDAiIlIkFhgRESkSC4yIiBSJBUZERIrEAiMiIkVigRERkSKxwIiISJFYYEREpEgsMCIiUiQW\\\n",
       "GBERKRILjIiIFIkFRkREisQCIyIiRWKBERGRIrHAiIhIkWQvsPvuuw8eHh6IjIxs934hBJYuXQqN\\\n",
       "RoOoqCgcOHDAxAmJiMgcyV5g99xzD1JSUq54/5YtW5CZmYnMzEwkJSXhoYceMmE6IiIyV7IX2OjR\\\n",
       "o+Hq6nrF+5OTkzF//nxIkoQRI0agqqoKxcXFJkxoXE0tOlTXN6OxpVXuKESX0ekEqi8043xjC4QQ\\\n",
       "cschakMtd4COFBYWws/Pz/Czr68vCgsL4eXlJWOqa3e6tBabjpTg15xKHC+qxrn6ZsN9fRysEeLp\\\n",
       "hJFBbogP90SEt4uMScnS1DQ0Y/uJs9iZUYajhdXIq6xHq05fXNYqCUHujojydcG4ME/cHOIOO2uV\\\n",
       "zInJ0pl9gbX3zU+SpHa3TUpKQlJSEgCgrKzMqLm6QqcT+P7EWfxndxYO5FVddp/KSoKDtQoNLa04\\\n",
       "V9+MfdmV2JddiTe2ZWKwX288eFMAJkV6wcqq/T8z0fXKq6jHf37Iwhf7C9DYorvsvl42KugEcKG5\\\n",
       "FRkltcgoqcV/0wrQ28Eadw3rj/tvDICbo61MycnSmX2B+fr6Ij8/3/BzQUEBvL292902ISEBCQkJ\\\n",
       "AACtVmuSfB05UVyDZ745hrTccwAAJzs1Jkb2w9iBHhjs1xueTnawspIghMDZmkYcLazGzpOl2HSk\\\n",
       "GIfzq7Dk04OI8j2D56ZEYEj/PjL/aagnOd/YgsSdp7Hmx2w0teqLa3iAKyZG9kNsgCs0Ho6wVasM\\\n",
       "2548W4u9WRXYfLQYx4tq8PauLHz0Sy4eHReMBaP8Ya2S/YgEWRhJmMHO7ZycHNx22204duxYm/s2\\\n",
       "bdqExMREbN68Gfv27cPSpUuRmpra4e/UarVIS0szRtxOadUJJO44jRU7MtGqE+jraIOHx2gwZ5gf\\\n",
       "HGw6/t5woakVXx0swJvbMlFa2wgrCXhoTBAeHRcCGzU/KOj6HMw7h0fWHUTBuQsAgOkxPnh4TBA0\\\n",
       "Hk4dPlYIgQN5VXhj2yn8mFkOABjs1xsr5kRjgFsvo+Ym45P7s7MrZC+wuXPnYteuXSgvL4enpyee\\\n",
       "e+45NDfrjwstWrQIQggsWbIEKSkpcHBwwPvvv9+p0ZWcfwnldY14dP1B7DldAUkCFoz0x+PxIXCx\\\n",
       "t+7y76pvasEb2zLx7o9nIAQwdEAfvPOHoXB34m4b6johBNb8lI3lWzLQohMI93LGsmmR1zS6F0Jg\\\n",
       "58lS/O3rYyiqbkAvGxVevXMwJg5S5vFp0mOBmQG5/hJyys9jwfupyK2oR19HG7wxewhuDO573b/3\\\n",
       "15xKLF13EMXVDfB2scOae2IR5uXcDYnJUrS06vCPb4/j41/yAAD33xiAJ28NNewmvFbV9c34y9dH\\\n",
       "seloMSQJ+L+JA/HgTYFXPFZN5k1JBcZ9Ud3oWGE1Zqz6GbkV9Yj0ccampTd1S3kBQKy/K5KX3ICY\\\n",
       "/r1RVN2A2f/Zi0P5VR0/kAj60zUe+uQAPv4lDzZqK6y8KwbP3BZ+3eUFAC4O1ki8awieunUghABe\\\n",
       "3JyBZZtOcOo9GR0LrJtklNTgD2v2oeJ8E0aHuGN9wkh4Ott163N4ONnh0wdH4JZwT9Q0tOAPq/dh\\\n",
       "f25ltz4H9TzNrTos+fQAvk8/Cxd7a3zywHBMjure3XySJOGhMUFIvGsIrFUSVv+UjRdYYmRkLLBu\\\n",
       "cLq0Dn9YvQ9V9c0YN9ADq+dr4WhrnAmedtYqrJwXg9uivFDX2IJ73/8VJ0tqjfJcpHytOoHHPjuE\\\n",
       "79LPwtlOjU8eGI5Y/ysvHHC9bovyxqp5Q2GtkrDmp2y8svWk0Z6LiAV2nUprG7DgvVSU1zXhpuC+\\\n",
       "WDkvxuizBK1VVnhzzhBMiNCPxBa8l4rCqgtGfU5Spn9uTMemI8VwslXjo/uHI9LH+CfHjw/3xKp5\\\n",
       "Q6GykvD2rix8si/X6M9JlokFdh0amluR8OF+FFZdQEz/3ki6W2uy1QlUVhLenDMEw/xdUVLTgHve\\\n",
       "S0VtQ3PHDySL8eHeHHzwcw5sVFZYc08sBvv1Ntlzjw/3xIvT9At0P/PNMWw/cdZkz02WgwV2jYQQ\\\n",
       "+PMXR3Aovwq+feyRNF8LexvTLq1jZ63Cuwu0CPZwRGZpHf7438PQ6XjMgYDdp8rwjw3HAQAvzxyE\\\n",
       "YQHG2214JbNj+2PpWA10Ali67iBOl9aZPAP1bCywa7Tmp2x8e7gIjrZqrFkQi74yLafjYm+Nd+dr\\\n",
       "4WynxnfpZ7Fy52lZcpD5KKq6gEfXH9QXx1gNpg3xlS3L4/EhmBzlhfNNrVj08X6cb2yRLQv1PCyw\\\n",
       "a3Aovwovp2QAAF6bNRih/TpevcCY/Pv2wptzhkCSgNe3ncIPp8xnHUgyrUszDqvqmxEX6o7HxofI\\\n",
       "mkeSJPxrRhQ0Ho44XVqHp748wpmJ1G1YYF1UXd+MxZ8cQHOrwL03+GNCRD+5IwEA4gZ64LFxIRAC\\\n",
       "+OPnh1FR1yh3JJLBK1tP4kBeFbxc7PDarGizWAS6l60a7/xhKHrZqLDxSDHW/5rf8YOIOoEF1gVC\\\n",
       "CDz15REUVl1AlK8L/m9imNyRLrNkrAbDAlxRVtvIb7oWaPepMiT9cAYqKwmJdw2Bay8buSMZaDwc\\\n",
       "8eL0QQCA579NR3b5eZkTUU/AAuuCbw4VIuV4CRxt1Uica/zp8l2lspLw79nRcLZTY9uJUny8L0/u\\\n",
       "SGQi1fXNeOqLIwCAP94SgqEDTD9poyNTo30wZbA3LjS34vHPDqGlVdfxg4iuwrw+gc3Y2ZoG/D1Z\\\n",
       "P6vr2dvC0d/NQeZE7fPpbW/4prtsUzpy+E3XIjz37XGU1DQgpn9vLBwdJHecK/rn1Eh4udjhUH4V\\\n",
       "EjnhiK4TC6wThBB4+ssjqGloQVyoO+7UyjerqzNui/LGHdHeaGjW4emvuCuxp9t6vARfHSyEnbUV\\\n",
       "Xr1zMFRmcNzrSlwcrPHarMGQJCBxx2mcKK6ROxIpGAusE77YX4CdJ8vgbKfGS9OjFLHK9rO3R8Ct\\\n",
       "lw1+OVPJg+Y9WHV9M/76tf46ek9OGIhAd0eZE3VsVFBf/GH4ALToBJ7+6ihaee4iXSMWWAcqzzfh\\\n",
       "xc0nAOhLoZ9L9y7QayyuvWzwjykRAIAXN51ASXWDzInIGP61NQPldY2I9e+De0b5yx2n0568NRT9\\\n",
       "nO1wOL8KH+3NkTsOKRQLrAPLt5zAufpmjApyw4wYH7njdMltUV4YH+aB2sYWPJvc9mrXpGwH8s7h\\\n",
       "09Q8qK0kLJs2yCymzHeWk501np+q/4L1ytaTKOJannQNWGBXkZZTif+mFcBGZYV/3hGpiF2HvydJ\\\n",
       "Ev55RyR62ajwXfpZ7DpZKnck6iYtrTr85aujEAJ4cHQgQjzlPZn+WtwS0Q+3RvTD+aZWfsGia8IC\\\n",
       "u4LmVp3h2MLCmwMRpIBjC+3xcrHH0nHBAIDnvk1HY0urzImoO3zwcw4ySmrh28ceS8cGyx3nmj03\\\n",
       "NQJOtvrTPnZm8AsWdY1ZFFhKSgpCQ0Oh0WiwfPnyNvd/8MEHcHd3R3R0NKKjo7F69WqjZ/pgTw5O\\\n",
       "nq1Ff1cHLI7TGP35jOneGwIQ5N4L2eXnsfrHbLnj0HUqrWnA69+fAqCflm7qRaS7k6ezHR4dry/g\\\n",
       "f25MR1MLzw2jzpO9wFpbW7F48WJs2bIF6enpWLduHdLT09tsN3v2bBw6dAiHDh3CAw88YNRM5XWN\\\n",
       "WLE9EwDw3JQIk10ixVhs1FZ4fqr+0haJO07z2mEK98rWk6hvasX4ME/EDfSQO851mz/SH4HuvXCm\\\n",
       "/Dw++JlfsKjzZC+w1NRUaDQaBAYGwsbGBnPmzEFycrKsmf79/SnUNrbg5hD3HvEBAQA3aPpi8iAv\\\n",
       "XGhuNcyqJOU5VliNLw4UwFol4a+TzWsps2tlo7bCs7eFAwBWbD+N0lrOmKXOkb3ACgsL4efnZ/jZ\\\n",
       "19cXhYWFbbb78ssvERUVhZkzZyI/33jnNZ0sqcW61DyorCT8rYd8QFzy18lhsFVbYdORYuzPPSd3\\\n",
       "HOoiIQSe35gOIYAFI/0R0LeX3JG6zZhQD4wd6IG6xha8knJS7jikELIXWHurRPzvbL/bb78dOTk5\\\n",
       "OHLkCMaPH48FCxa0+7uSkpKg1Wqh1WpRVtb1S4oIIfDCpnToBDBveH8EK3Bm19V497bHgzcFAgBe\\\n",
       "3HyCK3QozNbjJUjNrkQfB2s8Mk65Ezeu5JnbwmGtkvD5/gIcKaiSOw4pgOwF5uvre9mIqqCgAN7e\\\n",
       "3pdt4+bmBltb/QUjH3zwQezfv7/d35WQkIC0tDSkpaXB3d29y1l2nizFj5nlcLJTy34dJWNZeHMg\\\n",
       "3HrZYH/uOaQcK5E7DnVSY0srXtysvwbdE/EhcLG3ljlR9wvo2wv33hAAAHhpcwa/YFGHZC+w2NhY\\\n",
       "ZGZmIjs7G01NTVi/fj2mTJly2TbFxcWG/9+wYQPCwrp/115Lqw7LNumPDT06LtisLkXRnZzsrPFY\\\n",
       "vL6cl6dkcNaXQqz9OQd5lfUI9nDE3GH95Y5jNA+PCYKznRp7z1RgNy/MSh2QvcDUajUSExMxYcIE\\\n",
       "hIWFYdasWYiIiMCzzz6LDRs2AABWrFiBiIgIDB48GCtWrMAHH3zQ7Tm+PFCArLLz6O/qgPkj/bv9\\\n",
       "95uTObF+CHLvhdyKenz8S67ccagD1ReasXJnFgD9cUy1SvZ/tkbT28HGcNrK8i0Z0HGdRLoKSfTQ\\\n",
       "cbpWq0VaWlqntm1obkXcq7tQXN2AN+dEY2q0spaMuhbb0s/igQ/T0NvBGrv/HNcjd0n1FK9szcDK\\\n",
       "nVkYEeiKdQ+OUNyKMF31+3+Pr88ajOkx5n31h56mK5+dcuu5X+W64KO9uSiubkCYlzNuj/Lu+AE9\\\n",
       "wLgwDwwPcEVVfTPW/HhG7jh0BaW1DXjvpxwAwJO3Duzx5QUAdtYqPHFxN/dr351CQzNXj6H2WXyB\\\n",
       "1TQ0Y+Uu/YX1npwQqqgFUa+HJEn484RQAMDqn7JRXtcocyJqz8odp3GhuRXx4Z6I6d9H7jgmMz3G\\\n",
       "F6GeTiisusDd3HRFFl9gq384g6r6Zgzzd8WY0K7PXFQyrb8r4kLdUd/UilW7suSOQ/8jv7Ien6bm\\\n",
       "QZKAP90SKncck1JZSXhqov7PnLjzNGobmmVORObIogusrLYRq3/SL13z5K2hFrF75n/98eIH40e/\\\n",
       "5KK4mktMmZN/bzuF5laBadE+CO3Xs85J7Iy4UA/E+vdBVX0z3t+TI3ccMkMWXWArd56+uKacB7T+\\\n",
       "rnLHkUWkjwsmR3mhqUWHFdtPyx2HLjpZUouvDxbCWiXh8fieeU5iRyRJwhPx+i9Y7/54BtX1HIXR\\\n",
       "5Sy2wIqqLuDTfRd3z0ywrN0z/+vx8SGwkoDP0/KRU35e7jgE4NXvTkIIYO6w/vBzdZA7jmxGBrlh\\\n",
       "VJAbahtasPonTjaiy1lsga3alYWmVh0mD/LCwH7OcseRlcbDETNifNGiE3hj2ym541i8owXV+D79\\\n",
       "LOytVVgyVtmX8ukOl2YkvvdTNs6db5I5DZkTiyyw4uoL+OzXfEgSDBd7tHSPjg+GtUpC8uEiZJ6t\\\n",
       "lTuORXtzu/5LxPyRA+DhZCdzGvlp/V0xOsQd55ta8Z8fOAqj31hkgV0afU0a5KXIS7Ebg28fB8yO\\\n",
       "9YMQwIodPBYml2OF1dh2ohT21io8ODpQ7jhm49IobO3POSir5SkfpGdxBVZS3YD1qfrFg5V8KXZj\\\n",
       "eHiMBtYqCRuPcBQmlze26S+kevfIAejraCtzGvMR7dcb48M8cKG5Fe/s5ikfpGdxBfbO7kujr34W\\\n",
       "OTX5arx722OWVj8Ke4ujMJPTj77Ows7aynDZG/rNpStEfPxLLs7W8KKXZGEFdramAZ+m5gHgsa8r\\\n",
       "eThOPwr79kgRTpfWyR3Hory5/eLoa8QAuDtx9PW/In1ccGtEPzS26PD2Tn7BIgsrsHd2Z6GpRYeJ\\\n",
       "kf0sfubhlfj0tsedhlFYptxxLMaxQv3MQztrKySMDpI7jtm6dE7cutR8lFRzFGbpLKbASmsa8Ok+\\\n",
       "jr464+ExQfpR2GGOwkxlxcXR1x+Gc/R1NaH9nDB5kBeaWnV4exdHYZbOYgrsnd1n0Niiw4QIT4R5\\\n",
       "cfR1Nb59HDBzqB90AkjkKMzojhdV47v0s7BVWyHhZh776sjSccGQJGB9aj6XP7NwFlFgpbUN+GSf\\\n",
       "fkVrjr465+ExQVBbSdhwuAhZZRyFGZNh9DWC5311Rmg/J0y6NArbyRmJlswiCizp4ujrlnBPRHi7\\\n",
       "yB1HEfxcHXCn1vfiKIy7aowlvagGW4/rR18LOfrqtEcvjsI++zUfRVUchVmqHl9gZbWN+Jijr2vy\\\n",
       "8BgN1FYSkg8V4gxHYUZxafR11/D+HH11QYgnj4WRmRRYSkoKQkNDodFosHz58jb3NzY2Yvbs2dBo\\\n",
       "NBg+fDhycnI6/buTfshCQ7MO48M8EenD0VdX+Lk6YOZQjsKM5URxDVKOl8BWbYWHbubMw67iKIxk\\\n",
       "L7DW1lYsXrwYW7ZsQXp6OtatW4f09PTLtlmzZg369OmD06dP4/HHH8dTTz3Vqd9dXteIjy5ezfVR\\\n",
       "jr6uyeI4/Sjsm0OFyOZK9d3q0mkKc4f1h4czR19dFezphNuivNHcKrCS54VZJNkLLDU1FRqNBoGB\\\n",
       "gbCxscGcOXOQnJx82TbJyclYsGABAGDmzJnYvn07hBAd/u53fzhzcfTlgUG+HH1dCz9XB0yP8eEo\\\n",
       "rJtllNRg89ES2Kit8NAYjr6u1aPjNJAk4L9p+Sg4Vy93HDIx2QussLAQfn5+hp99fX1RWFh4xW3U\\\n",
       "ajVcXFxQUVFx1d/bohP4cO+l0ZdlXhCwuyyJC4bq4igst4KjsO7w1sWLh941rD88Ofq6ZhoPJ0wZ\\\n",
       "rB+Fvb2LMxItjewF1t5ISpKkLm8DAElJSdBqtdBqtcgrPYcLza0YO5Cjr+vV380B04f4oFUnOArr\\\n",
       "BqfO1mLzsWLYqKywiMe+rtsjY4MNF2TlKMyyyF5gvr6+yM/PN/xcUFAAb2/vK27T0tKC6upquLq6\\\n",
       "tvldCQkJSEtLQ1paGi7o1AB47Ku7LBmrgcpKwlcHOQq7Xm/tOA0hgNmxfujnwtHX9dJ4OBpGYSt5\\\n",
       "XphFkb3AYmNjkZmZiezsbDQ1NWH9+vWYMmXKZdtMmTIFa9euBQB88cUXGDt2bLsjsN/TCYG4UHcM\\\n",
       "9utttOyWZIBbL9wRrR+F8YD5tTtdWoeNR4pgrZJ47KsbPTLut1FYfiVHYddq7c85ckfoEtkLTK1W\\\n",
       "IzExERMmTEBYWBhmzZqFiIgIPPvss9iwYQMA4P7770dFRQU0Gg1ef/31dqfat+fR8Tz21Z2WjNXA\\\n",
       "SgK+OlDID4lrlLgjE0IAd2r94N3bXu44PUaQuyOmRvugRSd4Xtg12p9bib9vOC53jC6RRGem8ymQ\\\n",
       "e0A4yrLTO96QuuSJzw7hq4OFmBPrh+UzouSOoyhnyuow/vXdsJIk7PrzGPj2cZA7Uo/y+9d355/G\\\n",
       "wM+Vr29X3L1mH37MLEffbX9HWlqa3HE6RfYRmLEMcOOb1xgujcK+2F/AUVgXJe48DZ0AZg71ZXkZ\\\n",
       "QaC7I+64OArjbu6u2Z97Dj9mlqOXjUruKF3SYwuMjCPQXX/AXL+rhgfMOyun/DySDxVBZSVhcZxG\\\n",
       "7jg9Fr9gXZtLF1O95wZ/eYN0EQuMumzJxWnLX+zPRyGX8OmUlTtPo1UnMH2ID3dtGVGguyPuGKIf\\\n",
       "hfGUj845kHcOP5wqQy8bFR64UVkLSrPAqMs0Ho64/dLJo9xV06H8ynp8dbAQKisJS8Zy9GVsj4zV\\\n",
       "n3j/xYEC5FVwFNaRN7f9Nvrq08tG5jRdwwKja/LI2N+W8OFCqld3afQ1NdobA9x6yR2nxwvo+9sp\\\n",
       "H4k7eUHWqzmYdw67FTr6AlhgdI00Hr8tpMppy1dWcK4eX+wvgJUELOGxL5N55OKJ918e4In3V3Pp\\\n",
       "2NeCUcobfQEsMLoOSy+Nwn4t4KXdr+DtXVlo0QlMGeyNQHdHueNYDP++vTCNy59d1aH8Kuw6WQYH\\\n",
       "GxUeuEl5oy+ABUbXIdjzt0u7r+KMxDYKqy7g87R8SBJ47EsGj/xu+bMcXgqojTe3nQKgH325KnD0\\\n",
       "BbDA6DotHau/qOD61HyUVDfIHcesvLU9E82tArdHeUPj4SR3HIszwK3Xb4tQc7LRZQ7lV2HnxdHX\\\n",
       "gwodfQEsMLpOof2cMClSPwp7ZzdHYZfklJ/H5/sLoLKS8Nh4Ligtl0uLUH/NUdhlLo2+5o9U7ugL\\\n",
       "YIFRN3hknH732KepeThbw1EYoD843qoTmBHjw2NfMhrg1gszYvSjsLd4LAyAfs3D30ZfAXLHuS4s\\\n",
       "MLpuA/s5Y2JkPzS16HheGIDMs7X45lAhrFUSHhnL0ZfclsQFQ20l4euDBci28FGYEAL/SjkJALj/\\\n",
       "xgC4OdrKnOj6sMCoWzw2PgSSpB+FWfoSPv/edgpCAHNi+3PVDTPQ380BM2J8oRPAWzss+7ywn06X\\\n",
       "Y192JVzsrRU78/D3WGDULUL7OWHaEB80twr8+/tTcseRzbHCamw+WgJbtRVnHpqRJWM1UFtJ+OZg\\\n",
       "Ic6U1ckdRxZCCLy6VT/6WnRzEFzsrWVOdP1YYNRtHh8fAmuVhK8PFSKjpEbuOLK4VN53jxgAT2de\\\n",
       "bdlc+Lk6YObQS6Mwy9zN/V36WRwuqEZfR1ssGDVA7jjdggVG3cbP1QHzhg+AEMCrWy1vFHYg7xy2\\\n",
       "Z5TCwUaFRbzastlZHKcfhSUfKkSWhY3CWnUCr32nH309MlYDBxu1zIm6BwuMutXiOA0cbFTYduIs\\\n",
       "9udWyh3HZIQQWL45AwBw7w3+6Kvwg+M9kZ+rA+7UXhyFbbesY2EbDhfi1Nk6+PS2x5xhfnLH6TYs\\\n",
       "MOpW7k62eOBG/dTcl1NOoode8LuNbSdKkZpTiT4O1lh4M0df5urSKGzD4SKcLrWMUVhjSytev7hr\\\n",
       "+7HxwbBVK+uilVcja4FVVlYiPj4ewcHBiI+Px7lz59rdTqVSITo6GtHR0ZgyZYqJU1JXPTA6EL0d\\\n",
       "rJGaXYndp8rkjmN0La06LN9yAgCwdFwwnO2Uf3C8p/Lt44A7tX7QCeBfKRlyxzGJj/bmIr/yAjQe\\\n",
       "jpg2xEfuON1K1gJbvnw5xo0bh8zMTIwbNw7Lly9vdzt7e3scOnQIhw4dwoYNG0yckrrK2c4ai8fo\\\n",
       "Z+C9nHISrbqePQr7LC0fWWXnMcBNfwyQzNtj44PhYKPCd+ln8cuZCrnjGFVVfRNWXNxd+pdJA6FW\\\n",
       "9aydbrL+aZKTk7FgwQIAwIIFC/DNN9/IGYe60d0jB8Cntz1OFNfgi/35cscxmrrGFvz7e/0HxJMT\\\n",
       "BsJG3bM+IHoiT2c7LLq4m/eFTenQ9eAvWG/tOI2ahhbcoHFDXKiH3HG6naz/2s6ePQsvLy8AgJeX\\\n",
       "F0pLS9vdrqGhAVqtFiNGjGBNSbCaAAAYCUlEQVTJKYSdtQpPTRwIAHhl6ynUNbbInMg43v3hDMrr\\\n",
       "GhHt1xuTBvWTOw510oM3BaKfsx2OFdbg64OFcscxityK8/hwbw4kCfjLpDBIkiR3pG5n9AIbP348\\\n",
       "IiMj2/yXnJzc6d+Rl5eHtLQ0fPrpp3jssceQldX+orFJSUnQarXQarUoK+v5x17M3e1RXojp3xvl\\\n",
       "dY09compszUNePfHMwCAv07umR8QPZW9jQp/nhAKAHhl60lcaGqVOVH3+1fKSTS3Ckwf4osIbxe5\\\n",
       "4xiF0Qts27ZtOHbsWJv/pk6dCk9PTxQXFwMAiouL4eHR/hDX29sbABAYGIgxY8bg4MGD7W6XkJCA\\\n",
       "tLQ0pKWlwd3d3Th/IOo0SZLw7O0RAIDVP2X3uCWmXtp8AvVNrZgQ4YlYf1e541AXTRvig0gfZ5T8\\\n",
       "7otIT/FrTiU2HS2GnbUV/jQhRO44RiPrLsQpU6Zg7dq1AIC1a9di6tSpbbY5d+4cGhsbAQDl5eXY\\\n",
       "s2cPwsPDTZqTrl20X29MG+KDphYdlm/pObO+UrMr8c2hItiqrfC3yXw/KpGVlWT4u3tnd1aPuap4\\\n",
       "S6sOz3xzDACQcFMgvFzsZU5kPLIW2NNPP43vv/8ewcHB+P777/H0008DANLS0vDAAw8AAE6cOAGt\\\n",
       "VovBgwcjLi4OTz/9NAtMYZ68NRR21lbYdLQYe7OUP+urVSfw9w3HAQALbw7igr0KNiLQDbdG9EN9\\\n",
       "Uyte2HhC7jjd4uNfcpFRUguf3vZ4aEzPXo9TEj30TFOtVou0tDS5Y9BFK7Zn4vXvTyHIvRe2PDpa\\\n",
       "0bP1Ptqbg2eSj8Ontz22PXEz7G16zomhlqiw6gLGv7YbF5pb8eF9wzA6RLmHH8pqGzH2tV2obWjB\\\n",
       "f+4eigkRXZ9YpKTPTuV+ipCiLLw5EIF9eyGr7LyijzdU1DXi1e/0qxo8c1sYy6sH8Oltj6Xj9Ndt\\\n",
       "+/uG42hsUe6EjuVbMlDb0IIxoe64JdxT7jhGxwIjk7BVq/DCHZEA9KOxvAplTuj458Z0VF9oxk3B\\\n",
       "fa/p2y2Zp/tvDIDGwxHZ5eeRtFuZX7BSsyvx5YEC2Kis8I/bIyxiViwLjExmlKYv7oj2RmOLDs8k\\\n",
       "H1PcOok7T5bim0NFsLO2wgt3RFrEB4SlsFFb4Z9T9V+wEneeVtyVmxuaW/H0l0cAAItuDoR/314y\\\n",
       "JzINFhiZ1F8nh8PJTo3dp8qQfKhI7jiddr6xBX/7Wj+z64n4EAxws4wPCEsyMsgN02N80Niiw5Nf\\\n",
       "HFbUCh1vbs/EmfLz0Hg4YrEFXUiVBUYm5e5ki79NDgOgP95wtqZB5kSd88rWkyisuoBIH2fcd0OA\\\n",
       "3HHISJ69LRzuTrb4Necc1u7NkTtOpxwrrEbSD2cgScDLM6J61GrzHWGBkcnN0vohLtQd1Rea8X9f\\\n",
       "HTX7XYl7Tpfjg59zoLKSsHx6VI9bEJV+09vBBssuHqt9OSUDuRXmvSuxsaUVf/r8MFp1AveOCsDQ\\\n",
       "AX3kjmRS/JdIJidJEpbPiIKznRo7Mkrx+f4CuSNdUXV9M/7438MAgKVjgxHp0zOX5KHf3BLRD1Oj\\\n",
       "vdHQrMOfPj+Mllad3JGu6NWtJ5FRUov+rg49esWNK2GBkSw8ne3w3FT9MlPPbTiOM2Z4iXchBP7y\\\n",
       "zVGU1DRgSP/eWBzHC1Vain/cHgGPi7sSV5jp1Zt/OFWGd3/MhspKwptzouFgo5Y7ksmxwEg2d0T7\\\n",
       "YHKUF843tWLxpwfR0Gxe5998eaAQm44Uw8FGhTdmR3PXoQXp08sGb8yJhiQBb+08jZ+zyuWOdJmK\\\n",
       "ukb88XP9noHHxwdjSH/L2nV4Cf9FkmwkScLy6YPg7+aAE8U1eH5jutyRDNKLavC3b44C0H8b56xD\\\n",
       "yzMqqC8eidNACOCx9YdQUdcodyQA+qXMHv/vYZTVNmJYgGuPXy7qalhgJCsnO2sk3hUDG7UVPt2X\\\n",
       "h2/M4NpM1fXNWPTxfjQ06zBL64s7tb5yRyKZLB0XjFj/PiitbcTiTw+g2QyOh72y9SR+OFUG1142\\\n",
       "eGN2NFRWlns+IguMZBfp44Jnb9Mv0Pzkl0dwIO+cbFlaWnV47LODyKusR6SPM56fyhOWLZlaZYW3\\\n",
       "5sbA3ckWv5ypxD8uLuIsl41HivDO7iyorCSsvCsG3r177krzncECI7Mwb3h/zBveH00tOiR8mCbL\\\n",
       "tcOEEHgm+Th2nixDbwdrrJo3FHbWlnNODbWvn4sdku4eChu1FT7Zl4cP9+bIkmN/7jn86eJxr79O\\\n",
       "CsPIIDdZcpgTFhiZBUmS8I8pEbgpuC/K65pw7we/mvyYw9u7srAuNQ+2aiusWaDlZVLIYEj/Pnh5\\\n",
       "xiAA+hPwvz1s2lVkMs/W4r4PfkVDsw6ztX649wZ/kz6/uWKBkdmwVlkh8a4YhHg64nRpHf6wJhVV\\\n",
       "9U0mee4P9+bgla0nIUnAm3OiMXQAr7BMl5s2xBd/nhAKIYDHPzuEHRlnTfK8+ZX1mP9eKqovNGN8\\\n",
       "mCeWTeNu7UtYYGRWXOyt8fEDwxHYtxdOFNdg/nvGL7EP9mTj2WT9sY3np0Tg1kgvoz4fKdfDY4Kw\\\n",
       "8OZAtOgEFn18ANvSjVtiZ8rqMOs/e1Fc3QDtgD5IvGsIT+f4Hb4SZHY8nOzw6YMj0N/VAUcKqjFj\\\n",
       "1c9GOSYmhMDr353EP77VT99/fmoE7h7p3+3PQz2HJEl4+taBmD9yAJpadFj48X58YaSVZI4VVmPW\\\n",
       "f34xlNd798bymOz/YIGRWernYofPFo5AqKcTssrOY/qqn5GaXdltv7++qQWPrj+EFTtOw0oCXpw2\\\n",
       "CPNZXtQJkiThuSkRWBKnQatO4E+fH8ZLm09065JTGw4XYcaqn1Fe14gbNG748P5hcLaz7rbf31Ow\\\n",
       "wMhsebnY47+LRmJkoBvKahsx991fkLgj87o/KI4WVOO2FT9hw+Ei9LJRYc09sbhreP9uSk2WQJIk\\\n",
       "/GlCKJ6bEgGVlYT//HAG81bvu+49BXWNLfi/r45i6bqDaGzRT9h4755Yi1wmqjNkLbDPP/8cERER\\\n",
       "sLKyQlpa2hW3S0lJQWhoKDQaDZYvX27ChCQ3F3trfHj/MDw0JgitOoFXvzuF29766ZpGY1X1TXju\\\n",
       "2+OY9vYenCk/jxBPR3z18A2IC/UwQnKyBAtG+WPdgyPg7mSLfdmViP/3bryzO6vLy6IJIbDlaDFu\\\n",
       "feMHrEvNu3hV5XAsnzHIoi6P0lWSkPFaFidOnICVlRUWLlyIV199FVqtts02ra2tCAkJwffffw9f\\\n",
       "X1/ExsZi3bp1CA8Pv+rv1mq1Vy1FUp4fTpXhL18fRcG5CwCAGzRuuHdUAEaHuMNGfeXvYrkV5/Fp\\\n",
       "ah7W7ctDTUMLJAlYMNIfT08cyGMK1C3K6xrx/Lfp2HBxen1fR1vcf2MApsf4wNPZ7oqPu9DUis1H\\\n",
       "i/HBzzk4WlgNAIjwdsbrs6IR2s/JJNn/l5I+O2Udl4aFhXW4TWpqKjQaDQIDAwEAc+bMQXJycocF\\\n",
       "Rj3P6BB3bHviZqzalYXVP57BntMV2HO6As52agwLcEW4twvcnWxho5JQ29CCrLI67M89h1Nnf1vp\\\n",
       "flSQG/42ORzh3s4y/kmop+nraIsVc4dgeowPXv3uJI4V1uDllAz8a2sGonxcMKR/H/j2sYeznTUa\\\n",
       "W1pRUHUB6UU12JddiaYW3cXfYYNHxwVjzrD+sOZMw04x+x2rhYWF8PPzM/zs6+uLffv2yZiI5GRn\\\n",
       "rcLj8SG478YArEvVr52YUVKLbSdKse1EabuPcbJVY3y4J+aPHGCxq3aTaYwJ9cDNIe7YdaoM6/bl\\\n",
       "YdfJMhwuqMbhguorPibarzfmDvPDlME+sLfhHoGuMHqBjR8/HiUlJW1uX7ZsGaZOndrh49vbw3ml\\\n",
       "k/iSkpKQlJQEACgrK+tiUlISF3trLLo5CItuDkJeRT0O5p/DqbO1qDzfhJZWgV62agxwc0CYlzNi\\\n",
       "+ve56i5Gou4kSRLiQj0QF+qBusYWHMqrwpHCKpTWNKKusQW2aiu4O9kixNMJsf6ucHeylTuyYhm9\\\n",
       "wLZt23Zdj/f19UV+fr7h54KCAnh7e7e7bUJCAhISEgCg3eNp1DP1d3NAfzcu+0Tmx9FWjRuD++LG\\\n",
       "4L5yR+mRzP5raWxsLDIzM5GdnY2mpiasX78eU6ZMkTsWERHJTNYC+/rrr+Hr64u9e/di8uTJmDBh\\\n",
       "AgCgqKgIkyZNAgCo1WokJiZiwoQJCAsLw6xZsxARESFnbCIiMgOyTqM3JiVNBSUiMhdK+uw0+12I\\\n",
       "RERE7WGBERGRIrHAiIhIkVhgRESkSCwwIiJSJBYYEREpEguMiIgUiQVGRESKxAIjIiJFYoEREZEi\\\n",
       "scCIiEiRWGBERKRILDAiIlIkFhgRESkSC4yIiBSJBUZERIrEAiMiIkVigRERkSLJWmCff/45IiIi\\\n",
       "YGVlddVLWPv7+2PQoEGIjo6GVqs1YUIiIjJXajmfPDIyEl999RUWLlzY4bY7d+5E3759TZCKiIiU\\\n",
       "QNYCCwsLk/PpiYhIwRRxDEySJNxyyy0YOnQokpKS5I5DRERmwOgjsPHjx6OkpKTN7cuWLcPUqVM7\\\n",
       "9Tv27NkDb29vlJaWIj4+HgMHDsTo0aPbbJeUlGQouLKysusLTkREZs3oBbZt27br/h3e3t4AAA8P\\\n",
       "D0ybNg2pqantFlhCQgISEhIAgJM9iIh6OLPfhXj+/HnU1tYa/v+7775DZGSkzKmIiEhushbY119/\\\n",
       "DV9fX+zduxeTJ0/GhAkTAABFRUWYNGkSAODs2bO48cYbMXjwYAwbNgyTJ0/GrbfeKmdsIiIyA5IQ\\\n",
       "Qsgdwhi0Wu1Vzy0jIqK2lPTZafa7EImIiNrDAiMiIkVigRERkSKxwIiISJFYYEREpEgsMCIiUiQW\\\n",
       "GBERKRILjIiIFIkFRkREisQCIyIiRWKBERGRIrHAiIhIkVhgRESkSCwwIiJSJBYYEREpEguMiIgU\\\n",
       "iQVGRESKxAIjIiJFkrXA/vznP2PgwIGIiorCtGnTUFVV1e52KSkpCA0NhUajwfLly02ckoiIzJGs\\\n",
       "BRYfH49jx47hyJEjCAkJwUsvvdRmm9bWVixevBhbtmxBeno61q1bh/T0dBnSEhGROZG1wG655Rao\\\n",
       "1WoAwIgRI1BQUNBmm9TUVGg0GgQGBsLGxgZz5sxBcnKyqaMSEZGZMZtjYO+99x4mTpzY5vbCwkL4\\\n",
       "+fkZfvb19UVhYaEpoxERkRlSG/sJxo8fj5KSkja3L1u2DFOnTjX8v1qtxrx589psJ4Roc5skSe0+\\\n",
       "V1JSEpKSkgAAx44dg1arvZ7oJlFWVgZ3d3e5Y3SIObuPEjICzNndlJIzIyND7gidZvQC27Zt21Xv\\\n",
       "X7t2LTZu3Ijt27e3W0y+vr7Iz883/FxQUABvb+92f1dCQgISEhIAAFqtFmlpadeR3DSYs3spIacS\\\n",
       "MgLM2d2UlFMpZN2FmJKSgpdffhkbNmyAg4NDu9vExsYiMzMT2dnZaGpqwvr16zFlyhQTJyUiInMj\\\n",
       "a4EtWbIEtbW1iI+PR3R0NBYtWgQAKCoqwqRJkwAAarUaiYmJmDBhAsLCwjBr1ixERETIGZuIiMyA\\\n",
       "0XchXs3p06fbvd3b2xubN282/Dxp0iRDoXXWpV2J5o45u5cSciohI8Cc3Y05u58k2pslQUREZObM\\\n",
       "Zho9ERFRVyiywDpaWqqxsRGzZ8+GRqPB8OHDkZOTY7jvpZdegkajQWhoKLZu3Spbxtdffx3h4eGI\\\n",
       "iorCuHHjkJuba7hPpVIhOjoa0dHRRp+w0lHODz74AO7u7oY8q1evNty3du1aBAcHIzg4GGvXrpU1\\\n",
       "5+OPP27IGBISgt69exvuM9Xred9998HDwwORkZHt3i+EwNKlS6HRaBAVFYUDBw4Y7jPla9lRzk8+\\\n",
       "+QRRUVGIiorCqFGjcPjwYcN9/v7+GDRoEKKjo40+W62jnLt27YKLi4vh7/b555833GfK5ec6yvnK\\\n",
       "K68YMkZGRkKlUqGyshKA6V7P/Px8xMXFISwsDBEREXjzzTfbbGMu788uEQrT0tIiAgMDRVZWlmhs\\\n",
       "bBRRUVHi+PHjl22zcuVKsXDhQiGEEOvWrROzZs0SQghx/PhxERUVJRoaGsSZM2dEYGCgaGlpkSXj\\\n",
       "jh07xPnz54UQQrz99tuGjEII0atXr27PdK0533//fbF48eI2j62oqBABAQGioqJCVFZWioCAAFFZ\\\n",
       "WSlbzt9bsWKFuPfeew0/m+r13L17t9i/f7+IiIho9/5NmzaJW2+9Veh0OrF3714xbNgwIYRpX8vO\\\n",
       "5NyzZ4/h+Tdv3mzIKYQQAwYMEGVlZUbL1pWcO3fuFJMnT25ze1ffL8bO+XsbNmwQcXFxhp9N9XoW\\\n",
       "FRWJ/fv3CyGEqKmpEcHBwW1eE3N5f3aF4kZgnVlaKjk5GQsWLAAAzJw5E9u3b4cQAsnJyZgzZw5s\\\n",
       "bW0REBAAjUaD1NRUWTLGxcUZTh240jJaxnY9y3Rt3boV8fHxcHV1RZ8+fRAfH4+UlBSzyLlu3TrM\\\n",
       "nTvXKFmuZvTo0XB1db3i/cnJyZg/fz4kScKIESNQVVWF4uJik76Wnck5atQo9OnTB4B8702g45xX\\\n",
       "Yurl57qSU673ppeXF2JiYgAATk5OCAsLa7Oikbm8P7tCcQXWmaWlfr+NWq2Gi4sLKioqTLYsVVef\\\n",
       "Z82aNZcto9XQ0ACtVosRI0bgm2++6fZ8Xc355ZdfIioqCjNnzjScVG7KJb668ly5ubnIzs7G2LFj\\\n",
       "DbeZ6vXsyJX+HOa8XNr/vjclScItt9yCoUOHGla9kdPevXsxePBgTJw4EcePHwdgvsvP1dfXIyUl\\\n",
       "BTNmzDDcJsfrmZOTg4MHD2L48OGX3a7E96es0+ivhejE0lJX2qYzj+0OXXmejz/+GGlpadi9e7fh\\\n",
       "try8PHh7e+PMmTMYO3YsBg0ahKCgIFly3n777Zg7dy5sbW3xzjvvYMGCBdixY4fJXsvO5rxk/fr1\\\n",
       "mDlzJlQqleE2U72eHZH7fdlVO3fuxJo1a/DTTz8ZbtuzZw+8vb1RWlqK+Ph4DBw4EKNHj5YlX0xM\\\n",
       "DHJzc+Ho6IjNmzfjjjvuQGZmptm+nt9++y1uuOGGy0Zrpn496+rqMGPGDLzxxhtwdna+7D6lvT8B\\\n",
       "BY7AOrO01O+3aWlpQXV1NVxdXbu0LJWxMwL6ZbaWLVuGDRs2wNbW1nD7pW0DAwMxZswYHDx4sNsz\\\n",
       "djanm5ubIduDDz6I/fv3d/qxpsx5yfr169vsojHV69mRK/05TPladtaRI0fwwAMPIDk5GW5ubobb\\\n",
       "L+Xy8PDAtGnTjLILvrOcnZ3h6OgIQH+uaHNzM8rLy83y9QSu/t40xevZ3NyMGTNmYN68eZg+fXqb\\\n",
       "+5X0/jSQ5cjbdWhubhYBAQHizJkzhgO0x44du2ybxMTEyyZx3HnnnUIIIY4dO3bZJI6AgACjTOLo\\\n",
       "TMYDBw6IwMBAcerUqctur6ysFA0NDUIIIcrKyoRGozHaAejO5CwqKjL8/1dffSWGDx8uhNAf2PX3\\\n",
       "9xeVlZWisrJS+Pv7i4qKCtlyCiFERkaGGDBggNDpdIbbTPl6CiFEdnb2FQ/mb9y48bKD5LGxsUII\\\n",
       "076WncmZm5srgoKCxJ49ey67va6uTtTU1Bj+f+TIkWLLli2y5SwuLjb8Xe/bt0/4+fkJnU7X6feL\\\n",
       "qXIKIURVVZXo06ePqKurM9xmytdTp9OJu+++Wzz66KNX3Mac3p+dpbgCE0I/WyY4OFgEBgaKF154\\\n",
       "QQghxDPPPCOSk5OFEEJcuHBBzJw5UwQFBYnY2FiRlZVleOwLL7wgAgMDRUhIiNi8ebNsGceNGyc8\\\n",
       "PDzE4MGDxeDBg8Xtt98uhNDPAIuMjBRRUVEiMjJSrF692mgZO5Pz6aefFuHh4SIqKkqMGTNGnDhx\\\n",
       "wvDYNWvWiKCgIBEUFCTee+89WXMKIcTf//538dRTT132OFO+nnPmzBH9+vUTarVa+Pj4iNWrV4tV\\\n",
       "q1aJVatWCSH0HyIPP/ywCAwMFJGRkeLXX381PNaUr2VHOe+//37Ru3dvw3tz6NChQgghsrKyRFRU\\\n",
       "lIiKihLh4eGGvwe5cr711luG9+bw4cMvK9z23i9y5RRCP5t39uzZlz3OlK/njz/+KACIQYMGGf5e\\\n",
       "N23aZJbvz67gShxERKRIijsGRkREBLDAiIhIoVhgRESkSCwwIiJSJBYYEREpEguMiIgUiQVGRESK\\\n",
       "xAIjIiJFYoEREZEiscCIiEiRWGBERKRILDAiIlIkFhgRESkSC4yIiBSJBUZERIrEAiMiIkVigRER\\\n",
       "kSKxwIiISJFYYEREpEgsMCIiUqT/B0/K3As3LZMpAAAAAElFTkSuQmCC\\\n",
       "\"\n",
       "  frames[2] = \"data:image/png;base64,iVBORw0KGgoAAAANSUhEUgAAAbAAAAEgCAYAAADVKCZpAAAABHNCSVQICAgIfAhkiAAAAAlwSFlz\\\n",
       "AAALEgAACxIB0t1+/AAAADl0RVh0U29mdHdhcmUAbWF0cGxvdGxpYiB2ZXJzaW9uIDMuMC4yLCBo\\\n",
       "dHRwOi8vbWF0cGxvdGxpYi5vcmcvOIA7rQAAIABJREFUeJzt3XlcVOX+B/DPDMO+g6DiIAijgCCg\\\n",
       "DoLmtVxwveKaS5paGVp669atm3V/t3vrZnnrtpktlzSzTW+ahZmSu6mpiLsiirLIqiyiLLLO8/tj\\\n",
       "dMJABYE5c5jP+/Xq9YqZMzNfxuF85vuc5zxHIYQQICIikhml1AUQERHdCwYYERHJEgOMiIhkiQFG\\\n",
       "RESyxAAjIiJZYoAREZEsMcCIiEiWGGBERCRLDDAiIpIlBhgREckSA4yIiGSJAUZERLLEACMiIlli\\\n",
       "gBERkSwxwIiISJYYYEREJEsMMCIikiUGGBERyRIDjIiIZIkBRkREssQAIyIiWWKAERGRLDHAiIhI\\\n",
       "lhhgREQkSwwwIiKSJQYYERHJEgOMiIhkiQFGRESyxAAjIiJZYoAREZEsSR5gWVlZGDx4MIKCghAc\\\n",
       "HIz333+/wTZCCDz11FPQaDQIDQ3FkSNHJKiUiIhMiUryAlQqvP322+jTpw9KS0vRt29fREdHo2fP\\\n",
       "noZtNm/ejNTUVKSmpuLgwYN44okncPDgQQmrJiIiqUnegXXu3Bl9+vQBADg6OiIoKAg5OTm3bBMf\\\n",
       "H49Zs2ZBoVAgKioKJSUlyMvLk6JcIiIyEZIHWH0ZGRk4evQoIiMjb7k9JycH3t7ehp/VanWDkCMi\\\n",
       "IvMi+RDiTWVlZZg0aRLee+89ODk53XKfEKLB9gqFosFtcXFxiIuLAwCkpKQgMDCwbYolImqnMjIy\\\n",
       "UFhYKHUZTWISAVZTU4NJkyZhxowZmDhxYoP71Wo1srKyDD9nZ2fDy8urwXaxsbGIjY0FAGi1WiQl\\\n",
       "JbVd0URE7ZBWq5W6hCaTfAhRCIHHHnsMQUFBePbZZxvdJiYmBl988QWEEDhw4ACcnZ3RuXNnI1dK\\\n",
       "RESmRPIObN++ffjyyy/Rq1cvhIeHAwBef/11XLx4EQAwf/58jB49Gps2bYJGo4GdnR1WrlwpZclE\\\n",
       "RGQCJA+wgQMHNnqMqz6FQoEPP/zQSBUREZEcSD6ESEREdC8YYEREJEsMMCIikiUGGBERyRIDjIiI\\\n",
       "ZIkBRkREssQAIyIiWWKAERGRLDHAiIhIlhhgREQkSwwwIiKSJQYYERHJEgOMiIhkiQFGRESyxAAj\\\n",
       "IiJZYoAREZEsMcCIiEiWGGBERCRLkgfYo48+Ck9PT4SEhDR6/65du+Ds7Izw8HCEh4fj1VdfNXKF\\\n",
       "RERkilRSFzBnzhwsXLgQs2bNuu02f/jDH7Bx40YjVkVERKZO8g5s0KBBcHNzk7oMIiKSGckDrCn2\\\n",
       "79+PsLAwjBo1CqdPn5a6HCIiMgGSDyHeTZ8+fZCZmQkHBwds2rQJ48ePR2pqaqPbxsXFIS4uDgBQ\\\n",
       "UFBgzDKJiMjITL4Dc3JygoODAwBg9OjRqKmpQWFhYaPbxsbGIikpCUlJSfDw8DBmmUREZGQmH2D5\\\n",
       "+fkQQgAAEhMTodPp4O7uLnFVREQkNcmHEKdPn45du3ahsLAQarUar7zyCmpqagAA8+fPx7p16/Dx\\\n",
       "xx9DpVLB1tYWa9asgUKhkLhqIiKSmkLcbG/aGa1Wi6SkJKnLICKSFTntO01+CJGIiKgxDDAiIpIl\\\n",
       "BhgREckSA4yIiGSJAUZERLLEACMiIlligBERkSwxwIiISJYYYEREJEsMMCIikiUGGBERyRIDjIiI\\\n",
       "ZIkBRkREssQAIyIiWWKAERGRLDHAiIhIlhhgREQkSwwwIiKSJckD7NFHH4WnpydCQkIavV8Igaee\\\n",
       "egoajQahoaE4cuSIkSskIiJTJHmAzZkzBwkJCbe9f/PmzUhNTUVqairi4uLwxBNPGLE6IiIyVZIH\\\n",
       "2KBBg+Dm5nbb++Pj4zFr1iwoFApERUWhpKQEeXl5Rqyw7QkhUF5Vi2uVNait00ldDtEtaup0KKmo\\\n",
       "RlVtndSlEN1CJXUBd5OTkwNvb2/Dz2q1Gjk5OejcubOEVbVMbZ0Oe84XYvfZAiSmFyOjqBwV1fqd\\\n",
       "g1IBdHa2RZi3Mwb4d8DoXp3hZm8lccVkTjIKy7HpVB4OphXjdO5VFJZVG+5ztFEhsJMjInzdMDy4\\\n",
       "E8LUzlAoFBJWS+bM5ANMCNHgttv9wcTFxSEuLg4AUFBQ0KZ13YuK6lp8/msGvvg1E/nXKm+5z8ZS\\\n",
       "CZVSibKqWuSUXEdOyXVsOpmPV348jRHBnfCnId0R0MlRosqpvRNCYN/5Inyy+wL2ni+85T6lArC3\\\n",
       "VuF6dR1KK2txKOMKDmVcwUe7LiCwkyMeG9gNE/uoYaFkkJFxmXyAqdVqZGVlGX7Ozs6Gl5dXo9vG\\\n",
       "xsYiNjYWAKDVao1SX1MIIbD2cDbe+vksCkqrAADdOthjbJgX7vN3R2AnJzjbWQIAqmrrkFVcgUMZ\\\n",
       "V7DldD52nyvAxhN52HgiD1O0arw0OgguduzIqPWkF5bj5fhT2JOqDy57KwsMD+6EoUGeCFO7oIuL\\\n",
       "LZRKBYQQKCirwumca9h19jJ+OpmPlPxSPL/uBFbsTcfLY3tigH8HiX8bMicmH2AxMTFYtmwZpk2b\\\n",
       "hoMHD8LZ2VlWw4eXrlVi0XcnsPOsviMMVTvjueEB+EP3Do12ktYqC2g8HaHxdMT0fl2Rd/U6Ptl1\\\n",
       "AasTs/BtUjZ2pFzGGxNDEd2zo7F/FWpnhBBYsTcdb/58FtW1OjjbWiJ2kB9mRvoYvlDVp1Ao4Olo\\\n",
       "A89AGwwO9MRLY4Lw4/E8vLv1HFLyS/HQpwcxZ4AvFo0KhI2lhQS/EZkbhWhsjM6Ipk+fjl27dqGw\\\n",
       "sBAdO3bEK6+8gpqaGgDA/PnzIYTAwoULkZCQADs7O6xcubJJ3ZVWq0VSUlJbl39HhzOLMe/Lwygs\\\n",
       "q4azrSX+MbYnJvTuck/HDM5fLsNL608iMaMYAPDkA/74y/AADtvQPblWWYPnvj2OLcmXAACT+6rx\\\n",
       "4qhAuDtYN/u5KmvqEPdLGpZuT0WtTiCwkyM+naWFt5tda5dNRmAK+86mkjzA2orU/wjfHc7GovUn\\\n",
       "UFMnMMDfHe9ODUdHJ5sWPadOJxC3Jw1vJqRAJ4ChgZ74cEYfftulZsm7eh1zPjuEs5dK4Wijwn8e\\\n",
       "DMOI4E4tft4T2SV4es0xpBeWo4ODFZbPjkC4t0srVEzGJPW+szkkn0bfHn25PwN/WXscNXUCcwb4\\\n",
       "4otH+7U4vABAqVRg/v3++GpuJFzsLLE95TIeXnEQV6/XtLxoMgvnL5dh0ke/4uylUvh72GPjnwa2\\\n",
       "SngBQKjaBfEL78MfundAYVk1psXtx97Uwrs/kOgeMcBa2fI9afh7/GkAwP+NCcI/Y4Khsmjdt3mA\\\n",
       "fwesndcfnZxscCjjCmZ9loiyqtpWfQ1qfzKLyvHQpweQe7USfbq6YN38AfBxt2/V13CyscRncyLw\\\n",
       "YF81Kmt0eGzVIexJNb0ZwdQ+MMBa0erEi3jtpzMAgH+ND8HcP/i12Wt17+iIdU/0h9rVFsezSvD4\\\n",
       "qiRU1vBEU2pcbsl1PPTpQVwurUJkNzd8PTcKrm10fqGlhRL/nhSK6f26oqpWh7mrknDoxrFbotbE\\\n",
       "AGsl289cwt++PwkAeG18CB6O8mnz11S72uGrxyLh4WiN/WlFWPjNUdTp2uUhTWqBqxU1mLniIHJK\\\n",
       "riPc2wUr5kTA1qptj5sqlQosHh+CaRHeqKrV4fEvknChoKxNX5PMDwOsFRzPKsGCb45AJ4Cnhmgw\\\n",
       "0wjhdZNvB3t89VgknG0tse3MJbyZkGK01ybTV1Onw4JvjiCtoByBnRyx6pF+cLA2ztkzSqUCr40P\\\n",
       "wdBAT5RU1GDOykTDeZBErYEB1kKFZVWY/9VhVNbo8GBfNZ6J7mH0GgI6OeLjmX2gUirw31/S8N3h\\\n",
       "bKPXQKbpXxuTsfd84Y1ZgdpGz+9qSyoLJT54qDdC1c7IKr6OBV8fQQ3X+6RWwgBrgdo6Hf70zVHk\\\n",
       "Xa1EXx9XLJ7QS7J14Qb4d8A/YoIBAC+uP4kT2SWS1EGm49ukLHyxPxNWFkr892Et1K7SnJdlZ6XC\\\n",
       "8tladHSyRmJGMZZs5igBtQ4GWAv8Z8s57E8rQgcHa3w0ow+sVNK+nQ9H+WBGZFdU1+mw8JujKK3k\\\n",
       "9HpzlXqpFC/HnwKgPybb18dV0no8HW3w0Qz9KMGKvenYeCJX0nqofWCA3aOdZy/jk90XYKFUYNlD\\\n",
       "vVvlPK/W8Pc/9kTPzk64WFyBv31/qtHFkKl9u15dh4XfHEVljQ4Te3fBg1q11CUBAPr6uOFvY4IA\\\n",
       "AIu+O4ms4gqJKyK5Y4Ddg+Lyavx13QkAwHPDAxDl5y5xRb+xsbTAsod6w87KAhuO52Itj4eZnVc3\\\n",
       "nsbZS6Xw62CPf40PManLncwZ4IuRwZ1QVlWLZ789xlmz1CIMsGYSQuDF9SdQUFqFft3cEDuo7c71\\\n",
       "uld+Hg54bXwIAOAf8adxsYjfdM3FzpTLWJ2YBSuVEsse6gN7I804bCqFQoHXJ/aCp6M1DmVcwSe7\\\n",
       "L0hdEskYA6yZ1h3Oxs+nL8HBWoW3Hwwz2cV0J/ZRIybMC9dr6vDX745Dx2+67d7V6zVYtP7myEAP\\\n",
       "9PRykriixrnZW+GtB8MAAO9uPYdTOVclrojkigHWDJeuVeLVH5MBAK/EBJv8atuvxASjg4MVDqQV\\\n",
       "4+uDmVKXQ23stY3JuHStCr27uuCxgaY3MlDf/T08MLu/D2p1As+vO8Gp9XRPGGDN8M8Np1FaVYuh\\\n",
       "gZ6Y2KeL1OXclau9lWEo8Y3NKTxo3o7tPHsZaw9nw0qlxFuTTXdkoL5Fo4Lg7WaLM3nXsHxPutTl\\\n",
       "kAwxwJpoy+l8bD6VD3srC5M7MH4nI0M644+hnVFRXYeXvj/JWYntUFlVLV5ar1/G7LnhPaDxdJC4\\\n",
       "oqaxtbLA4vG9AADvbTuHzKJyiSsiuWGANUFpZQ1evrHC/HMjAuDlYitxRc3zSkwwnG0tsSe1ED+d\\\n",
       "zJO6HGplH2xPRd7VSoSpnU1+6PD3BvXwwITeXVBVq+MXLGo2BlgTvL3lHPKvVSLM2wWz+vtKXU6z\\\n",
       "uTtY44WRgQD0Swvx0ivtx7lLpVixNx0Khf4KCHIYOvy9/xsTBFc7S+w7X4T1R3KkLodkhAF2F8m5\\\n",
       "1/DF/gxYKBVYMrGXLHcQADAtwhth3i64dK0K7209J3U51AqEEHg5/hRqdQIP9euKULU8r37s7mCN\\\n",
       "/xvTE4D+WC1XkKGmMokAS0hIQEBAADQaDZYsWdLg/s8//xweHh4IDw9HeHg4li9fbpS6hBB45cfT\\\n",
       "0An9Mk1BnU1zWnJTKJUKvDYuBEoFsPLXDKTkX5O6JGqhDcdzcSCtGG72Vnh+RIDU5bTIxD5d0NfH\\\n",
       "FYVlVfhgx3mpyyGZkDzA6urqsGDBAmzevBnJyclYvXo1kpOTG2w3depUHDt2DMeOHcPcuXONUtum\\\n",
       "k/k4mF4MVztLPDPM+KvMt7ZeamfMjPJBnU7g5fjTPN4gY6WVNYaLpy4aGQgXu7a5OKWxKBQK/HNs\\\n",
       "MBQKYOW+dKTx2mHUBJIHWGJiIjQaDfz8/GBlZYVp06YhPj5e6rJwvboOr2/S7yCeGxFg9MtQtJW/\\\n",
       "DA+Aq50lEtOLsSX5ktTl0D36cOcFFJRWoU9XF0zuaxprHbZUL7UzpvT1Rk2dwL82NvwSS/R7kgdY\\\n",
       "Tk4OvL29DT+r1Wrk5DQ8kPvdd98hNDQUkydPRlZWVpvX9d9fLiCn5Dp6dnbCtIiubf56xuJsa2m4\\\n",
       "Ztkbm86gupYnkMpN9pUKfLZPf97UP8YGQynT47KNeX5kABytVdh5tgA7UvgFi+5M8gBrbBjr9+dY\\\n",
       "jR07FhkZGThx4gSGDRuG2bNnN/pccXFx0Gq10Gq1KCgouOeackuuG9Zo+2dMsGwnbtzO9H5d4e9h\\\n",
       "j4yiCnyxP0PqcqiZ3vr5LKprdRgX7oUwb3lO3LidDg7WeHpYdwDAvzae4QoddEeSB5harb6lo8rO\\\n",
       "zoaXl9ct27i7u8Pa2hoA8Pjjj+Pw4cONPldsbCySkpKQlJQEDw+Pe67p3a3nUFmjw5hendGvm9s9\\\n",
       "P4+psrRQGi5rsXR7Kq6UV0tcETXV8awSxB/LhZVKieeGy3vixu3M6u8Lvw72SC8sx5pDbT/aQvIl\\\n",
       "eYBFREQgNTUV6enpqK6uxpo1axATE3PLNnl5v518u2HDBgQFBbVZPWfzS/HdkWyolAr8dWT73EEA\\\n",
       "wOAATwzUdMC1ylq8vz1V6nKoCYQQWHxj4sYj9/ma/Fqc98pKpTTMqnx/WyrKed4i3YbkAaZSqbBs\\\n",
       "2TKMGDECQUFBmDJlCoKDg/Hyyy9jw4YNAIClS5ciODgYYWFhWLp0KT7//PM2q+etn1OgE8CMyK7w\\\n",
       "cbdvs9eRmkKhwN/GBEGhAL46kImMQi7jY+q2JF9CYoZ+VuyCwRqpy2lTI0M6IdzbBYVlVfh0T5rU\\\n",
       "5ZCJUoh2Opdaq9UiKSmpWY9JTC/GlP/uh72VBXb/dTA6OFi3UXWm4/m1x7H2cDbGhXvh/Wm9pS6H\\\n",
       "bqO2Tofod39BemE5XokJxuwBvlKX1OYOpBVhWtwB2FtZYNfzg+Hh2P7/Hk3Bvew7pSJ5B2YqhBBY\\\n",
       "slk/PPP4ID+zCC8A+HN0D1hZKLHheC7O5PHkZlP1/dEcpBeWw9fdDg9Ftp9ZsXcS5eeOIYGeKK+u\\\n",
       "wwc7OMxNDTHAbtiSfAlHLpagg4MV5v5BXguitkQXF1vMiOoKIYD//HxW6nKoEbV1OizbqV+d4qmh\\\n",
       "3WFpYT5/ti+MDIRCAXxz8CKHuakB8/lLuIPaOh3eTEgBoN9BOJjYZdjb2oLBGthZWWB7ymUkZRRL\\\n",
       "XQ79zvqjOcgsqkC3DvaICfO6+wPakYBOjpjUR41ancDbXMOTfocBBv3wzIWCcvi427Wrk5abqoOD\\\n",
       "NR4b2A0A8ObPZ7nElAmpqdNh2Y21Af80RAOVGXVfNz1zY5h744lcnM0vlbocMiHm99fwO/WHZ54e\\\n",
       "2h1WKvN8Sx4f5AeXG0tM7T537yeBU+v6/mgOLhZXwM8Mu6+burjYYlo/bwihv/Al0U3mubeu54dj\\\n",
       "uWY7PFOfk40lnrjfH4B+pQedjl2Y1G7pvoaaZ/d104LBGlirlNh8Kh+nc69KXQ6ZCPP9i8CN7uvG\\\n",
       "7KaFg817BwEAswf4oqOTNU7nXuNCvybg+yO/dV9jQ833yxUAdHSywcwoHwD6lXKIADMPsPhjucgo\\\n",
       "qoCvux3GhZv3DgIAbCwtDCfIvr89lV2YhGrqdPhgp/7L1VNDu5v9lysAmH+/P2wtLbDtzGUcyyqR\\\n",
       "uhwyAWb7V1H/2NfCIdxB3DRF641OTjY4k8cuTErfH8lBVvF1ffdlxkPb9Xk4WmPWAHZh9Buz3Wtv\\\n",
       "OJ6L9EL9zMPx7L4MbCwt8ORg/bEwdmHS+H331d6uhtAS8wb561fKOVeAw5k85cPcmWWA1dY7OM5j\\\n",
       "Xw2xC5PW+iPZ+u7Lg93X77nZW+HRG6d8vL2FXZi5M8s9948ncpF2o/ua0LuL1OWYHHZh0qmp0+GD\\\n",
       "Hb+d1sHuq6G5A/3gaKPCrxeKsP9CkdTlkITMLsDqdAIfbNfvIBaw+7qtW7uwfKnLMRvrj2Qj+4q+\\\n",
       "+/qjmc88vB1nO0vMHahf7o3nhZk3s9t7/3hc3311dWP3dSf1u7D3trELM4bqWnZfTfXIQF842ahw\\\n",
       "ML2YXZgZM6sAq9MJLK133pc5LYp6L6ZG6LuwlPxSdmFGcLP78mf3dVdONpaGRbff3XaOy5+ZKbPa\\\n",
       "g288kYu0gnJ4u9liQh92X3djrbLAAnZhRlFde+uK8+y+7m7Ofb5wttUvf7Y/jV2YOTKbAKvTCSzd\\\n",
       "zu6ruabU68J+Ps0urK18d6P70ng6sPtqIicbS8y9MSPxva2p7MLMkNnsxTeeyMWFgnKoXW0xsY9a\\\n",
       "6nJko34XxhmJbaO69rfTOth9NY+hC8vgsTBzZBIBlpCQgICAAGg0GixZsqTB/VVVVZg6dSo0Gg0i\\\n",
       "IyORkZHRrOev0wnDwXF2X8035ZZjYTwvrLV9dyQbOSX67mtMr85SlyMrjjaWePwP+i6Mx8LMj+R7\\\n",
       "8rq6OixYsACbN29GcnIyVq9ejeTk5Fu2WbFiBVxdXXH+/Hk888wzeOGFF5r1Gj+dzMP5y2Xsvu6R\\\n",
       "tcoCTzyg78KWbudQTWti99Vyswf4wsXOEocyruBXdmFmRfIAS0xMhEajgZ+fH6ysrDBt2jTEx8ff\\\n",
       "sk18fDxmz54NAJg8eTK2b9/e5J2o/rwv/bGvBYM1Znu9r5aaGuGNjk7WSObqHK1q3WF999Wd3dc9\\\n",
       "03dhN2YkbmUXZk4k35vn5OTA29vb8LNarUZOTs5tt1GpVHB2dkZRUdO+aW06mYfUy2Xo4mKLSey+\\\n",
       "7pmNpYXhemHswlpHda0OH3LmYauYPcAXrnaWSMq8gr3nC6Uuh4xE8gBrbEeoUCiavQ0AxMXFQavV\\\n",
       "QqvVoqCgALp6Mw/ZfbXctH5d4emov17YtjOXpS5H9up3X6PZfbWIg7UKjw+6uToHv2CZC8n36Gq1\\\n",
       "GllZWYafs7Oz4eXlddttamtrcfXqVbi5uTV4rtjYWCQlJSEpKQkeHh7YdOq37mtyX3ZfLWVjaYH5\\\n",
       "9988L4xDNS1Rv/t6ehi7r9Ywq7++CzuceQV7UtmFmQPJAywiIgKpqalIT09HdXU11qxZg5iYmFu2\\\n",
       "iYmJwapVqwAA69atw5AhQxrtwH7vZvf15GB/dl+t5KHIrvC40YVtZxd2z9Yezvqt+wph99UaHKxV\\\n",
       "iB3EL1jmRPK9ukqlwrJlyzBixAgEBQVhypQpCA4Oxssvv4wNGzYAAB577DEUFRVBo9HgnXfeaXSq\\\n",
       "/e9dvV6Dc5fK4OVsgwf7et91e2qa+l3Y+zwWdk+qa3X4cMdv3ZeS3VermdXfB272VjhysQS/sAtr\\\n",
       "9xSine6BnL0D4Trjbbw2PgQzo3ykLqddqaypw8B/70RhWRVWzNZiaFBHqUuSla8OZOL/fjiFHh0d\\\n",
       "kPD0IAZYK/tk9wUs2ZyC3l1dsP6JAU0araHfaLVaJCUlSV1Gk0jegbWVyto6dHa2wYNaHvtqbfou\\\n",
       "TH/AnF1Y81TV1uGjm8e+hvZgeLWBh6P0XdjRiyXYfa5A6nJkpaisSuoSmqXdBhgAPDlYA2uVhdRl\\\n",
       "tEszIn3QwcEaJ7KvYtdZ7iSaam1SNnKvVqJHRweMCukkdTntkr21CvM4I7HZisurcf9bu6Quo1na\\\n",
       "bYBZWigxhd1Xm7G1sqi3k+AB86aoqq37beYhu6829XB/H7jbW+FYVgl2sQtrkk/3pKGsqlbqMpql\\\n",
       "3QaYj7sdu682NiOqKzo4WOF49lXuJJrg26Rs5F2tREBHR3ZfbczOSoV597MLa6ri8mqs+jVD6jKa\\\n",
       "rd0GmK0lw6ut2VmpEHujC3ufO4k7uuXYF2ceGsXMKB/9F6ysEg5z38Wne9JQUV2HBwI8pC6lWdpt\\\n",
       "gJFxzIz6baiGB8xv73+Hsgzd18hgdl/GYGelwjyeF3ZX9buvp4d2l7aYZmKAUYvYWf22hA9nJDau\\\n",
       "sqbOsOL8M9Hsvoyp/jD3zrM88b4x9buv3l1dpS6nWRhg1GL1py1zCZ+Gvj54EZdLqxDs5YQR7L6M\\\n",
       "ys5KVW/5M37B+r363defh/WQtph7wACjFrO3VhkuZ8GhmltVVNfi4103uq9hPXhSrQTqn/KxI4Vd\\\n",
       "WH03u6/BAR4I93aRupxmY4BRq5jV3weudpY4crGEl7Oo58v9mSgsq0aY2hlDgzylLscs2Vr9duI9\\\n",
       "u7DfFJVV/XbsS4bdF8AAo1ZiX+9yFpyRqFdWVYtPdl8AADwTze5LSje7sJM5V7kI9Q2f7L4g6+4L\\\n",
       "YIBRK5rVX39p96RMXtodAFb9moErFTXo09UF9/eQ1/Tk9sbWygJPPHDjWNh2DnPnXb2OVfszAQB/\\\n",
       "GR4gcTX3jgFGrcah3rGwd8z80u7XKmsQ90saAP0Ogt2X9GbcuBTQqRxekPWDHedRXavDmF6dEdLF\\\n",
       "Wepy7hkDjFrVzUu7H868YtYHzD/bm46r12vQr5sbBvi7S10OQb8I9RO8ICsyCsvx7aEsKBX6oW05\\\n",
       "Y4BRq3KwVmHBYA0A4M2Es6jTmd9OoqisCsv3pAMAnuWxL5PyUGRXeN64IOvW5EtSlyOJ97adQ61O\\\n",
       "YGIfNTSeDlKX0yIMMGp1M6N80MXFFmcvlSL+WI7U5Rjdsp3nUVZVi/t7eCDKj92XKbGxrHcszAwn\\\n",
       "G53NL0X88VxYWihkt+pGYxhg1OpsLC0MQxNvbzmHqto6iSsynqziCnx1IBMKBfDCyECpy6FGTO+n\\\n",
       "78KS865hi5l1YW9vOQshgIf6dYW3m53U5bQYA4zaxITeXdCjowNySq7j6wMXpS7HaN7Zeg41dQLj\\\n",
       "w7ugp5eT1OVQI2wsLfBkvS5MZybD3EcuXsGW5EuwsVRiwRCN1OW0CkkDrLi4GNHR0ejevTuio6Nx\\\n",
       "5cqVRrezsLBAeHg4wsPDERMTY+Qq6V5YKBV4foS+A7k5pNbenc69ih+O5cDKQolnZX5wvL2b1q8r\\\n",
       "OjnZ4EzeNWw4nit1OW1OCIHFP50BADx6Xzd4OtpIXFHrkDTAlixZgqFDhyI1NRVDhw7FkiVLGt3O\\\n",
       "1tYWx44dw7Fjx7BhwwYjV0n3aliQJ/r6uKK4vBqf3phS3p69maAfnpkZ5dMuhmfaMxtLCzw7XP8l\\\n",
       "482EFFTWtO9h7oRT+TiceQXu9laGY4DtgaQBFh8fj9mzZwMAZs+ejR9++EHKcqiVKRQKw3GgT/ek\\\n",
       "4dK1Sokraju/ni/E7nMFcLBWYWE7GZ5p7yb1UaNnZyfkXq3Eir3pUpfTZqprdViSkAIA+HN0Dzja\\\n",
       "WEpcUeuRNMAuXbqEzp07AwA6d+6My5cbP2+osrISWq0WUVFRDDmZ6dfNDSOCO6Kiug7/vvFH1N7U\\\n",
       "6QRe3ZgMAJh/vx/c7K0kroiawkKpwP+NCQIAfLTzPC6Xts8vWF8eyERmUQX8PewxLcJb6nJalaqt\\\n",
       "X2DYsGHIz89vcPvixYub/BwXL16El5cX0tLSMGTIEPTq1Qv+/g3b4Li4OMTFxQEACgp4cUVT8dLo\\\n",
       "IOxMKcD6IzmY1d9Xtuuu3c7qxItIyS9FFxdbzL2xEgnJwwBNBwwL8sS2M5fx7tZzeGNiqNQltaqr\\\n",
       "FTVYuj0VAPDiqCBYWrSveXskx1jjAAAXVElEQVRt/tts27YNp06davDfuHHj0LFjR+Tl5QEA8vLy\\\n",
       "4OnZ+GrdXl5eAAA/Pz888MADOHr0aKPbxcbGIikpCUlJSfDw4NpzpsLH3R6PDPQFALz64+l2de7N\\\n",
       "1YoavL3lLADgb2OCYGNpIXFF1Fwvjg6CSqnA/w5lISX/mtTltKr3t6fi6vUa9Pdzb5dXQ5A0jmNi\\\n",
       "YrBq1SoAwKpVqzBu3LgG21y5cgVVVVUAgMLCQuzbtw89e/Y0ap3UcgsHa9DBwRpHLpa0q1lf720/\\\n",
       "hysVNYjs5oZRIbxYpRz5ezhgZpQPdAL418bkdvMF62x+KVbtz4BCof9y1R5XhJE0wBYtWoStW7ei\\\n",
       "e/fu2Lp1KxYtWgQASEpKwty5cwEAZ86cgVarRVhYGAYPHoxFixYxwGTI0cYSz4/Qz/pasjkFFdXy\\\n",
       "n1afeqkUX+zPhFIBvDy2Z7vcQZiLp4d2h4udJfadL8JPJ/OkLqfFhBD4e/wp1OkEZkb6yHrB3jtR\\\n",
       "iPbydeN3tFotkpKSpC6D6qnTCcQs24vTudcw/35/LBol35UqhBCY9Vki9qQW4qHIrnh9Qi+pS6IW\\\n",
       "+ubgRbz0/Ul0dLLG9r88AAfrNp8i0Gbij+Xg6TXH4GZvhZ1/eQDOdk2feSinfWf7OqJHJs1CqcBr\\\n",
       "40OgUADL96ThbH6p1CXdsw3Hc7EntRDOtpb4C09abhemRXgjzNsFl65V4b2t56Qu556VVtYYTlp+\\\n",
       "YWRAs8JLbhhgZFS9u7piRmRX1OoEXvr+pCyX8SmpqMarP+qnzb80OhDuDtYSV0StQalUYPH4ECgV\\\n",
       "wMpfM2Q7oePdram4XFqFcG8XPNi3fU2b/z0GGBnd8yMC4eFojcOZV/C/pCypy2m21zedQVF5NSK7\\\n",
       "uWGKtn3vIMxNSBdnPBzlgzqdwEvrT8ruckBHLl7Byl/ToVQAr40PgVLZvo/LMsDI6JxtLfHyH/UT\\\n",
       "cd7YdEZWJ5AeSCvCt0nZsLJQ4vWJvThxox16dngAPB31M2ZX7pPPCh1VtXV4Yd0JCAE8Psiv3U7c\\\n",
       "qI8BRpL4Y2hn3N/DA9cqa/HS+pOymLpcUV2LF9efBAA8Odgf/h7yvhggNc7Z1tIwKeetn88ivbBc\\\n",
       "4oqa5sOdF5B6uQzdOtjjmWHmcVyWAUaSUCgUWDKpFxxtVNh25jLWHs6WuqS7en3TGaQXliOgo2O7\\\n",
       "WhCVGhrWsyMm9u6Cqlod/rruuMkfqz2dexUf7TwPAFgysZfZnFDPACPJdHa2xSsxwQCAV39MRlZx\\\n",
       "hcQV3d7Os5fx1YGLsLRQ4N2p4bBWmccOwpy9PLYnPBytcSjjikkv9nu9ug5PrT6KWp3Aw1E+iDSj\\\n",
       "q4AzwEhSE3p3wcjgTiirqsVza4+b5EHzK+XV+Ou6EwCAZ6MDeKFKM+FiZ4UlE/VDiW/+nILjWSUS\\\n",
       "V9S4135KxoWCcmg8HfDS6CCpyzEqBhhJSqFQYPGEEHRwsMbB9GK8t820zr/R6QSeW3scBaVViPB1\\\n",
       "RewgLtZrToYGdcScAb6oqRP40+qjKK2skbqkW/x8Oh9fH7wIKwsllk7rDVsr8xoZYICR5NwdrLF0\\\n",
       "ejiUCuCDHeex62zjl9WRwse7L2B7ymU421rinSnhsGjn05KpoUWjAtGzsxMuFlfgpe9PmcyEo6zi\\\n",
       "CrzwnX5k4IVRgWY5MsAAI5MwwL8Dnr2xosUz/zuGnJLrElcE/Hqh0LDS/LtTw3iVZTNlY2mBDx7q\\\n",
       "DTsrC/x4PBef7cuQuiRUVNfi8S+SUFJRg6GBnnhkgK/UJUmCAUYm48kHNLi/hweuVNTg8VVJKK+S\\\n",
       "bsHfzKJyLPzmKHRCv5L+kMCOktVC0vP3cMCbk/XXClv8UzJ2n5PueoNCCDy/7gRS8kvh18Ee704L\\\n",
       "b/cnLN8OA4xMhlKpwHtTw+HrbofkvGv40+qjqK3TGb2OK+XVeGTlIRSXV+P+Hh54hmsdEoA/hnrh\\\n",
       "qSEa/Zeab47g/OUySep4d+s5/HQiD/ZWFoib1RdONu13rcO7YYCRSXG1t8LKR/rBxc4SO1Iu459G\\\n",
       "vgBmZU0d5n15GGmF5Qjq7IQPZ/ThcS8y+POwHhgR3BGllbV4eMVBZF8x7qkfX+zPwNId52GhVGDp\\\n",
       "9N7QeDoa9fVNDQOMTE63Dvb4dJYWVhZKfHXgIl776YxRQqyypg6xXx5GYkYxOjnZYOWcCFlfUoNa\\\n",
       "n36UoDcifF2Rd7USM5cfNNpSaBuO5+IfG04DAN6Y0AtDgziszQAjkxTh64aPZvSBpYUCK/am443N\\\n",
       "KW0aYpU1dXjiq8P45VwB3O2t8OVj/dDJ2abNXo/ky9bKAivmRCDYywkZRRV46NODyLvatpOO1h3O\\\n",
       "xp/XHIUQwPMjAjAlgotIAwwwMmHDenbEhw/1gUqpQNwvaXjhuxOoaYNjYsXl1Zix/CB2ni2Am70V\\\n",
       "vnk8Ct07mvfQDN2Zk40lvni0H3p0dMD5y2WY/PF+XCho/WNiQgh8tjcdz609Dp0AnhnWA09yGTMD\\\n",
       "BhiZtOHBnfDJzL6wsVTi26RszFmZiOLy6lZ7/rP5pZj08a84nHkFnZ1tsPrxKAR0YnjR3bk7WOPb\\\n",
       "ef3Ru6sLckquY8KH+7Aj5VKrPX91rQ4vrj+JVzfqrz334qhAPD2sO6+AUA8DjEzesJ4d8b/Y/ujg\\\n",
       "YI1954sw8r1fsDe1sEXPKYTA6sSLiFm2F+mF5Qjs5Ijvn7yP4UXN4mJnha/nRiK6Z0dcq6zFo58n\\\n",
       "YcnmFFTW1LXoeW9+sVpzKAvWKiXenxaOefez8/o9SQNs7dq1CA4OhlKpRFJS0m23S0hIQEBAADQa\\\n",
       "DZYsWWLECslUhHm7IH7hfYjwdcXl0irMXHEQz/7vGPKvNv8A+pm8a5gadwAvrj+JqlodHuyrxvon\\\n",
       "B/CYF90TOysV/juzL54fEQClAvhk9wWMen8Pdp8raPZx27KqWryz5SzGfrAXJ3OuoouLLdbO749x\\\n",
       "4V3aqHp5UwgJ10U5c+YMlEol5s2bh//85z/QarUNtqmrq0OPHj2wdetWqNVqREREYPXq1ejZs+cd\\\n",
       "n1ur1d4xFEmeaut0+GjXBSzbcR7VdTrYWCoxua8aMyJ9ENjJ8bbDK3U6gYPpRVj1awa2JF+CEIC7\\\n",
       "vRVeHtuTOwdqNUkZxVi0/qThHLHeXV0wd6AfhgZ53vESJ7kl17HmUBa+PpCJohtD5NP7dcXfxgQZ\\\n",
       "fSasnPadks4RDgq6+8rJiYmJ0Gg08PPTL6I6bdo0xMfH3zXAqH1SWSjx1NDuGB/eBa9vOoOE0/n4\\\n",
       "6sBFfHXgInzc7aD1cUP3jg5wtrWETggUlVUjJf8aEtOLUVim3zFYWSjxUGRXPBPdA8625nsSKLU+\\\n",
       "ra8bfnpqID7bm4FP96Th6MUSLPjmCOytLKD1dUOvLs7o6GwDS6UCZVW1yCgqx5HMEiTnXTM8R++u\\\n",
       "LnhxVBD6dXOT8DeRB5M/ySUnJwfe3r9NGVWr1Th48KCEFZEp6Opuh08e7otzl0qx6tcMbD6Vj8yi\\\n",
       "CmQW3f7EUh93O8SEeeHhKB94OnG4kNqGtcoCTzzgj9kDfPC/Q1lYfyQHJ3OuYve5gtsuQWVraYEh\\\n",
       "gZ6YGeWDKD83TtRoojYPsGHDhiE/P7/B7YsXL8a4cePu+vjGRjhv948bFxeHuLg4AEBBgXRrlZHx\\\n",
       "9OjoiMUTeuHVcSE4nl2C07nXkFFYjtLKGigVCrjYWcHfwx7h3i7QeDpwx0BGY2elwiP3dcMj93VD\\\n",
       "bsl1HM68gtRLpSgoq0adTgdbSwt4u9khqLMT+vq4ms1VlFtTmwfYtm3bWvR4tVqNrKwsw8/Z2dnw\\\n",
       "8vJqdNvY2FjExsYCQKPH06j9slAq0KerK/p0dZW6FKIGvFxs4eViK3UZ7Y7JT6OPiIhAamoq0tPT\\\n",
       "UV1djTVr1iAmJkbqsoiISGKSBtj3338PtVqN/fv3Y8yYMRgxYgQAIDc3F6NHjwYAqFQqLFu2DCNG\\\n",
       "jEBQUBCmTJmC4OBgKcsmIiITIOk0+rYkp6mgRESmQk77TpMfQiQiImoMA4yIiGSJAUZERLLEACMi\\\n",
       "IlligBERkSwxwIiISJYYYEREJEsMMCIikiUGGBERyRIDjIiIZIkBRkREssQAIyIiWWKAERGRLDHA\\\n",
       "iIhIlhhgREQkSwwwIiKSJQYYERHJEgOMiIhkSdIAW7t2LYKDg6FUKu94CWtfX1/06tUL4eHh0Gq1\\\n",
       "RqyQiIhMlUrKFw8JCcH69esxb968u267c+dOdOjQwQhVERGRHEgaYEFBQVK+PBERyZgsjoEpFAoM\\\n",
       "Hz4cffv2RVxcnNTlEBGRCWjzDmzYsGHIz89vcPvixYsxbty4Jj3Hvn374OXlhcuXLyM6OhqBgYEY\\\n",
       "NGhQg+3i4uIMAVdQUNCywomIyKS1eYBt27atxc/h5eUFAPD09MSECROQmJjYaIDFxsYiNjYWADjZ\\\n",
       "g4ionTP5IcTy8nKUlpYa/n/Lli0ICQmRuCoiIpKapAH2/fffQ61WY//+/RgzZgxGjBgBAMjNzcXo\\\n",
       "0aMBAJcuXcLAgQMRFhaGfv36YcyYMRg5cqSUZRMRkQlQCCGE1EW0Ba1We8dzy4iIqCE57TtNfgiR\\\n",
       "iIioMQwwIiKSJQYYERHJEgOMiIhkiQFGRESyxAAjIiJZYoAREZEsMcCIiEiWGGBERCRLDDAiIpIl\\\n",
       "BhgREckSA4yIiGSJAUZERLLEACMiIlligBERkSwxwIiISJYYYEREJEsMMCIikiVJA+z5559HYGAg\\\n",
       "QkNDMWHCBJSUlDS6XUJCAgICAqDRaLBkyRIjV0lERKZI0gCLjo7GqVOncOLECfTo0QNvvPFGg23q\\\n",
       "6uqwYMECbN68GcnJyVi9ejWSk5MlqJaIiEyJpAE2fPhwqFQqAEBUVBSys7MbbJOYmAiNRgM/Pz9Y\\\n",
       "WVlh2rRpiI+PN3apRERkYkzmGNhnn32GUaNGNbg9JycH3t7ehp/VajVycnKMWRoREZkgVVu/wLBh\\\n",
       "w5Cfn9/g9sWLF2PcuHGG/1epVJgxY0aD7YQQDW5TKBSNvlZcXBzi4uIAAKdOnYJWq21J6UZRUFAA\\\n",
       "Dw8Pqcu4K9bZeuRQI8A6W5tc6kxJSZG6hCZr8wDbtm3bHe9ftWoVNm7ciO3btzcaTGq1GllZWYaf\\\n",
       "s7Oz4eXl1ehzxcbGIjY2FgCg1WqRlJTUgsqNg3W2LjnUKYcaAdbZ2uRUp1xIOoSYkJCAf//739iw\\\n",
       "YQPs7Owa3SYiIgKpqalIT09HdXU11qxZg5iYGCNXSkREpkbSAFu4cCFKS0sRHR2N8PBwzJ8/HwCQ\\\n",
       "m5uL0aNHAwBUKhWWLVuGESNGICgoCFOmTEFwcLCUZRMRkQlo8yHEOzl//nyjt3t5eWHTpk2Gn0eP\\\n",
       "Hm0ItKa6OZRo6lhn65JDnXKoEWCdrY11tj6FaGyWBBERkYkzmWn0REREzSHLALvb0lJVVVWYOnUq\\\n",
       "NBoNIiMjkZGRYbjvjTfegEajQUBAAH7++WfJanznnXfQs2dPhIaGYujQocjMzDTcZ2FhgfDwcISH\\\n",
       "h7f5hJW71fn555/Dw8PDUM/y5csN961atQrdu3dH9+7dsWrVKknrfOaZZww19ujRAy4uLob7jPV+\\\n",
       "Pvroo/D09ERISEij9wsh8NRTT0Gj0SA0NBRHjhwx3GfM9/JudX799dcIDQ1FaGgoBgwYgOPHjxvu\\\n",
       "8/X1Ra9evRAeHt7ms9XuVueuXbvg7Oxs+Ld99dVXDfcZc/m5u9X51ltvGWoMCQmBhYUFiouLARjv\\\n",
       "/czKysLgwYMRFBSE4OBgvP/++w22MZXPZ7MImamtrRV+fn7iwoULoqqqSoSGhorTp0/fss2HH34o\\\n",
       "5s2bJ4QQYvXq1WLKlClCCCFOnz4tQkNDRWVlpUhLSxN+fn6itrZWkhp37NghysvLhRBCfPTRR4Ya\\\n",
       "hRDC3t6+1Wu61zpXrlwpFixY0OCxRUVFolu3bqKoqEgUFxeLbt26ieLiYsnqrG/p0qXikUceMfxs\\\n",
       "rPdz9+7d4vDhwyI4OLjR+3/66ScxcuRIodPpxP79+0W/fv2EEMZ9L5tS5759+wyvv2nTJkOdQgjh\\\n",
       "4+MjCgoK2qy25tS5c+dOMWbMmAa3N/fz0tZ11rdhwwYxePBgw8/Gej9zc3PF4cOHhRBCXLt2TXTv\\\n",
       "3r3Be2Iqn8/mkF0H1pSlpeLj4zF79mwAwOTJk7F9+3YIIRAfH49p06bB2toa3bp1g0ajQWJioiQ1\\\n",
       "Dh482HDqwO2W0WprLVmm6+eff0Z0dDTc3Nzg6uqK6OhoJCQkmESdq1evxvTp09ukljsZNGgQ3Nzc\\\n",
       "bnt/fHw8Zs2aBYVCgaioKJSUlCAvL8+o72VT6hwwYABcXV0BSPfZBO5e5+0Ye/m55tQp1Wezc+fO\\\n",
       "6NOnDwDA0dERQUFBDVY0MpXPZ3PILsCasrRU/W1UKhWcnZ1RVFRktGWpmvs6K1asuGUZrcrKSmi1\\\n",
       "WkRFReGHH35o9fqaW+d3332H0NBQTJ482XBSuTGX+GrOa2VmZiI9PR1Dhgwx3Gas9/Nubvd7mPJy\\\n",
       "ab//bCoUCgwfPhx9+/Y1rHojpf379yMsLAyjRo3C6dOnAZju8nMVFRVISEjApEmTDLdJ8X5mZGTg\\\n",
       "6NGjiIyMvOV2OX4+JZ1Gfy9EE5aWut02TXlsa2jO63z11VdISkrC7t27DbddvHgRXl5eSEtLw5Ah\\\n",
       "Q9CrVy/4+/tLUufYsWMxffp0WFtb45NPPsHs2bOxY8cOo72XTa3zpjVr1mDy5MmwsLAw3Gas9/Nu\\\n",
       "pP5cNtfOnTuxYsUK7N2713Dbvn374OXlhcuXLyM6OhqBgYEYNGiQJPX16dMHmZmZcHBwwKZNmzB+\\\n",
       "/Hikpqaa7Pv5448/4r777rulWzP2+1lWVoZJkybhvffeg5OT0y33ye3zCciwA2vK0lL1t6mtrcXV\\\n",
       "q1fh5ubWrGWp2rpGQL/M1uLFi7FhwwZYW1sbbr+5rZ+fHx544AEcPXq01Wtsap3u7u6G2h5//HEc\\\n",
       "Pny4yY81Zp03rVmzpsEQjbHez7u53e9hzPeyqU6cOIG5c+ciPj4e7u7uhttv1uXp6YkJEya0yRB8\\\n",
       "Uzk5OcHBwQGA/lzRmpoaFBYWmuT7Cdz5s2mM97OmpgaTJk3CjBkzMHHixAb3y+nzaSDJkbcWqKmp\\\n",
       "Ed26dRNpaWmGA7SnTp26ZZtly5bdMonjwQcfFEIIcerUqVsmcXTr1q1NJnE0pcYjR44IPz8/ce7c\\\n",
       "uVtuLy4uFpWVlUIIIQoKCoRGo2mzA9BNqTM3N9fw/+vXrxeRkZFCCP2BXV9fX1FcXCyKi4uFr6+v\\\n",
       "KCoqkqxOIYRISUkRPj4+QqfTGW4z5vsphBDp6em3PZi/cePGWw6SR0RECCGM+142pc7MzEzh7+8v\\\n",
       "9u3bd8vtZWVl4tq1a4b/79+/v9i8ebNkdebl5Rn+rQ8ePCi8vb2FTqdr8ufFWHUKIURJSYlwdXUV\\\n",
       "ZWVlhtuM+X7qdDrx8MMPi6effvq225jS57OpZBdgQuhny3Tv3l34+fmJ1157TQghxN///ncRHx8v\\\n",
       "hBDi+vXrYvLkycLf319ERESICxcuGB772muvCT8/P9GjRw+xadMmyWocOnSo8PT0FGFhYSIsLEyM\\\n",
       "HTtWCKGfARYSEiJCQ0NFSEiIWL58eZvV2JQ6Fy1aJHr27ClCQ0PFAw88IM6cOWN47IoVK4S/v7/w\\\n",
       "9/cXn332maR1CiHEP/7xD/HCCy/c8jhjvp/Tpk0TnTp1EiqVSnTp0kUsX75cfPzxx+Ljjz8WQuh3\\\n",
       "Ik8++aTw8/MTISEh4tChQ4bHGvO9vFudjz32mHBxcTF8Nvv27SuEEOLChQsiNDRUhIaGip49exr+\\\n",
       "HaSq84MPPjB8NiMjI28J3MY+L1LVKYR+Nu/UqVNveZwx3889e/YIAKJXr16Gf9effvrJJD+fzcGV\\\n",
       "OIiISJZkdwyMiIgIYIAREZFMMcCIiEiWGGBERCRLDDAiIpIlBhgREckSA4yIiGSJAUZERLLEACMi\\\n",
       "IlligBERkSwxwIiISJYYYEREJEsMMCIikiUGGBERyRIDjIiIZIkBRkREssQAIyIiWWKAERGRLDHA\\\n",
       "iIhIlhhgREQkS/8PA4L+6eJrD5AAAAAASUVORK5CYII=\\\n",
       "\"\n",
       "\n",
       "\n",
       "    /* set a timeout to make sure all the above elements are created before\n",
       "       the object is initialized. */\n",
       "    setTimeout(function() {\n",
       "        anim98d450b6ffa348ffb96dc05cb456e8ca = new Animation(frames, img_id, slider_id, 200.0,\n",
       "                                 loop_select_id);\n",
       "    }, 0);\n",
       "  })()\n",
       "</script>\n"
      ],
      "text/plain": [
       "<matplotlib.animation.FuncAnimation at 0x181aba23c8>"
      ]
     },
     "execution_count": 20,
     "metadata": {},
     "output_type": "execute_result"
    },
    {
     "data": {
      "image/png": "[encoded data removed]",
      "text/plain": [
       "<Figure size 432x288 with 1 Axes>"
      ]
     },
     "metadata": {
      "needs_background": "light"
     },
     "output_type": "display_data"
    }
   ],
   "source": [
    "\n",
    "from matplotlib import animation, rc\n",
    "# from IPython.display import HTML\n",
    "# equivalent to rcParams['animation.html'] = 'html5'\n",
    "rc('animation', html='jshtml')\n",
    "\n",
    "\n",
    "# First set up the figure, the axis, and the plot element we want to animate\n",
    "fig = plt.figure()\n",
    "ax = plt.axes(xlim=(0, 2), ylim=(-2, 2))\n",
    "line, = ax.plot([], [], lw=2)\n",
    "\n",
    "# initialization function: plot the background of each frame\n",
    "def init():\n",
    "    line.set_data([], [])\n",
    "    return line,\n",
    "\n",
    "# animation function.  This is called sequentially\n",
    "def animate(i):\n",
    "    x = np.linspace(0, 2, 1000)\n",
    "    y = np.sin(2 * np.pi * (x - 0.01 * i))\n",
    "    line.set_data(x, y)\n",
    "    return line,\n",
    "\n",
    "# call the animator.  blit=True means only re-draw the parts that have changed.\n",
    "anim = animation.FuncAnimation(fig, animate, init_func=init,\n",
    "                               frames=3, interval=200, blit=True)\n",
    "\n",
    "# save the animation as an mp4.  This requires ffmpeg or mencoder to be\n",
    "# installed.  The extra_args ensure that the x264 codec is used, so that\n",
    "# the video can be embedded in html5.  You may need to adjust this for\n",
    "# your system: for more information, see\n",
    "# http://matplotlib.sourceforge.net/api/animation_api.html\n",
    "# anim.save('basic_animation.mp4', fps=30, extra_args=['-vcodec', 'libx264'])\n",
    "anim"
   ]
  },
  {
   "cell_type": "code",
   "execution_count": null,
   "metadata": {},
   "outputs": [],
   "source": []
  }
 ],
 "metadata": {
  "kernelspec": {
   "display_name": "Python 3",
   "language": "python",
   "name": "python3"
  },
  "language_info": {
   "codemirror_mode": {
    "name": "ipython",
    "version": 3
   },
   "file_extension": ".py",
   "mimetype": "text/x-python",
   "name": "python",
   "nbconvert_exporter": "python",
   "pygments_lexer": "ipython3",
   "version": "3.7.2"
  }
 },
 "nbformat": 4,
 "nbformat_minor": 2
}
